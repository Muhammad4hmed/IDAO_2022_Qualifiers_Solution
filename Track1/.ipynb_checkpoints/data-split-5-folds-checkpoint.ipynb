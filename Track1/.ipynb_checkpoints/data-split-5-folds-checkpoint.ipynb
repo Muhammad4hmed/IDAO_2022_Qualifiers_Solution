{
 "cells": [
  {
   "cell_type": "code",
   "execution_count": 1,
   "id": "d098538e",
   "metadata": {
    "execution": {
     "iopub.execute_input": "2022-02-01T18:03:20.485886Z",
     "iopub.status.busy": "2022-02-01T18:03:20.484523Z",
     "iopub.status.idle": "2022-02-01T18:04:44.830916Z",
     "shell.execute_reply": "2022-02-01T18:04:44.830025Z",
     "shell.execute_reply.started": "2022-02-01T17:07:31.239787Z"
    },
    "papermill": {
     "duration": 84.370685,
     "end_time": "2022-02-01T18:04:44.831112",
     "exception": false,
     "start_time": "2022-02-01T18:03:20.460427",
     "status": "completed"
    },
    "tags": []
   },
   "outputs": [],
   "source": [
    "!pip install pymatgen -qq"
   ]
  },
  {
   "cell_type": "code",
   "execution_count": 2,
   "id": "53a76b2f",
   "metadata": {
    "execution": {
     "iopub.execute_input": "2022-02-01T18:04:44.874705Z",
     "iopub.status.busy": "2022-02-01T18:04:44.874003Z",
     "iopub.status.idle": "2022-02-01T18:04:51.291360Z",
     "shell.execute_reply": "2022-02-01T18:04:51.290389Z",
     "shell.execute_reply.started": "2022-02-01T17:55:46.379520Z"
    },
    "papermill": {
     "duration": 6.441342,
     "end_time": "2022-02-01T18:04:51.291513",
     "exception": false,
     "start_time": "2022-02-01T18:04:44.850171",
     "status": "completed"
    },
    "tags": []
   },
   "outputs": [],
   "source": [
    "import yaml\n",
    "import json\n",
    "\n",
    "import pandas as pd\n",
    "import numpy as np\n",
    "import tensorflow as tf\n",
    "\n",
    "from pathlib import Path\n",
    "from pymatgen.core import Structure\n",
    "from sklearn.model_selection import StratifiedKFold"
   ]
  },
  {
   "cell_type": "code",
   "execution_count": 3,
   "id": "14089daa",
   "metadata": {
    "execution": {
     "iopub.execute_input": "2022-02-01T18:04:51.337812Z",
     "iopub.status.busy": "2022-02-01T18:04:51.335700Z",
     "iopub.status.idle": "2022-02-01T18:04:51.340086Z",
     "shell.execute_reply": "2022-02-01T18:04:51.340544Z",
     "shell.execute_reply.started": "2022-02-01T17:08:59.726803Z"
    },
    "papermill": {
     "duration": 0.03124,
     "end_time": "2022-02-01T18:04:51.340742",
     "exception": false,
     "start_time": "2022-02-01T18:04:51.309502",
     "status": "completed"
    },
    "tags": []
   },
   "outputs": [],
   "source": [
    "def read_pymatgen_dict(file):\n",
    "    with open(file, \"r\") as f:\n",
    "        d = json.load(f)\n",
    "    return Structure.from_dict(d)\n",
    "\n",
    "\n",
    "def energy_within_threshold(prediction, target):\n",
    "    # compute absolute error on energy per system.\n",
    "    # then count the no. of systems where max energy error is < 0.02.\n",
    "    e_thresh = 0.02\n",
    "    error_energy = tf.math.abs(target - prediction)\n",
    "\n",
    "    success = tf.math.count_nonzero(error_energy < e_thresh)\n",
    "    total = tf.size(target)\n",
    "    return success / tf.cast(total, tf.int64)\n",
    "\n",
    "def prepare_dataset(dataset_path):\n",
    "    dataset_path = Path(dataset_path)\n",
    "    targets = pd.read_csv(dataset_path / \"targets.csv\", index_col=0)\n",
    "    struct = {\n",
    "        item.name.strip(\".json\"): read_pymatgen_dict(item)\n",
    "        for item in (dataset_path / \"structures\").iterdir()\n",
    "    }\n",
    "\n",
    "    data = pd.DataFrame(columns=[\"structures\"], index=struct.keys())\n",
    "    data = data.assign(structures=struct.values(), targets=targets)\n",
    "\n",
    "    return data #train_test_split(data, test_size=0.25, random_state=666)"
   ]
  },
  {
   "cell_type": "code",
   "execution_count": 4,
   "id": "6c1c0ecd",
   "metadata": {
    "execution": {
     "iopub.execute_input": "2022-02-01T18:04:51.381366Z",
     "iopub.status.busy": "2022-02-01T18:04:51.380672Z",
     "iopub.status.idle": "2022-02-01T18:05:35.784032Z",
     "shell.execute_reply": "2022-02-01T18:05:35.783080Z",
     "shell.execute_reply.started": "2022-02-01T17:40:45.369199Z"
    },
    "papermill": {
     "duration": 44.424944,
     "end_time": "2022-02-01T18:05:35.784182",
     "exception": false,
     "start_time": "2022-02-01T18:04:51.359238",
     "status": "completed"
    },
    "tags": []
   },
   "outputs": [],
   "source": [
    "data = prepare_dataset('idao_2022_data/dichalcogenides_public/dichalcogenides_public')"
   ]
  },
  {
   "cell_type": "code",
   "execution_count": 5,
   "id": "e4ba17ad",
   "metadata": {
    "execution": {
     "iopub.execute_input": "2022-02-01T18:05:35.828621Z",
     "iopub.status.busy": "2022-02-01T18:05:35.827938Z",
     "iopub.status.idle": "2022-02-01T18:05:35.831193Z",
     "shell.execute_reply": "2022-02-01T18:05:35.831685Z",
     "shell.execute_reply.started": "2022-02-01T17:55:49.762047Z"
    },
    "papermill": {
     "duration": 0.029298,
     "end_time": "2022-02-01T18:05:35.831854",
     "exception": false,
     "start_time": "2022-02-01T18:05:35.802556",
     "status": "completed"
    },
    "tags": []
   },
   "outputs": [
    {
     "data": {
      "text/plain": [
       "(2966, 2)"
      ]
     },
     "execution_count": 5,
     "metadata": {},
     "output_type": "execute_result"
    }
   ],
   "source": [
    "data.shape"
   ]
  },
  {
   "cell_type": "code",
   "execution_count": 6,
   "id": "2e7fcb0e",
   "metadata": {
    "execution": {
     "iopub.execute_input": "2022-02-01T18:05:35.872663Z",
     "iopub.status.busy": "2022-02-01T18:05:35.871988Z",
     "iopub.status.idle": "2022-02-01T18:05:36.030813Z",
     "shell.execute_reply": "2022-02-01T18:05:36.029990Z",
     "shell.execute_reply.started": "2022-02-01T17:24:48.292529Z"
    },
    "papermill": {
     "duration": 0.180081,
     "end_time": "2022-02-01T18:05:36.030978",
     "exception": false,
     "start_time": "2022-02-01T18:05:35.850897",
     "status": "completed"
    },
    "tags": []
   },
   "outputs": [],
   "source": [
    "import seaborn as sns\n",
    "import matplotlib.pyplot as plt"
   ]
  },
  {
   "cell_type": "code",
   "execution_count": 7,
   "id": "af375928",
   "metadata": {
    "execution": {
     "iopub.execute_input": "2022-02-01T18:05:36.074919Z",
     "iopub.status.busy": "2022-02-01T18:05:36.074079Z",
     "iopub.status.idle": "2022-02-01T18:05:36.386599Z",
     "shell.execute_reply": "2022-02-01T18:05:36.385920Z",
     "shell.execute_reply.started": "2022-02-01T17:55:54.665831Z"
    },
    "papermill": {
     "duration": 0.336479,
     "end_time": "2022-02-01T18:05:36.386777",
     "exception": false,
     "start_time": "2022-02-01T18:05:36.050298",
     "status": "completed"
    },
    "tags": []
   },
   "outputs": [
    {
     "name": "stderr",
     "output_type": "stream",
     "text": [
      "/opt/conda/lib/python3.7/site-packages/seaborn/distributions.py:2619: FutureWarning: `distplot` is a deprecated function and will be removed in a future version. Please adapt your code to use either `displot` (a figure-level function with similar flexibility) or `histplot` (an axes-level function for histograms).\n",
      "  warnings.warn(msg, FutureWarning)\n"
     ]
    },
    {
     "data": {
      "text/plain": [
       "<AxesSubplot:xlabel='targets', ylabel='Density'>"
      ]
     },
     "execution_count": 7,
     "metadata": {},
     "output_type": "execute_result"
    },
    {
     "data": {
      "image/png": "[encoded data removed]",
      "text/plain": [
       "<Figure size 432x288 with 1 Axes>"
      ]
     },
     "metadata": {
      "needs_background": "light"
     },
     "output_type": "display_data"
    }
   ],
   "source": [
    "sns.distplot(data['targets'])"
   ]
  },
  {
   "cell_type": "code",
   "execution_count": 8,
   "id": "4f22d3f5",
   "metadata": {
    "execution": {
     "iopub.execute_input": "2022-02-01T18:05:36.433256Z",
     "iopub.status.busy": "2022-02-01T18:05:36.432561Z",
     "iopub.status.idle": "2022-02-01T18:05:36.438902Z",
     "shell.execute_reply": "2022-02-01T18:05:36.439376Z",
     "shell.execute_reply.started": "2022-02-01T17:59:49.031075Z"
    },
    "papermill": {
     "duration": 0.032571,
     "end_time": "2022-02-01T18:05:36.439552",
     "exception": false,
     "start_time": "2022-02-01T18:05:36.406981",
     "status": "completed"
    },
    "tags": []
   },
   "outputs": [],
   "source": [
    "data['Bins'] = pd.qcut(data['targets'], q = 10, labels = [1, 2, 3, 4, 5, 6, 7, 8, 9, 10])"
   ]
  },
  {
   "cell_type": "code",
   "execution_count": 9,
   "id": "bbd80e60",
   "metadata": {
    "execution": {
     "iopub.execute_input": "2022-02-01T18:05:36.487849Z",
     "iopub.status.busy": "2022-02-01T18:05:36.487146Z",
     "iopub.status.idle": "2022-02-01T18:05:36.489678Z",
     "shell.execute_reply": "2022-02-01T18:05:36.489110Z",
     "shell.execute_reply.started": "2022-02-01T17:59:49.184007Z"
    },
    "papermill": {
     "duration": 0.030397,
     "end_time": "2022-02-01T18:05:36.489834",
     "exception": false,
     "start_time": "2022-02-01T18:05:36.459437",
     "status": "completed"
    },
    "tags": []
   },
   "outputs": [],
   "source": [
    "data['Bins'] = data['Bins'].astype('int')"
   ]
  },
  {
   "cell_type": "code",
   "execution_count": 10,
   "id": "e651dd94",
   "metadata": {
    "execution": {
     "iopub.execute_input": "2022-02-01T18:05:36.536063Z",
     "iopub.status.busy": "2022-02-01T18:05:36.532768Z",
     "iopub.status.idle": "2022-02-01T18:05:36.538853Z",
     "shell.execute_reply": "2022-02-01T18:05:36.538270Z",
     "shell.execute_reply.started": "2022-02-01T17:59:50.237197Z"
    },
    "papermill": {
     "duration": 0.02899,
     "end_time": "2022-02-01T18:05:36.539004",
     "exception": false,
     "start_time": "2022-02-01T18:05:36.510014",
     "status": "completed"
    },
    "tags": []
   },
   "outputs": [],
   "source": [
    "data['Fold'] = np.nan"
   ]
  },
  {
   "cell_type": "code",
   "execution_count": 11,
   "id": "78b50a46",
   "metadata": {
    "execution": {
     "iopub.execute_input": "2022-02-01T18:05:36.587116Z",
     "iopub.status.busy": "2022-02-01T18:05:36.586047Z",
     "iopub.status.idle": "2022-02-01T18:05:36.591038Z",
     "shell.execute_reply": "2022-02-01T18:05:36.591497Z",
     "shell.execute_reply.started": "2022-02-01T18:01:16.961687Z"
    },
    "papermill": {
     "duration": 0.030934,
     "end_time": "2022-02-01T18:05:36.591693",
     "exception": false,
     "start_time": "2022-02-01T18:05:36.560759",
     "status": "completed"
    },
    "tags": []
   },
   "outputs": [],
   "source": [
    "data = data.reset_index()"
   ]
  },
  {
   "cell_type": "code",
   "execution_count": 12,
   "id": "e45f5ddb",
   "metadata": {
    "execution": {
     "iopub.execute_input": "2022-02-01T18:05:36.636782Z",
     "iopub.status.busy": "2022-02-01T18:05:36.635747Z",
     "iopub.status.idle": "2022-02-01T18:05:36.648545Z",
     "shell.execute_reply": "2022-02-01T18:05:36.647961Z",
     "shell.execute_reply.started": "2022-02-01T18:01:17.726741Z"
    },
    "papermill": {
     "duration": 0.036479,
     "end_time": "2022-02-01T18:05:36.648720",
     "exception": false,
     "start_time": "2022-02-01T18:05:36.612241",
     "status": "completed"
    },
    "tags": []
   },
   "outputs": [],
   "source": [
    "k = 0\n",
    "for (tr_in, val_in) in StratifiedKFold(n_splits=5).split(data['targets'], data['Bins']):\n",
    "    data.loc[val_in,'Fold'] = k\n",
    "    k += 1"
   ]
  },
  {
   "cell_type": "code",
   "execution_count": 13,
   "id": "ce8713e5",
   "metadata": {
    "execution": {
     "iopub.execute_input": "2022-02-01T18:05:36.699802Z",
     "iopub.status.busy": "2022-02-01T18:05:36.699097Z",
     "iopub.status.idle": "2022-02-01T18:05:36.702740Z",
     "shell.execute_reply": "2022-02-01T18:05:36.702195Z",
     "shell.execute_reply.started": "2022-02-01T18:01:39.158144Z"
    },
    "papermill": {
     "duration": 0.033042,
     "end_time": "2022-02-01T18:05:36.702879",
     "exception": false,
     "start_time": "2022-02-01T18:05:36.669837",
     "status": "completed"
    },
    "tags": []
   },
   "outputs": [
    {
     "data": {
      "text/plain": [
       "0.0    594\n",
       "1.0    593\n",
       "2.0    593\n",
       "3.0    593\n",
       "4.0    593\n",
       "Name: Fold, dtype: int64"
      ]
     },
     "execution_count": 13,
     "metadata": {},
     "output_type": "execute_result"
    }
   ],
   "source": [
    "data['Fold'].value_counts()"
   ]
  },
  {
   "cell_type": "code",
   "execution_count": 14,
   "id": "386a00fd",
   "metadata": {
    "execution": {
     "iopub.execute_input": "2022-02-01T18:05:36.751552Z",
     "iopub.status.busy": "2022-02-01T18:05:36.750873Z",
     "iopub.status.idle": "2022-02-01T18:05:36.974873Z",
     "shell.execute_reply": "2022-02-01T18:05:36.975412Z",
     "shell.execute_reply.started": "2022-02-01T18:02:04.590131Z"
    },
    "papermill": {
     "duration": 0.252422,
     "end_time": "2022-02-01T18:05:36.975599",
     "exception": false,
     "start_time": "2022-02-01T18:05:36.723177",
     "status": "completed"
    },
    "tags": []
   },
   "outputs": [
    {
     "name": "stderr",
     "output_type": "stream",
     "text": [
      "/opt/conda/lib/python3.7/site-packages/seaborn/distributions.py:2619: FutureWarning: `distplot` is a deprecated function and will be removed in a future version. Please adapt your code to use either `displot` (a figure-level function with similar flexibility) or `histplot` (an axes-level function for histograms).\n",
      "  warnings.warn(msg, FutureWarning)\n"
     ]
    },
    {
     "data": {
      "text/plain": [
       "<AxesSubplot:xlabel='targets', ylabel='Density'>"
      ]
     },
     "execution_count": 14,
     "metadata": {},
     "output_type": "execute_result"
    },
    {
     "data": {
      "image/png": "[encoded data removed]",
      "text/plain": [
       "<Figure size 432x288 with 1 Axes>"
      ]
     },
     "metadata": {
      "needs_background": "light"
     },
     "output_type": "display_data"
    }
   ],
   "source": [
    "sns.distplot(data[data['Fold'] == 0]['targets'])"
   ]
  },
  {
   "cell_type": "code",
   "execution_count": 15,
   "id": "57438865",
   "metadata": {
    "execution": {
     "iopub.execute_input": "2022-02-01T18:05:37.051125Z",
     "iopub.status.busy": "2022-02-01T18:05:37.042687Z",
     "iopub.status.idle": "2022-02-01T18:05:37.262544Z",
     "shell.execute_reply": "2022-02-01T18:05:37.261477Z",
     "shell.execute_reply.started": "2022-02-01T18:02:11.857818Z"
    },
    "papermill": {
     "duration": 0.263494,
     "end_time": "2022-02-01T18:05:37.262722",
     "exception": false,
     "start_time": "2022-02-01T18:05:36.999228",
     "status": "completed"
    },
    "tags": []
   },
   "outputs": [
    {
     "name": "stderr",
     "output_type": "stream",
     "text": [
      "/opt/conda/lib/python3.7/site-packages/seaborn/distributions.py:2619: FutureWarning: `distplot` is a deprecated function and will be removed in a future version. Please adapt your code to use either `displot` (a figure-level function with similar flexibility) or `histplot` (an axes-level function for histograms).\n",
      "  warnings.warn(msg, FutureWarning)\n"
     ]
    },
    {
     "data": {
      "text/plain": [
       "<AxesSubplot:xlabel='targets', ylabel='Density'>"
      ]
     },
     "execution_count": 15,
     "metadata": {},
     "output_type": "execute_result"
    },
    {
     "data": {
      "image/png": "[encoded data removed]",
      "text/plain": [
       "<Figure size 432x288 with 1 Axes>"
      ]
     },
     "metadata": {
      "needs_background": "light"
     },
     "output_type": "display_data"
    }
   ],
   "source": [
    "sns.distplot(data[data['Fold'] == 1]['targets'])"
   ]
  },
  {
   "cell_type": "code",
   "execution_count": 16,
   "id": "524aabee",
   "metadata": {
    "execution": {
     "iopub.execute_input": "2022-02-01T18:05:37.349526Z",
     "iopub.status.busy": "2022-02-01T18:05:37.336472Z",
     "iopub.status.idle": "2022-02-01T18:05:37.565658Z",
     "shell.execute_reply": "2022-02-01T18:05:37.564951Z",
     "shell.execute_reply.started": "2022-02-01T18:02:16.057165Z"
    },
    "papermill": {
     "duration": 0.2794,
     "end_time": "2022-02-01T18:05:37.565813",
     "exception": false,
     "start_time": "2022-02-01T18:05:37.286413",
     "status": "completed"
    },
    "tags": []
   },
   "outputs": [
    {
     "name": "stderr",
     "output_type": "stream",
     "text": [
      "/opt/conda/lib/python3.7/site-packages/seaborn/distributions.py:2619: FutureWarning: `distplot` is a deprecated function and will be removed in a future version. Please adapt your code to use either `displot` (a figure-level function with similar flexibility) or `histplot` (an axes-level function for histograms).\n",
      "  warnings.warn(msg, FutureWarning)\n"
     ]
    },
    {
     "data": {
      "text/plain": [
       "<AxesSubplot:xlabel='targets', ylabel='Density'>"
      ]
     },
     "execution_count": 16,
     "metadata": {},
     "output_type": "execute_result"
    },
    {
     "data": {
      "image/png": "[encoded data removed]",
      "text/plain": [
       "<Figure size 432x288 with 1 Axes>"
      ]
     },
     "metadata": {
      "needs_background": "light"
     },
     "output_type": "display_data"
    }
   ],
   "source": [
    "sns.distplot(data[data['Fold'] == 2]['targets'])"
   ]
  },
  {
   "cell_type": "code",
   "execution_count": 17,
   "id": "5b2be4dc",
   "metadata": {
    "execution": {
     "iopub.execute_input": "2022-02-01T18:05:37.642351Z",
     "iopub.status.busy": "2022-02-01T18:05:37.641448Z",
     "iopub.status.idle": "2022-02-01T18:05:37.852457Z",
     "shell.execute_reply": "2022-02-01T18:05:37.851897Z",
     "shell.execute_reply.started": "2022-02-01T18:02:19.489882Z"
    },
    "papermill": {
     "duration": 0.261446,
     "end_time": "2022-02-01T18:05:37.852595",
     "exception": false,
     "start_time": "2022-02-01T18:05:37.591149",
     "status": "completed"
    },
    "tags": []
   },
   "outputs": [
    {
     "name": "stderr",
     "output_type": "stream",
     "text": [
      "/opt/conda/lib/python3.7/site-packages/seaborn/distributions.py:2619: FutureWarning: `distplot` is a deprecated function and will be removed in a future version. Please adapt your code to use either `displot` (a figure-level function with similar flexibility) or `histplot` (an axes-level function for histograms).\n",
      "  warnings.warn(msg, FutureWarning)\n"
     ]
    },
    {
     "data": {
      "text/plain": [
       "<AxesSubplot:xlabel='targets', ylabel='Density'>"
      ]
     },
     "execution_count": 17,
     "metadata": {},
     "output_type": "execute_result"
    },
    {
     "data": {
      "image/png": "[encoded data removed]",
      "text/plain": [
       "<Figure size 432x288 with 1 Axes>"
      ]
     },
     "metadata": {
      "needs_background": "light"
     },
     "output_type": "display_data"
    }
   ],
   "source": [
    "sns.distplot(data[data['Fold'] == 3]['targets'])"
   ]
  },
  {
   "cell_type": "code",
   "execution_count": 18,
   "id": "fe7885f9",
   "metadata": {
    "execution": {
     "iopub.execute_input": "2022-02-01T18:05:37.941203Z",
     "iopub.status.busy": "2022-02-01T18:05:37.932234Z",
     "iopub.status.idle": "2022-02-01T18:05:38.147016Z",
     "shell.execute_reply": "2022-02-01T18:05:38.146367Z",
     "shell.execute_reply.started": "2022-02-01T18:02:23.231569Z"
    },
    "papermill": {
     "duration": 0.267336,
     "end_time": "2022-02-01T18:05:38.147175",
     "exception": false,
     "start_time": "2022-02-01T18:05:37.879839",
     "status": "completed"
    },
    "tags": []
   },
   "outputs": [
    {
     "name": "stderr",
     "output_type": "stream",
     "text": [
      "/opt/conda/lib/python3.7/site-packages/seaborn/distributions.py:2619: FutureWarning: `distplot` is a deprecated function and will be removed in a future version. Please adapt your code to use either `displot` (a figure-level function with similar flexibility) or `histplot` (an axes-level function for histograms).\n",
      "  warnings.warn(msg, FutureWarning)\n"
     ]
    },
    {
     "data": {
      "text/plain": [
       "<AxesSubplot:xlabel='targets', ylabel='Density'>"
      ]
     },
     "execution_count": 18,
     "metadata": {},
     "output_type": "execute_result"
    },
    {
     "data": {
      "image/png": "[encoded data removed]",
      "text/plain": [
       "<Figure size 432x288 with 1 Axes>"
      ]
     },
     "metadata": {
      "needs_background": "light"
     },
     "output_type": "display_data"
    }
   ],
   "source": [
    "sns.distplot(data[data['Fold'] == 4]['targets'])"
   ]
  },
  {
   "cell_type": "code",
   "execution_count": 19,
   "id": "143025f8",
   "metadata": {
    "execution": {
     "iopub.execute_input": "2022-02-01T18:05:38.212812Z",
     "iopub.status.busy": "2022-02-01T18:05:38.212068Z",
     "iopub.status.idle": "2022-02-01T18:05:38.489454Z",
     "shell.execute_reply": "2022-02-01T18:05:38.488788Z",
     "shell.execute_reply.started": "2022-02-01T18:02:46.817305Z"
    },
    "papermill": {
     "duration": 0.314416,
     "end_time": "2022-02-01T18:05:38.489613",
     "exception": false,
     "start_time": "2022-02-01T18:05:38.175197",
     "status": "completed"
    },
    "tags": []
   },
   "outputs": [
    {
     "data": {
      "text/html": [
       "<div>\n",
       "<style scoped>\n",
       "    .dataframe tbody tr th:only-of-type {\n",
       "        vertical-align: middle;\n",
       "    }\n",
       "\n",
       "    .dataframe tbody tr th {\n",
       "        vertical-align: top;\n",
       "    }\n",
       "\n",
       "    .dataframe thead th {\n",
       "        text-align: right;\n",
       "    }\n",
       "</style>\n",
       "<table border=\"1\" class=\"dataframe\">\n",
       "  <thead>\n",
       "    <tr style=\"text-align: right;\">\n",
       "      <th></th>\n",
       "      <th>index</th>\n",
       "      <th>structures</th>\n",
       "      <th>targets</th>\n",
       "      <th>Fold</th>\n",
       "    </tr>\n",
       "  </thead>\n",
       "  <tbody>\n",
       "    <tr>\n",
       "      <th>0</th>\n",
       "      <td>6141d279ee0a3fd43fb47b1d</td>\n",
       "      <td>[[1.27612629e-07 1.84192955e+00 3.71975100e+00...</td>\n",
       "      <td>0.3579</td>\n",
       "      <td>0.0</td>\n",
       "    </tr>\n",
       "    <tr>\n",
       "      <th>1</th>\n",
       "      <td>61423dff31cf3ef3d4a9f402</td>\n",
       "      <td>[[1.27612629e-07 1.84192955e+00 3.71975100e+00...</td>\n",
       "      <td>0.4074</td>\n",
       "      <td>0.0</td>\n",
       "    </tr>\n",
       "    <tr>\n",
       "      <th>2</th>\n",
       "      <td>61425c963ac25c70a5c6cb97</td>\n",
       "      <td>[[1.27612629e-07 1.84192955e+00 3.71975100e+00...</td>\n",
       "      <td>0.3482</td>\n",
       "      <td>0.0</td>\n",
       "    </tr>\n",
       "    <tr>\n",
       "      <th>3</th>\n",
       "      <td>6142cb6a31cf3ef3d4a9f62e</td>\n",
       "      <td>[[1.27612629e-07 1.84192955e+00 3.71975100e+00...</td>\n",
       "      <td>0.4165</td>\n",
       "      <td>0.0</td>\n",
       "    </tr>\n",
       "    <tr>\n",
       "      <th>4</th>\n",
       "      <td>6141d21131cf3ef3d4a9ee7a</td>\n",
       "      <td>[[1.27612629e-07 1.84192955e+00 3.71975100e+00...</td>\n",
       "      <td>0.4022</td>\n",
       "      <td>0.0</td>\n",
       "    </tr>\n",
       "    <tr>\n",
       "      <th>...</th>\n",
       "      <td>...</td>\n",
       "      <td>...</td>\n",
       "      <td>...</td>\n",
       "      <td>...</td>\n",
       "    </tr>\n",
       "    <tr>\n",
       "      <th>2961</th>\n",
       "      <td>6142bb1c31cf3ef3d4a9f602</td>\n",
       "      <td>[[1.27612629e-07 1.84192955e+00 3.71975100e+00...</td>\n",
       "      <td>0.4050</td>\n",
       "      <td>4.0</td>\n",
       "    </tr>\n",
       "    <tr>\n",
       "      <th>2962</th>\n",
       "      <td>6141f41a4e27a1844a5f046a</td>\n",
       "      <td>[[1.27612629e-07 1.84192955e+00 3.71975100e+00...</td>\n",
       "      <td>1.1407</td>\n",
       "      <td>4.0</td>\n",
       "    </tr>\n",
       "    <tr>\n",
       "      <th>2963</th>\n",
       "      <td>6141e73fbaaf234b35290476</td>\n",
       "      <td>[[1.27612629e-07 1.84192955e+00 3.71975100e+00...</td>\n",
       "      <td>1.0836</td>\n",
       "      <td>4.0</td>\n",
       "    </tr>\n",
       "    <tr>\n",
       "      <th>2964</th>\n",
       "      <td>6141f989ee0a3fd43fb47ddf</td>\n",
       "      <td>[[1.27612629e-07 1.84192955e+00 3.71975100e+00...</td>\n",
       "      <td>0.3531</td>\n",
       "      <td>4.0</td>\n",
       "    </tr>\n",
       "    <tr>\n",
       "      <th>2965</th>\n",
       "      <td>6141f06f9cbada84a8676b67</td>\n",
       "      <td>[[1.27612629e-07 1.84192955e+00 3.71975100e+00...</td>\n",
       "      <td>1.8089</td>\n",
       "      <td>4.0</td>\n",
       "    </tr>\n",
       "  </tbody>\n",
       "</table>\n",
       "<p>2966 rows × 4 columns</p>\n",
       "</div>"
      ],
      "text/plain": [
       "                         index  \\\n",
       "0     6141d279ee0a3fd43fb47b1d   \n",
       "1     61423dff31cf3ef3d4a9f402   \n",
       "2     61425c963ac25c70a5c6cb97   \n",
       "3     6142cb6a31cf3ef3d4a9f62e   \n",
       "4     6141d21131cf3ef3d4a9ee7a   \n",
       "...                        ...   \n",
       "2961  6142bb1c31cf3ef3d4a9f602   \n",
       "2962  6141f41a4e27a1844a5f046a   \n",
       "2963  6141e73fbaaf234b35290476   \n",
       "2964  6141f989ee0a3fd43fb47ddf   \n",
       "2965  6141f06f9cbada84a8676b67   \n",
       "\n",
       "                                             structures  targets  Fold  \n",
       "0     [[1.27612629e-07 1.84192955e+00 3.71975100e+00...   0.3579   0.0  \n",
       "1     [[1.27612629e-07 1.84192955e+00 3.71975100e+00...   0.4074   0.0  \n",
       "2     [[1.27612629e-07 1.84192955e+00 3.71975100e+00...   0.3482   0.0  \n",
       "3     [[1.27612629e-07 1.84192955e+00 3.71975100e+00...   0.4165   0.0  \n",
       "4     [[1.27612629e-07 1.84192955e+00 3.71975100e+00...   0.4022   0.0  \n",
       "...                                                 ...      ...   ...  \n",
       "2961  [[1.27612629e-07 1.84192955e+00 3.71975100e+00...   0.4050   4.0  \n",
       "2962  [[1.27612629e-07 1.84192955e+00 3.71975100e+00...   1.1407   4.0  \n",
       "2963  [[1.27612629e-07 1.84192955e+00 3.71975100e+00...   1.0836   4.0  \n",
       "2964  [[1.27612629e-07 1.84192955e+00 3.71975100e+00...   0.3531   4.0  \n",
       "2965  [[1.27612629e-07 1.84192955e+00 3.71975100e+00...   1.8089   4.0  \n",
       "\n",
       "[2966 rows x 4 columns]"
      ]
     },
     "execution_count": 19,
     "metadata": {},
     "output_type": "execute_result"
    }
   ],
   "source": [
    "data.drop(['Bins'], axis=1,inplace=True)\n",
    "data"
   ]
  },
  {
   "cell_type": "code",
   "execution_count": 20,
   "id": "07529cc8",
   "metadata": {
    "execution": {
     "iopub.execute_input": "2022-02-01T18:05:38.553103Z",
     "iopub.status.busy": "2022-02-01T18:05:38.552353Z",
     "iopub.status.idle": "2022-02-01T18:07:06.210980Z",
     "shell.execute_reply": "2022-02-01T18:07:06.210240Z",
     "shell.execute_reply.started": "2022-02-01T17:37:30.431804Z"
    },
    "papermill": {
     "duration": 87.692111,
     "end_time": "2022-02-01T18:07:06.211148",
     "exception": false,
     "start_time": "2022-02-01T18:05:38.519037",
     "status": "completed"
    },
    "tags": []
   },
   "outputs": [],
   "source": [
    "data.to_csv('IDAO_Data_Folds.csv')"
   ]
  },
  {
   "cell_type": "code",
   "execution_count": 21,
   "id": "3fc4de38",
   "metadata": {
    "execution": {
     "iopub.execute_input": "2022-02-01T18:07:06.274357Z",
     "iopub.status.busy": "2022-02-01T18:07:06.273715Z",
     "iopub.status.idle": "2022-02-01T18:07:06.485226Z",
     "shell.execute_reply": "2022-02-01T18:07:06.485762Z",
     "shell.execute_reply.started": "2022-02-01T17:38:59.781564Z"
    },
    "papermill": {
     "duration": 0.245501,
     "end_time": "2022-02-01T18:07:06.485936",
     "exception": false,
     "start_time": "2022-02-01T18:07:06.240435",
     "status": "completed"
    },
    "tags": []
   },
   "outputs": [
    {
     "data": {
      "text/html": [
       "<div>\n",
       "<style scoped>\n",
       "    .dataframe tbody tr th:only-of-type {\n",
       "        vertical-align: middle;\n",
       "    }\n",
       "\n",
       "    .dataframe tbody tr th {\n",
       "        vertical-align: top;\n",
       "    }\n",
       "\n",
       "    .dataframe thead th {\n",
       "        text-align: right;\n",
       "    }\n",
       "</style>\n",
       "<table border=\"1\" class=\"dataframe\">\n",
       "  <thead>\n",
       "    <tr style=\"text-align: right;\">\n",
       "      <th></th>\n",
       "      <th>Unnamed: 0</th>\n",
       "      <th>index</th>\n",
       "      <th>structures</th>\n",
       "      <th>targets</th>\n",
       "      <th>Fold</th>\n",
       "    </tr>\n",
       "  </thead>\n",
       "  <tbody>\n",
       "    <tr>\n",
       "      <th>0</th>\n",
       "      <td>0</td>\n",
       "      <td>6141d279ee0a3fd43fb47b1d</td>\n",
       "      <td>Full Formula (Mo63 Se2 S126)\\nReduced Formula:...</td>\n",
       "      <td>0.3579</td>\n",
       "      <td>0.0</td>\n",
       "    </tr>\n",
       "    <tr>\n",
       "      <th>1</th>\n",
       "      <td>1</td>\n",
       "      <td>61423dff31cf3ef3d4a9f402</td>\n",
       "      <td>Full Formula (Mo63 Se1 S126)\\nReduced Formula:...</td>\n",
       "      <td>0.4074</td>\n",
       "      <td>0.0</td>\n",
       "    </tr>\n",
       "    <tr>\n",
       "      <th>2</th>\n",
       "      <td>2</td>\n",
       "      <td>61425c963ac25c70a5c6cb97</td>\n",
       "      <td>Full Formula (Mo63 S126)\\nReduced Formula: MoS...</td>\n",
       "      <td>0.3482</td>\n",
       "      <td>0.0</td>\n",
       "    </tr>\n",
       "    <tr>\n",
       "      <th>3</th>\n",
       "      <td>3</td>\n",
       "      <td>6142cb6a31cf3ef3d4a9f62e</td>\n",
       "      <td>Full Formula (Mo63 Se1 S126)\\nReduced Formula:...</td>\n",
       "      <td>0.4165</td>\n",
       "      <td>0.0</td>\n",
       "    </tr>\n",
       "    <tr>\n",
       "      <th>4</th>\n",
       "      <td>4</td>\n",
       "      <td>6141d21131cf3ef3d4a9ee7a</td>\n",
       "      <td>Full Formula (Mo63 Se1 S126)\\nReduced Formula:...</td>\n",
       "      <td>0.4022</td>\n",
       "      <td>0.0</td>\n",
       "    </tr>\n",
       "    <tr>\n",
       "      <th>...</th>\n",
       "      <td>...</td>\n",
       "      <td>...</td>\n",
       "      <td>...</td>\n",
       "      <td>...</td>\n",
       "      <td>...</td>\n",
       "    </tr>\n",
       "    <tr>\n",
       "      <th>2961</th>\n",
       "      <td>2961</td>\n",
       "      <td>6142bb1c31cf3ef3d4a9f602</td>\n",
       "      <td>Full Formula (Mo63 Se1 S126)\\nReduced Formula:...</td>\n",
       "      <td>0.4050</td>\n",
       "      <td>4.0</td>\n",
       "    </tr>\n",
       "    <tr>\n",
       "      <th>2962</th>\n",
       "      <td>2962</td>\n",
       "      <td>6141f41a4e27a1844a5f046a</td>\n",
       "      <td>Full Formula (Mo63 W1 Se1 S126)\\nReduced Formu...</td>\n",
       "      <td>1.1407</td>\n",
       "      <td>4.0</td>\n",
       "    </tr>\n",
       "    <tr>\n",
       "      <th>2963</th>\n",
       "      <td>2963</td>\n",
       "      <td>6141e73fbaaf234b35290476</td>\n",
       "      <td>Full Formula (Mo63 W1 S126)\\nReduced Formula: ...</td>\n",
       "      <td>1.0836</td>\n",
       "      <td>4.0</td>\n",
       "    </tr>\n",
       "    <tr>\n",
       "      <th>2964</th>\n",
       "      <td>2964</td>\n",
       "      <td>6141f989ee0a3fd43fb47ddf</td>\n",
       "      <td>Full Formula (Mo63 Se2 S126)\\nReduced Formula:...</td>\n",
       "      <td>0.3531</td>\n",
       "      <td>4.0</td>\n",
       "    </tr>\n",
       "    <tr>\n",
       "      <th>2965</th>\n",
       "      <td>2965</td>\n",
       "      <td>6141f06f9cbada84a8676b67</td>\n",
       "      <td>Full Formula (Mo63 W1 Se2 S126)\\nReduced Formu...</td>\n",
       "      <td>1.8089</td>\n",
       "      <td>4.0</td>\n",
       "    </tr>\n",
       "  </tbody>\n",
       "</table>\n",
       "<p>2966 rows × 5 columns</p>\n",
       "</div>"
      ],
      "text/plain": [
       "      Unnamed: 0                     index  \\\n",
       "0              0  6141d279ee0a3fd43fb47b1d   \n",
       "1              1  61423dff31cf3ef3d4a9f402   \n",
       "2              2  61425c963ac25c70a5c6cb97   \n",
       "3              3  6142cb6a31cf3ef3d4a9f62e   \n",
       "4              4  6141d21131cf3ef3d4a9ee7a   \n",
       "...          ...                       ...   \n",
       "2961        2961  6142bb1c31cf3ef3d4a9f602   \n",
       "2962        2962  6141f41a4e27a1844a5f046a   \n",
       "2963        2963  6141e73fbaaf234b35290476   \n",
       "2964        2964  6141f989ee0a3fd43fb47ddf   \n",
       "2965        2965  6141f06f9cbada84a8676b67   \n",
       "\n",
       "                                             structures  targets  Fold  \n",
       "0     Full Formula (Mo63 Se2 S126)\\nReduced Formula:...   0.3579   0.0  \n",
       "1     Full Formula (Mo63 Se1 S126)\\nReduced Formula:...   0.4074   0.0  \n",
       "2     Full Formula (Mo63 S126)\\nReduced Formula: MoS...   0.3482   0.0  \n",
       "3     Full Formula (Mo63 Se1 S126)\\nReduced Formula:...   0.4165   0.0  \n",
       "4     Full Formula (Mo63 Se1 S126)\\nReduced Formula:...   0.4022   0.0  \n",
       "...                                                 ...      ...   ...  \n",
       "2961  Full Formula (Mo63 Se1 S126)\\nReduced Formula:...   0.4050   4.0  \n",
       "2962  Full Formula (Mo63 W1 Se1 S126)\\nReduced Formu...   1.1407   4.0  \n",
       "2963  Full Formula (Mo63 W1 S126)\\nReduced Formula: ...   1.0836   4.0  \n",
       "2964  Full Formula (Mo63 Se2 S126)\\nReduced Formula:...   0.3531   4.0  \n",
       "2965  Full Formula (Mo63 W1 Se2 S126)\\nReduced Formu...   1.8089   4.0  \n",
       "\n",
       "[2966 rows x 5 columns]"
      ]
     },
     "execution_count": 21,
     "metadata": {},
     "output_type": "execute_result"
    }
   ],
   "source": [
    "data = pd.read_csv('IDAO_Data_Folds.csv')\n",
    "data"
   ]
  },
  {
   "cell_type": "code",
   "execution_count": null,
   "id": "bba6614f",
   "metadata": {
    "papermill": {
     "duration": 0.029054,
     "end_time": "2022-02-01T18:07:06.543947",
     "exception": false,
     "start_time": "2022-02-01T18:07:06.514893",
     "status": "completed"
    },
    "tags": []
   },
   "outputs": [],
   "source": []
  }
 ],
 "metadata": {
  "kernelspec": {
   "display_name": "Python 3",
   "language": "python",
   "name": "python3"
  },
  "language_info": {
   "codemirror_mode": {
    "name": "ipython",
    "version": 3
   },
   "file_extension": ".py",
   "mimetype": "text/x-python",
   "name": "python",
   "nbconvert_exporter": "python",
   "pygments_lexer": "ipython3",
   "version": "3.8.8"
  },
  "papermill": {
   "default_parameters": {},
   "duration": 239.424716,
   "end_time": "2022-02-01T18:07:09.182672",
   "environment_variables": {},
   "exception": null,
   "input_path": "__notebook__.ipynb",
   "output_path": "__notebook__.ipynb",
   "parameters": {},
   "start_time": "2022-02-01T18:03:09.757956",
   "version": "2.3.3"
  }
 },
 "nbformat": 4,
 "nbformat_minor": 5
}
