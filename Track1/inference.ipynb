{
 "cells": [
  {
   "cell_type": "code",
   "execution_count": 1,
   "id": "27d8da96",
   "metadata": {
    "execution": {
     "iopub.execute_input": "2022-02-26T18:46:03.836816Z",
     "iopub.status.busy": "2022-02-26T18:46:03.834800Z",
     "iopub.status.idle": "2022-02-26T18:47:30.849025Z",
     "shell.execute_reply": "2022-02-26T18:47:30.848186Z",
     "shell.execute_reply.started": "2022-02-26T18:18:31.383443Z"
    },
    "papermill": {
     "duration": 87.06063,
     "end_time": "2022-02-26T18:47:30.849246",
     "exception": false,
     "start_time": "2022-02-26T18:46:03.788616",
     "status": "completed"
    },
    "tags": []
   },
   "outputs": [
    {
     "name": "stderr",
     "output_type": "stream",
     "text": [
      "  ERROR: Command errored out with exit status 1:\n",
      "   command: 'C:\\ProgramData\\Anaconda3\\python.exe' 'C:\\ProgramData\\Anaconda3\\lib\\site-packages\\pip\\_vendor\\pep517\\_in_process.py' build_wheel 'C:\\Users\\MUHAMM~1\\AppData\\Local\\Temp\\tmpytib8dnm'\n",
      "       cwd: C:\\Users\\Muhammad Ahmed\\AppData\\Local\\Temp\\pip-install-a9sak9d5\\spglib_52e3d420be284c71bad5433410a066d9\n",
      "  Complete output (12 lines):\n",
      "  setuptools is used.\n",
      "  running bdist_wheel\n",
      "  running build\n",
      "  running build_py\n",
      "  creating build\n",
      "  creating build\\lib.win-amd64-3.8\n",
      "  creating build\\lib.win-amd64-3.8\\spglib\n",
      "  copying spglib\\spglib.py -> build\\lib.win-amd64-3.8\\spglib\n",
      "  copying spglib\\__init__.py -> build\\lib.win-amd64-3.8\\spglib\n",
      "  running build_ext\n",
      "  building 'spglib._spglib' extension\n",
      "  error: Microsoft Visual C++ 14.0 or greater is required. Get it with \"Microsoft C++ Build Tools\": https://visualstudio.microsoft.com/visual-cpp-build-tools/\n",
      "  ----------------------------------------\n",
      "  ERROR: Failed building wheel for spglib\n",
      "ERROR: Could not build wheels for spglib which use PEP 517 and cannot be installed directly\n"
     ]
    }
   ],
   "source": [
    "!pip install megnet -qq"
   ]
  },
  {
   "cell_type": "code",
   "execution_count": 2,
   "id": "749aefe4",
   "metadata": {
    "execution": {
     "iopub.execute_input": "2022-02-26T18:47:30.942918Z",
     "iopub.status.busy": "2022-02-26T18:47:30.941517Z",
     "iopub.status.idle": "2022-02-26T18:47:41.001844Z",
     "shell.execute_reply": "2022-02-26T18:47:41.000497Z",
     "shell.execute_reply.started": "2022-02-26T18:19:48.953460Z"
    },
    "papermill": {
     "duration": 10.110239,
     "end_time": "2022-02-26T18:47:41.002207",
     "exception": false,
     "start_time": "2022-02-26T18:47:30.891968",
     "status": "completed"
    },
    "tags": []
   },
   "outputs": [
    {
     "name": "stderr",
     "output_type": "stream",
     "text": [
      "  ERROR: Command errored out with exit status 1:\n",
      "   command: 'C:\\ProgramData\\Anaconda3\\python.exe' 'C:\\ProgramData\\Anaconda3\\lib\\site-packages\\pip\\_vendor\\pep517\\_in_process.py' build_wheel 'C:\\Users\\MUHAMM~1\\AppData\\Local\\Temp\\tmpg5s8__qk'\n",
      "       cwd: C:\\Users\\Muhammad Ahmed\\AppData\\Local\\Temp\\pip-install-i_zv9nz_\\spglib_6b8905209a9a4989aaa13b736706ffb8\n",
      "  Complete output (12 lines):\n",
      "  setuptools is used.\n",
      "  running bdist_wheel\n",
      "  running build\n",
      "  running build_py\n",
      "  creating build\n",
      "  creating build\\lib.win-amd64-3.8\n",
      "  creating build\\lib.win-amd64-3.8\\spglib\n",
      "  copying spglib\\spglib.py -> build\\lib.win-amd64-3.8\\spglib\n",
      "  copying spglib\\__init__.py -> build\\lib.win-amd64-3.8\\spglib\n",
      "  running build_ext\n",
      "  building 'spglib._spglib' extension\n",
      "  error: Microsoft Visual C++ 14.0 or greater is required. Get it with \"Microsoft C++ Build Tools\": https://visualstudio.microsoft.com/visual-cpp-build-tools/\n",
      "  ----------------------------------------\n",
      "  ERROR: Failed building wheel for spglib\n",
      "ERROR: Could not build wheels for spglib which use PEP 517 and cannot be installed directly\n"
     ]
    }
   ],
   "source": [
    "!pip install pymatgen -qq"
   ]
  },
  {
   "cell_type": "code",
   "execution_count": 3,
   "id": "f33a362e",
   "metadata": {
    "_cell_guid": "b1076dfc-b9ad-4769-8c92-a6c4dae69d19",
    "_uuid": "8f2839f25d086af736a60e9eeb907d3b93b6e0e5",
    "execution": {
     "iopub.execute_input": "2022-02-26T18:47:41.108919Z",
     "iopub.status.busy": "2022-02-26T18:47:41.108186Z",
     "iopub.status.idle": "2022-02-26T18:47:52.908292Z",
     "shell.execute_reply": "2022-02-26T18:47:52.907226Z",
     "shell.execute_reply.started": "2022-02-26T18:19:56.656670Z"
    },
    "papermill": {
     "duration": 11.859582,
     "end_time": "2022-02-26T18:47:52.908627",
     "exception": false,
     "start_time": "2022-02-26T18:47:41.049045",
     "status": "completed"
    },
    "tags": []
   },
   "outputs": [
    {
     "ename": "ModuleNotFoundError",
     "evalue": "No module named 'tensorflow'",
     "output_type": "error",
     "traceback": [
      "\u001b[1;31m---------------------------------------------------------------------------\u001b[0m",
      "\u001b[1;31mModuleNotFoundError\u001b[0m                       Traceback (most recent call last)",
      "\u001b[1;32m<ipython-input-3-632f37b0bdd2>\u001b[0m in \u001b[0;36m<module>\u001b[1;34m\u001b[0m\n\u001b[0;32m      5\u001b[0m \u001b[1;32mimport\u001b[0m \u001b[0mnumpy\u001b[0m \u001b[1;32mas\u001b[0m \u001b[0mnp\u001b[0m\u001b[1;33m\u001b[0m\u001b[1;33m\u001b[0m\u001b[0m\n\u001b[0;32m      6\u001b[0m \u001b[1;32mfrom\u001b[0m \u001b[0mpathlib\u001b[0m \u001b[1;32mimport\u001b[0m \u001b[0mPath\u001b[0m\u001b[1;33m\u001b[0m\u001b[1;33m\u001b[0m\u001b[0m\n\u001b[1;32m----> 7\u001b[1;33m \u001b[1;32mimport\u001b[0m \u001b[0mtensorflow\u001b[0m \u001b[1;32mas\u001b[0m \u001b[0mtf\u001b[0m\u001b[1;33m\u001b[0m\u001b[1;33m\u001b[0m\u001b[0m\n\u001b[0m\u001b[0;32m      8\u001b[0m \u001b[1;33m\u001b[0m\u001b[0m\n\u001b[0;32m      9\u001b[0m \u001b[1;32mfrom\u001b[0m \u001b[0mpathlib\u001b[0m \u001b[1;32mimport\u001b[0m \u001b[0mPath\u001b[0m\u001b[1;33m\u001b[0m\u001b[1;33m\u001b[0m\u001b[0m\n",
      "\u001b[1;31mModuleNotFoundError\u001b[0m: No module named 'tensorflow'"
     ]
    }
   ],
   "source": [
    "import yaml\n",
    "import json\n",
    "\n",
    "import pandas as pd\n",
    "import numpy as np\n",
    "from pathlib import Path\n",
    "import tensorflow as tf\n",
    "\n",
    "from pathlib import Path\n",
    "from pymatgen.core import Structure\n",
    "from sklearn.model_selection import train_test_split\n",
    "from megnet.models import MEGNetModel\n",
    "from megnet.data.crystal import CrystalGraph"
   ]
  },
  {
   "cell_type": "code",
   "execution_count": null,
   "id": "3ab81848",
   "metadata": {
    "execution": {
     "iopub.execute_input": "2022-02-26T18:47:53.039831Z",
     "iopub.status.busy": "2022-02-26T18:47:53.038346Z",
     "iopub.status.idle": "2022-02-26T18:47:53.041841Z",
     "shell.execute_reply": "2022-02-26T18:47:53.041043Z",
     "shell.execute_reply.started": "2022-02-26T18:20:04.494897Z"
    },
    "papermill": {
     "duration": 0.068778,
     "end_time": "2022-02-26T18:47:53.042077",
     "exception": false,
     "start_time": "2022-02-26T18:47:52.973299",
     "status": "completed"
    },
    "tags": []
   },
   "outputs": [],
   "source": [
    "class config:\n",
    "    datapath = 'idao_2022_data/dichalcogenides_public/dichalcogenides_public'\n",
    "    test_datapath = 'idao_2022_data/dichalcogenides_private/dichalcogenides_private'\n",
    "    checkpoint_path = 'idao_2022_data/val_mae_00014_0.028897.hdf5'\n",
    "    epochs = 800\n",
    "    batch_size = 128\n",
    "    lr = 2e-4 \n",
    "    cutoff = 4"
   ]
  },
  {
   "cell_type": "code",
   "execution_count": null,
   "id": "d1a785ec",
   "metadata": {
    "execution": {
     "iopub.execute_input": "2022-02-26T18:47:53.178139Z",
     "iopub.status.busy": "2022-02-26T18:47:53.177397Z",
     "iopub.status.idle": "2022-02-26T18:47:53.180494Z",
     "shell.execute_reply": "2022-02-26T18:47:53.181019Z",
     "shell.execute_reply.started": "2022-02-26T18:20:04.504700Z"
    },
    "papermill": {
     "duration": 0.075746,
     "end_time": "2022-02-26T18:47:53.181215",
     "exception": false,
     "start_time": "2022-02-26T18:47:53.105469",
     "status": "completed"
    },
    "tags": []
   },
   "outputs": [],
   "source": [
    "def read_pymatgen_dict(file):\n",
    "    with open(file, \"r\") as f:\n",
    "        d = json.load(f)\n",
    "    return Structure.from_dict(d)\n",
    "\n",
    "en = None\n",
    "def energy_within_threshold(prediction, target):\n",
    "    global en\n",
    "    # compute absolute error on energy per system.\n",
    "    # then count the no. of systems where max energy error is < 0.02.\n",
    "    e_thresh = 0.02\n",
    "    error_energy = tf.math.abs(target - prediction)\n",
    "    en = error_energy\n",
    "    success = tf.math.count_nonzero(error_energy < e_thresh)\n",
    "    total = tf.size(target)\n",
    "    return success / tf.cast(total, tf.int64)\n",
    "\n",
    "def prepare_dataset(dataset_path):\n",
    "    dataset_path = Path(dataset_path)\n",
    "    targets = pd.read_csv(dataset_path / \"targets.csv\", index_col=0)\n",
    "    struct = {\n",
    "        item.name.strip(\".json\"): read_pymatgen_dict(item)\n",
    "        for item in (dataset_path / \"structures\").iterdir()\n",
    "    }\n",
    "\n",
    "    data = pd.DataFrame(columns=[\"structures\"], index=struct.keys())\n",
    "    data = data.assign(structures=struct.values(), targets=targets)\n",
    "\n",
    "    return train_test_split(data, test_size=0.25, random_state=666)\n",
    "\n",
    " \n",
    "def prepare_model(cutoff, lr):\n",
    "    nfeat_bond = 10\n",
    "    r_cutoff = cutoff\n",
    "    gaussian_centers = np.linspace(0, r_cutoff + 1, nfeat_bond)\n",
    "    gaussian_width = 0.8\n",
    "    model = MEGNetModel(\n",
    "        graph_converter=CrystalGraph(cutoff=r_cutoff),\n",
    "        centers=gaussian_centers,\n",
    "        width=gaussian_width,\n",
    "        loss=[\"MSE\"],\n",
    "        npass=2,\n",
    "        lr=lr,\n",
    "        metrics=energy_within_threshold\n",
    "    )\n",
    "#     ['Eform_MP_2019', 'Eform_MP_2018', 'Efermi_MP_2019', 'Bandgap_classifier_MP_2018', 'Bandgap_MP_2018', 'logK_MP_2018', 'logG_MP_2018', 'logK_MP_2019', 'logG_MP_2019']\n",
    "#     best = Efermi_MP_2019 some others: 'Eform_MP_2019', 'Eform_MP_2018'\n",
    "    model = model.from_file(\"mvl_models/mvl_models/mp-2019.4.1/efermi.hdf5\") \n",
    "    model.loss = ['MAE']\n",
    "    model.metrics = energy_within_threshold\n",
    "    return model"
   ]
  },
  {
   "cell_type": "code",
   "execution_count": null,
   "id": "62426aae",
   "metadata": {
    "execution": {
     "iopub.execute_input": "2022-02-26T18:47:53.263912Z",
     "iopub.status.busy": "2022-02-26T18:47:53.262904Z",
     "iopub.status.idle": "2022-02-26T18:47:53.265585Z",
     "shell.execute_reply": "2022-02-26T18:47:53.266141Z",
     "shell.execute_reply.started": "2022-02-26T18:20:04.526602Z"
    },
    "papermill": {
     "duration": 0.047363,
     "end_time": "2022-02-26T18:47:53.266337",
     "exception": false,
     "start_time": "2022-02-26T18:47:53.218974",
     "status": "completed"
    },
    "tags": []
   },
   "outputs": [],
   "source": [
    "dataset_path = Path(config.datapath)"
   ]
  },
  {
   "cell_type": "code",
   "execution_count": null,
   "id": "08b9c9d9",
   "metadata": {
    "execution": {
     "iopub.execute_input": "2022-02-26T18:47:53.348085Z",
     "iopub.status.busy": "2022-02-26T18:47:53.347071Z",
     "iopub.status.idle": "2022-02-26T18:48:45.640479Z",
     "shell.execute_reply": "2022-02-26T18:48:45.639695Z",
     "shell.execute_reply.started": "2022-02-26T18:20:04.541673Z"
    },
    "papermill": {
     "duration": 52.334962,
     "end_time": "2022-02-26T18:48:45.640673",
     "exception": false,
     "start_time": "2022-02-26T18:47:53.305711",
     "status": "completed"
    },
    "tags": []
   },
   "outputs": [],
   "source": [
    "struct = {item.name.strip('.json'): read_pymatgen_dict(item) for item in (dataset_path/'structures').iterdir()}"
   ]
  },
  {
   "cell_type": "code",
   "execution_count": null,
   "id": "dca07220",
   "metadata": {
    "execution": {
     "iopub.execute_input": "2022-02-26T18:48:45.726610Z",
     "iopub.status.busy": "2022-02-26T18:48:45.725323Z",
     "iopub.status.idle": "2022-02-26T18:48:45.727759Z",
     "shell.execute_reply": "2022-02-26T18:48:45.728287Z",
     "shell.execute_reply.started": "2022-02-26T18:20:34.502526Z"
    },
    "papermill": {
     "duration": 0.047564,
     "end_time": "2022-02-26T18:48:45.728481",
     "exception": false,
     "start_time": "2022-02-26T18:48:45.680917",
     "status": "completed"
    },
    "tags": []
   },
   "outputs": [],
   "source": [
    "import tqdm"
   ]
  },
  {
   "cell_type": "code",
   "execution_count": null,
   "id": "4ac271e2",
   "metadata": {
    "execution": {
     "iopub.execute_input": "2022-02-26T18:48:45.809045Z",
     "iopub.status.busy": "2022-02-26T18:48:45.808230Z",
     "iopub.status.idle": "2022-02-26T18:48:45.811904Z",
     "shell.execute_reply": "2022-02-26T18:48:45.811259Z",
     "shell.execute_reply.started": "2022-02-26T18:20:34.508790Z"
    },
    "papermill": {
     "duration": 0.046062,
     "end_time": "2022-02-26T18:48:45.812084",
     "exception": false,
     "start_time": "2022-02-26T18:48:45.766022",
     "status": "completed"
    },
    "tags": []
   },
   "outputs": [],
   "source": [
    "models_path = [\n",
    "    'Efermi_MP_2019_Weights/val_mae_00011_0.009874_fold0.hdf5',\n",
    "    'Efermi_MP_2019_Weights/val_mae_00025_0.005614_fold1.hdf5',\n",
    "    'Efermi_MP_2019_Weights/val_mae_00013_0.007578_fold2.hdf5',\n",
    "    'Efermi_MP_2019_Weights/val_mae_00016_0.007441_fold3.hdf5',\n",
    "    'Efermi_MP_2019_Weights/val_mae_00007_0.007703_fold4.hdf5',\n",
    "    \n",
    "    'Efermi_MP_2019_Weights/val_mae_00007_0.010768_fold0.hdf5',\n",
    "    'Efermi_MP_2019_Weights/val_mae_00023_0.005869_fold1.hdf5',\n",
    "    'Efermi_MP_2019_Weights/val_mae_00014_0.008344_fold2.hdf5',\n",
    "    'Efermi_MP_2019_Weights/val_mae_00019_0.007814_fold3.hdf5',\n",
    "    'Efermi_MP_2019_Weights/val_mae_00007_0.008662_fold4.hdf5'\n",
    "]"
   ]
  },
  {
   "cell_type": "code",
   "execution_count": null,
   "id": "4896b8fc",
   "metadata": {
    "execution": {
     "iopub.execute_input": "2022-02-26T18:48:45.936757Z",
     "iopub.status.busy": "2022-02-26T18:48:45.928643Z",
     "iopub.status.idle": "2022-02-26T19:23:28.537530Z",
     "shell.execute_reply": "2022-02-26T19:23:28.535782Z",
     "shell.execute_reply.started": "2022-02-26T18:20:34.542475Z"
    },
    "papermill": {
     "duration": 2082.688453,
     "end_time": "2022-02-26T19:23:28.537775",
     "exception": false,
     "start_time": "2022-02-26T18:48:45.849322",
     "status": "completed"
    },
    "tags": []
   },
   "outputs": [],
   "source": [
    "public_test = pd.DataFrame(columns=['id', 'structures'], index=struct.keys())\n",
    "public_test = public_test.assign(structures=struct.values())\n",
    "predictions =[]\n",
    "for path in tqdm.tqdm(models_path):\n",
    "    model = prepare_model(\n",
    "        float(config.cutoff), float(config.lr)\n",
    "    )\n",
    "    model.load_weights(path)\n",
    "    predictions.append(model.predict_structures(public_test.structures))"
   ]
  },
  {
   "cell_type": "code",
   "execution_count": null,
   "id": "79021a8b",
   "metadata": {
    "execution": {
     "iopub.execute_input": "2022-02-26T19:23:28.636842Z",
     "iopub.status.busy": "2022-02-26T19:23:28.635958Z",
     "iopub.status.idle": "2022-02-26T19:23:28.644506Z",
     "shell.execute_reply": "2022-02-26T19:23:28.645173Z",
     "shell.execute_reply.started": "2022-02-26T18:45:15.924558Z"
    },
    "papermill": {
     "duration": 0.062262,
     "end_time": "2022-02-26T19:23:28.645368",
     "exception": false,
     "start_time": "2022-02-26T19:23:28.583106",
     "status": "completed"
    },
    "tags": []
   },
   "outputs": [],
   "source": [
    "predictions"
   ]
  },
  {
   "cell_type": "code",
   "execution_count": null,
   "id": "f31d0b08",
   "metadata": {
    "execution": {
     "iopub.execute_input": "2022-02-26T19:23:28.746147Z",
     "iopub.status.busy": "2022-02-26T19:23:28.745075Z",
     "iopub.status.idle": "2022-02-26T19:23:28.773383Z",
     "shell.execute_reply": "2022-02-26T19:23:28.774017Z",
     "shell.execute_reply.started": "2022-02-26T18:45:15.939206Z"
    },
    "papermill": {
     "duration": 0.079148,
     "end_time": "2022-02-26T19:23:28.774216",
     "exception": false,
     "start_time": "2022-02-26T19:23:28.695068",
     "status": "completed"
    },
    "tags": []
   },
   "outputs": [],
   "source": [
    "pseudo = pd.DataFrame()\n",
    "pseudo['id'] = public_test['id'].index.values\n",
    "pseudo['Pred0'] = pd.DataFrame(predictions[0])\n",
    "pseudo['Pred1'] = pd.DataFrame(predictions[1])\n",
    "pseudo['Pred2'] = pd.DataFrame(predictions[2])\n",
    "pseudo['Pred3'] = pd.DataFrame(predictions[3])\n",
    "pseudo['Pred4'] = pd.DataFrame(predictions[4])\n",
    "pseudo['Pred5'] = pd.DataFrame(predictions[5])\n",
    "pseudo['Pred6'] = pd.DataFrame(predictions[6])\n",
    "pseudo['Pred7'] = pd.DataFrame(predictions[7])\n",
    "pseudo['Pred8'] = pd.DataFrame(predictions[8])\n",
    "pseudo['Pred9'] = pd.DataFrame(predictions[9])"
   ]
  },
  {
   "cell_type": "code",
   "execution_count": null,
   "id": "8980acab",
   "metadata": {
    "execution": {
     "iopub.execute_input": "2022-02-26T19:23:28.873941Z",
     "iopub.status.busy": "2022-02-26T19:23:28.872834Z",
     "iopub.status.idle": "2022-02-26T19:23:28.924310Z",
     "shell.execute_reply": "2022-02-26T19:23:28.924977Z",
     "shell.execute_reply.started": "2022-02-26T18:45:15.969647Z"
    },
    "papermill": {
     "duration": 0.103113,
     "end_time": "2022-02-26T19:23:28.925201",
     "exception": false,
     "start_time": "2022-02-26T19:23:28.822088",
     "status": "completed"
    },
    "tags": []
   },
   "outputs": [],
   "source": [
    "truth = pd.read_csv('idao_2022_data/dichalcogenides_public/dichalcogenides_public/targets.csv')\n",
    "truth = truth.rename({'_id':'id'},axis=1)"
   ]
  },
  {
   "cell_type": "code",
   "execution_count": null,
   "id": "f58fad40",
   "metadata": {
    "execution": {
     "iopub.execute_input": "2022-02-26T19:23:29.017576Z",
     "iopub.status.busy": "2022-02-26T19:23:29.016538Z",
     "iopub.status.idle": "2022-02-26T19:23:29.049493Z",
     "shell.execute_reply": "2022-02-26T19:23:29.050088Z",
     "shell.execute_reply.started": "2022-02-26T18:45:16.013186Z"
    },
    "papermill": {
     "duration": 0.081188,
     "end_time": "2022-02-26T19:23:29.050274",
     "exception": false,
     "start_time": "2022-02-26T19:23:28.969086",
     "status": "completed"
    },
    "tags": []
   },
   "outputs": [],
   "source": [
    "pseudo = pd.merge(pseudo, truth, on ='id').drop('id',axis=1)"
   ]
  },
  {
   "cell_type": "code",
   "execution_count": null,
   "id": "19240ab5",
   "metadata": {
    "execution": {
     "iopub.execute_input": "2022-02-26T19:23:29.144631Z",
     "iopub.status.busy": "2022-02-26T19:23:29.143817Z",
     "iopub.status.idle": "2022-02-26T19:23:29.199068Z",
     "shell.execute_reply": "2022-02-26T19:23:29.198412Z",
     "shell.execute_reply.started": "2022-02-26T18:45:16.045680Z"
    },
    "papermill": {
     "duration": 0.104189,
     "end_time": "2022-02-26T19:23:29.199226",
     "exception": false,
     "start_time": "2022-02-26T19:23:29.095037",
     "status": "completed"
    },
    "tags": []
   },
   "outputs": [],
   "source": [
    "# pseudo.to_csv('pseudo.csv', index = False)"
   ]
  },
  {
   "cell_type": "code",
   "execution_count": null,
   "id": "183d2261",
   "metadata": {
    "execution": {
     "iopub.execute_input": "2022-02-26T19:23:29.300118Z",
     "iopub.status.busy": "2022-02-26T19:23:29.297302Z",
     "iopub.status.idle": "2022-02-26T19:23:29.302878Z",
     "shell.execute_reply": "2022-02-26T19:23:29.303678Z",
     "shell.execute_reply.started": "2022-02-26T18:45:16.097093Z"
    },
    "papermill": {
     "duration": 0.059233,
     "end_time": "2022-02-26T19:23:29.303869",
     "exception": false,
     "start_time": "2022-02-26T19:23:29.244636",
     "status": "completed"
    },
    "tags": []
   },
   "outputs": [],
   "source": [
    "X = pseudo[pseudo.columns[:-1]].copy()\n",
    "y = pseudo['band_gap'].copy()"
   ]
  },
  {
   "cell_type": "code",
   "execution_count": null,
   "id": "6ab20329",
   "metadata": {
    "execution": {
     "iopub.execute_input": "2022-02-26T19:23:29.402956Z",
     "iopub.status.busy": "2022-02-26T19:23:29.402047Z",
     "iopub.status.idle": "2022-02-26T19:23:31.298865Z",
     "shell.execute_reply": "2022-02-26T19:23:31.299446Z",
     "shell.execute_reply.started": "2022-02-26T18:45:16.108096Z"
    },
    "papermill": {
     "duration": 1.948305,
     "end_time": "2022-02-26T19:23:31.299654",
     "exception": false,
     "start_time": "2022-02-26T19:23:29.351349",
     "status": "completed"
    },
    "tags": []
   },
   "outputs": [],
   "source": [
    "import pandas as pd\n",
    "import numpy as np\n",
    "\n",
    "import seaborn as sns\n",
    "import matplotlib.pyplot as plt\n",
    "\n",
    "from catboost import CatBoostClassifier, CatBoostRegressor\n",
    "from xgboost import XGBClassifier, XGBRegressor\n",
    "from lightgbm import LGBMRegressor, LGBMClassifier\n",
    "\n",
    "from sklearn.linear_model import LogisticRegressionCV, LogisticRegression, LinearRegression, LassoLarsCV, BayesianRidge, SGDClassifier, SGDRegressor\n",
    "from sklearn.ensemble import RandomForestClassifier, RandomForestRegressor, AdaBoostClassifier, AdaBoostRegressor, ExtraTreesClassifier, ExtraTreesRegressor, GradientBoostingRegressor, GradientBoostingClassifier\n",
    "from sklearn.naive_bayes import GaussianNB\n",
    "from sklearn.neighbors import KNeighborsClassifier, KNeighborsRegressor\n",
    "from sklearn.tree import DecisionTreeClassifier, DecisionTreeRegressor\n",
    "from sklearn.neural_network import MLPClassifier, MLPRegressor\n",
    "from sklearn.model_selection import KFold\n",
    "from sklearn.metrics import mean_absolute_error, accuracy_score\n",
    "from sklearn.preprocessing import StandardScaler\n",
    "from sklearn.naive_bayes import GaussianNB\n",
    "from sklearn.model_selection import learning_curve\n",
    "from sklearn.model_selection import ShuffleSplit\n",
    "\n",
    "import warnings\n",
    "warnings.filterwarnings(\"ignore\")\n",
    "\n",
    "class AutoML:\n",
    "    def __init__(self):\n",
    "        self.clf_models = [LogisticRegression(max_iter=10000), \n",
    "                           DecisionTreeClassifier(), \n",
    "                           KNeighborsClassifier(), SGDClassifier(),  RandomForestClassifier(n_jobs=-1),  \n",
    "                           AdaBoostClassifier(),  \n",
    "                           ExtraTreesClassifier(n_jobs=-1),  XGBClassifier(n_jobs=-1),  LGBMClassifier(n_jobs=-1),  \n",
    "                           CatBoostClassifier(verbose=0),  \n",
    "                           GradientBoostingClassifier(),  GaussianNB(),  MLPClassifier(max_iter = 1000)  ]\n",
    "        self.reg_models = [LassoLarsCV(),  LinearRegression(),  DecisionTreeRegressor(),  KNeighborsRegressor(),  \n",
    "                          SGDRegressor(),  RandomForestRegressor(n_jobs=-1),  AdaBoostRegressor(),  ExtraTreesRegressor(n_jobs=-1),  \n",
    "                          XGBRegressor(n_jobs=-1),  LGBMRegressor(n_jobs=-1),  CatBoostRegressor(verbose=0),  \n",
    "                          GradientBoostingRegressor(),  \n",
    "                          BayesianRidge(),  MLPRegressor(max_iter = 1000) ]\n",
    "    def plot_table(self, table):\n",
    "        fig, axs = plt.subplots(1,1, figsize=(15,2))\n",
    "        collabel=tuple(table.columns)\n",
    "        axs.axis('tight')\n",
    "        axs.axis('off')\n",
    "        the_table = axs.table(cellText=table.values,colLabels=collabel,loc='upper center')\n",
    "        return fig\n",
    "    def plot_learning_curve(self,estimator, title, X, y, axes=None, ylim=None, cv=None,\n",
    "                        n_jobs=None, train_sizes=np.linspace(.1, 1.0, 5), name = None):\n",
    "        \"\"\"\n",
    "        Generate 3 plots: the test and training learning curve, the training\n",
    "        samples vs fit times curve, the fit times vs score curve.\n",
    "        Parameters\n",
    "        ----------\n",
    "        estimator : object type that implements the \"fit\" and \"predict\" methods\n",
    "            An object of that type which is cloned for each validation.\n",
    "        title : string\n",
    "            Title for the chart.\n",
    "        X : array-like, shape (n_samples, n_features)\n",
    "            Training vector, where n_samples is the number of samples and\n",
    "            n_features is the number of features.\n",
    "        y : array-like, shape (n_samples) or (n_samples, n_features), optional\n",
    "            Target relative to X for classification or regression;\n",
    "            None for unsupervised learning.\n",
    "        axes : array of 3 axes, optional (default=None)\n",
    "            Axes to use for plotting the curves.\n",
    "        ylim : tuple, shape (ymin, ymax), optional\n",
    "            Defines minimum and maximum yvalues plotted.\n",
    "        cv : int, cross-validation generator or an iterable, optional\n",
    "            Determines the cross-validation splitting strategy.\n",
    "            Possible inputs for cv are:\n",
    "              - None, to use the default 5-fold cross-validation,\n",
    "              - integer, to specify the number of folds.\n",
    "              - :term:`CV splitter`,\n",
    "              - An iterable yielding (train, test) splits as arrays of indices.\n",
    "            For integer/None inputs, if ``y`` is binary or multiclass,\n",
    "            :class:`StratifiedKFold` used. If the estimator is not a classifier\n",
    "            or if ``y`` is neither binary nor multiclass, :class:`KFold` is used.\n",
    "            Refer :ref:`User Guide <cross_validation>` for the various\n",
    "            cross-validators that can be used here.\n",
    "        n_jobs : int or None, optional (default=None)\n",
    "            Number of jobs to run in parallel.\n",
    "            ``None`` means 1 unless in a :obj:`joblib.parallel_backend` context.\n",
    "            ``-1`` means using all processors. See :term:`Glossary <n_jobs>`\n",
    "            for more details.\n",
    "        train_sizes : array-like, shape (n_ticks,), dtype float or int\n",
    "            Relative or absolute numbers of training examples that will be used to\n",
    "            generate the learning curve. If the dtype is float, it is regarded as a\n",
    "            fraction of the maximum size of the training set (that is determined\n",
    "            by the selected validation method), i.e. it has to be within (0, 1].\n",
    "            Otherwise it is interpreted as absolute sizes of the training sets.\n",
    "            Note that for classification the number of samples usually have to\n",
    "            be big enough to contain at least one sample from each class.\n",
    "            (default: np.linspace(0.1, 1.0, 5))\n",
    "        \"\"\"\n",
    "        print(name)\n",
    "        if axes is None:\n",
    "            fig, axes = plt.subplots(1, 3, figsize=(20, 5))\n",
    "\n",
    "        axes[0].set_title(title)\n",
    "        if ylim is not None:\n",
    "            axes[0].set_ylim(*ylim)\n",
    "        axes[0].set_xlabel(\"Training examples\")\n",
    "        axes[0].set_ylabel(\"Score\")\n",
    "\n",
    "        train_sizes, train_scores, test_scores, fit_times, _ = \\\n",
    "            learning_curve(estimator, X, y, cv=cv, n_jobs=n_jobs,\n",
    "                           train_sizes=train_sizes,\n",
    "                           return_times=True)\n",
    "        train_scores_mean = np.mean(train_scores, axis=1)\n",
    "        train_scores_std = np.std(train_scores, axis=1)\n",
    "        test_scores_mean = np.mean(test_scores, axis=1)\n",
    "        test_scores_std = np.std(test_scores, axis=1)\n",
    "        fit_times_mean = np.mean(fit_times, axis=1)\n",
    "        fit_times_std = np.std(fit_times, axis=1)\n",
    "\n",
    "        # Plot learning curve\n",
    "        axes[0].grid()\n",
    "        axes[0].fill_between(train_sizes, train_scores_mean - train_scores_std,\n",
    "                             train_scores_mean + train_scores_std, alpha=0.1,\n",
    "                             color=\"r\")\n",
    "        axes[0].fill_between(train_sizes, test_scores_mean - test_scores_std,\n",
    "                             test_scores_mean + test_scores_std, alpha=0.1,\n",
    "                             color=\"g\")\n",
    "        axes[0].plot(train_sizes, train_scores_mean, 'o-', color=\"r\",\n",
    "                     label=\"Training score\")\n",
    "        axes[0].plot(train_sizes, test_scores_mean, 'o-', color=\"g\",\n",
    "                     label=\"Cross-validation score\")\n",
    "        axes[0].legend(loc=\"best\")\n",
    "\n",
    "        # Plot n_samples vs fit_times\n",
    "        axes[1].grid()\n",
    "        axes[1].plot(train_sizes, fit_times_mean, 'o-')\n",
    "        axes[1].fill_between(train_sizes, fit_times_mean - fit_times_std,\n",
    "                             fit_times_mean + fit_times_std, alpha=0.1)\n",
    "        axes[1].set_xlabel(\"Training examples\")\n",
    "        axes[1].set_ylabel(\"fit_times\")\n",
    "        axes[1].set_title(\"Scalability of the model\")\n",
    "\n",
    "        # Plot fit_time vs score\n",
    "        axes[2].grid()\n",
    "        axes[2].plot(fit_times_mean, test_scores_mean, 'o-')\n",
    "        axes[2].fill_between(fit_times_mean, test_scores_mean - test_scores_std,\n",
    "                             test_scores_mean + test_scores_std, alpha=0.1)\n",
    "        axes[2].set_xlabel(\"fit_times\")\n",
    "        axes[2].set_ylabel(\"Score\")\n",
    "        axes[2].set_title(\"Performance of the model\")\n",
    "\n",
    "        return np.mean(test_scores_mean)\n",
    "    \n",
    "    def cross_val(self, X, y, model, metric, folds):\n",
    "        scores = []\n",
    "        for tr_in, val_in in KFold(n_splits = folds).split(X, y):\n",
    "            model_fold = model\n",
    "            X_train, y_train, X_val, y_val = X.iloc[tr_in,:], y[tr_in], X.iloc[val_in,:], y[val_in]\n",
    "            model_fold.fit(X_train, y_train)\n",
    "            y_hat = model.predict(X_val)\n",
    "            scores.append(metric(y_val,y_hat))\n",
    "        return np.mean(scores)\n",
    "    \n",
    "    def GMLClassifier(self, X, y, metric = accuracy_score, folds = 5):\n",
    "        '''\n",
    "        X: Independent variable(s)\n",
    "        y: Dependent variable\n",
    "        metric: metric of evaluation \n",
    "        folds: Number of validation folds, default: 5\n",
    "        '''\n",
    "        result = pd.DataFrame(columns = ['Models','Scores'])\n",
    "        for i,model in enumerate(self.clf_models):\n",
    "            name = str(model.__class__.__name__)\n",
    "            scores = self.cross_val(X, y, model, metric, folds)\n",
    "            \n",
    "            print('{} got score of {} in {} folds'.format(name,scores,folds))\n",
    "            result.at[i, 'Models'] = name\n",
    "            result.at[i, 'Scores'] = scores\n",
    "        result = result.sort_values('Scores',ascending=False).reset_index(drop=True)\n",
    "        self.plot_table(result)\n",
    "    \n",
    "    def GMLRegressor(self, X, y, metric = mean_absolute_error,folds = 5):\n",
    "        '''\n",
    "        X: Independent variable(s)\n",
    "        y: Dependent variable\n",
    "        metric: metric of evaluation \n",
    "        folds: Number of validation folds, default: 5\n",
    "        '''\n",
    "        result = pd.DataFrame(columns = ['Models','Scores'])\n",
    "        for i,model in enumerate(self.reg_models):\n",
    "            name = str(model.__class__.__name__)\n",
    "            scores = self.cross_val(X, y, model, metric, folds)\n",
    "            \n",
    "            print('{} got score of {} in {} folds'.format(model.__class__.__name__,scores,folds))\n",
    "            result.at[i, 'Models'] = name\n",
    "            result.at[i, 'Scores'] = scores\n",
    "        result = result.sort_values('Scores',ascending=False).reset_index(drop=True)\n",
    "        self.plot_table(result)"
   ]
  },
  {
   "cell_type": "code",
   "execution_count": null,
   "id": "4b4eaa9c",
   "metadata": {
    "execution": {
     "iopub.execute_input": "2022-02-26T19:23:31.391772Z",
     "iopub.status.busy": "2022-02-26T19:23:31.391080Z",
     "iopub.status.idle": "2022-02-26T19:24:39.760704Z",
     "shell.execute_reply": "2022-02-26T19:24:39.760121Z"
    },
    "papermill": {
     "duration": 68.417786,
     "end_time": "2022-02-26T19:24:39.760849",
     "exception": false,
     "start_time": "2022-02-26T19:23:31.343063",
     "status": "completed"
    },
    "tags": []
   },
   "outputs": [],
   "source": [
    "gml_ml = AutoML()\n",
    "\n",
    "gml_ml.GMLRegressor(X, y, metric = energy_within_threshold, folds = 10)"
   ]
  },
  {
   "cell_type": "code",
   "execution_count": null,
   "id": "e09f9258",
   "metadata": {
    "execution": {
     "iopub.execute_input": "2022-02-26T19:24:39.874940Z",
     "iopub.status.busy": "2022-02-26T19:24:39.874010Z",
     "iopub.status.idle": "2022-02-26T19:24:39.876218Z",
     "shell.execute_reply": "2022-02-26T19:24:39.876727Z"
    },
    "papermill": {
     "duration": 0.063464,
     "end_time": "2022-02-26T19:24:39.876903",
     "exception": false,
     "start_time": "2022-02-26T19:24:39.813439",
     "status": "completed"
    },
    "tags": []
   },
   "outputs": [],
   "source": [
    "def rounding(num):\n",
    "    round_num, round_num2 = 0, 0\n",
    "    uniques = np.sort(np.unique(y))\n",
    "    for i,n in enumerate(uniques):\n",
    "        if n > num:\n",
    "            break\n",
    "        round_num = n\n",
    "        try:\n",
    "            round_num2 = uniques[i+1]\n",
    "        except:\n",
    "            round_num2 = round_num\n",
    "    if np.abs(num - round_num) < np.abs(num - round_num2):\n",
    "        return round_num\n",
    "    return round_num2"
   ]
  },
  {
   "cell_type": "code",
   "execution_count": null,
   "id": "71fc1612",
   "metadata": {
    "execution": {
     "iopub.execute_input": "2022-02-26T19:24:39.985280Z",
     "iopub.status.busy": "2022-02-26T19:24:39.984198Z",
     "iopub.status.idle": "2022-02-26T19:24:39.987063Z",
     "shell.execute_reply": "2022-02-26T19:24:39.986380Z"
    },
    "papermill": {
     "duration": 0.06097,
     "end_time": "2022-02-26T19:24:39.987215",
     "exception": false,
     "start_time": "2022-02-26T19:24:39.926245",
     "status": "completed"
    },
    "tags": []
   },
   "outputs": [],
   "source": [
    "def cross_val(X, y, model, metric, folds):\n",
    "    scores = []\n",
    "    i = 0\n",
    "    for tr_in, val_in in KFold(n_splits = folds).split(X, y):\n",
    "        X_train, y_train, X_val, y_val = X.iloc[tr_in,:], y[tr_in], X.iloc[val_in,:], y[val_in]\n",
    "        model.fit(X_train, y_train)\n",
    "\n",
    "        y_hat = model.predict(X_val)\n",
    "\n",
    "        sc = metric(y_val,y_hat)\n",
    "        print(sc)\n",
    "        scores.append(sc)\n",
    "#         if i == 3:\n",
    "#             break\n",
    "        i += 1\n",
    "    return np.mean(scores)"
   ]
  },
  {
   "cell_type": "code",
   "execution_count": null,
   "id": "aeda2291",
   "metadata": {
    "execution": {
     "iopub.execute_input": "2022-02-26T19:24:40.096131Z",
     "iopub.status.busy": "2022-02-26T19:24:40.094879Z",
     "iopub.status.idle": "2022-02-26T19:24:40.252122Z",
     "shell.execute_reply": "2022-02-26T19:24:40.252962Z"
    },
    "papermill": {
     "duration": 0.214869,
     "end_time": "2022-02-26T19:24:40.253257",
     "exception": false,
     "start_time": "2022-02-26T19:24:40.038388",
     "status": "completed"
    },
    "tags": []
   },
   "outputs": [],
   "source": [
    "cross_val(X, y, BayesianRidge(), energy_within_threshold, 5)"
   ]
  },
  {
   "cell_type": "code",
   "execution_count": null,
   "id": "6080d238",
   "metadata": {
    "execution": {
     "iopub.execute_input": "2022-02-26T19:24:40.432753Z",
     "iopub.status.busy": "2022-02-26T19:24:40.432086Z",
     "iopub.status.idle": "2022-02-26T19:24:40.437426Z",
     "shell.execute_reply": "2022-02-26T19:24:40.438016Z"
    },
    "papermill": {
     "duration": 0.065161,
     "end_time": "2022-02-26T19:24:40.438204",
     "exception": false,
     "start_time": "2022-02-26T19:24:40.373043",
     "status": "completed"
    },
    "tags": []
   },
   "outputs": [],
   "source": [
    "en.numpy()[en.numpy() > 0.02]"
   ]
  },
  {
   "cell_type": "code",
   "execution_count": null,
   "id": "5ddfbc58",
   "metadata": {
    "execution": {
     "iopub.execute_input": "2022-02-26T19:24:40.546633Z",
     "iopub.status.busy": "2022-02-26T19:24:40.545646Z",
     "iopub.status.idle": "2022-02-26T19:24:40.548548Z",
     "shell.execute_reply": "2022-02-26T19:24:40.547870Z"
    },
    "papermill": {
     "duration": 0.059349,
     "end_time": "2022-02-26T19:24:40.548707",
     "exception": false,
     "start_time": "2022-02-26T19:24:40.489358",
     "status": "completed"
    },
    "tags": []
   },
   "outputs": [],
   "source": [
    "dataset_path = Path(config.test_datapath)"
   ]
  },
  {
   "cell_type": "code",
   "execution_count": null,
   "id": "3c6876a2",
   "metadata": {
    "execution": {
     "iopub.execute_input": "2022-02-26T19:24:40.658197Z",
     "iopub.status.busy": "2022-02-26T19:24:40.657127Z",
     "iopub.status.idle": "2022-02-26T19:25:35.192084Z",
     "shell.execute_reply": "2022-02-26T19:25:35.191049Z"
    },
    "papermill": {
     "duration": 54.589838,
     "end_time": "2022-02-26T19:25:35.192278",
     "exception": false,
     "start_time": "2022-02-26T19:24:40.602440",
     "status": "completed"
    },
    "tags": []
   },
   "outputs": [],
   "source": [
    "struct = {item.name.strip('.json'): read_pymatgen_dict(item) for item in (dataset_path/'structures').iterdir()}"
   ]
  },
  {
   "cell_type": "code",
   "execution_count": null,
   "id": "9de79c64",
   "metadata": {
    "execution": {
     "iopub.execute_input": "2022-02-26T19:25:35.318008Z",
     "iopub.status.busy": "2022-02-26T19:25:35.305686Z",
     "iopub.status.idle": "2022-02-26T19:59:53.076021Z",
     "shell.execute_reply": "2022-02-26T19:59:53.074178Z"
    },
    "papermill": {
     "duration": 2057.83046,
     "end_time": "2022-02-26T19:59:53.076246",
     "exception": false,
     "start_time": "2022-02-26T19:25:35.245786",
     "status": "completed"
    },
    "tags": []
   },
   "outputs": [],
   "source": [
    "private_test = pd.DataFrame(columns=['id', 'structures'], index=struct.keys())\n",
    "private_test = private_test.assign(structures=struct.values())\n",
    "predictions =[]\n",
    "for path in tqdm.tqdm(models_path):\n",
    "    model = prepare_model(\n",
    "        float(config.cutoff), float(config.lr)\n",
    "    )\n",
    "    model.load_weights(path)\n",
    "    predictions.append(model.predict_structures(private_test.structures))"
   ]
  },
  {
   "cell_type": "code",
   "execution_count": null,
   "id": "9a535506",
   "metadata": {
    "execution": {
     "iopub.execute_input": "2022-02-26T19:59:53.190193Z",
     "iopub.status.busy": "2022-02-26T19:59:53.189223Z",
     "iopub.status.idle": "2022-02-26T19:59:53.205938Z",
     "shell.execute_reply": "2022-02-26T19:59:53.207216Z"
    },
    "papermill": {
     "duration": 0.076266,
     "end_time": "2022-02-26T19:59:53.207404",
     "exception": false,
     "start_time": "2022-02-26T19:59:53.131138",
     "status": "completed"
    },
    "tags": []
   },
   "outputs": [],
   "source": [
    "test = pd.DataFrame()\n",
    "test['id'] = private_test['id'].index.values\n",
    "test['Pred0'] = pd.DataFrame(predictions[0])\n",
    "test['Pred1'] = pd.DataFrame(predictions[1])\n",
    "test['Pred2'] = pd.DataFrame(predictions[2])\n",
    "test['Pred3'] = pd.DataFrame(predictions[3])\n",
    "test['Pred4'] = pd.DataFrame(predictions[4])\n",
    "test['Pred5'] = pd.DataFrame(predictions[5])\n",
    "test['Pred6'] = pd.DataFrame(predictions[6])\n",
    "test['Pred7'] = pd.DataFrame(predictions[7])\n",
    "test['Pred8'] = pd.DataFrame(predictions[8])\n",
    "test['Pred9'] = pd.DataFrame(predictions[9])"
   ]
  },
  {
   "cell_type": "code",
   "execution_count": null,
   "id": "95a30f77",
   "metadata": {
    "execution": {
     "iopub.execute_input": "2022-02-26T19:59:53.326857Z",
     "iopub.status.busy": "2022-02-26T19:59:53.326003Z",
     "iopub.status.idle": "2022-02-26T19:59:53.350922Z",
     "shell.execute_reply": "2022-02-26T19:59:53.351487Z"
    },
    "papermill": {
     "duration": 0.088967,
     "end_time": "2022-02-26T19:59:53.351663",
     "exception": false,
     "start_time": "2022-02-26T19:59:53.262696",
     "status": "completed"
    },
    "tags": []
   },
   "outputs": [],
   "source": [
    "test"
   ]
  },
  {
   "cell_type": "code",
   "execution_count": null,
   "id": "bae0c04e",
   "metadata": {
    "execution": {
     "iopub.execute_input": "2022-02-26T19:59:53.470865Z",
     "iopub.status.busy": "2022-02-26T19:59:53.469769Z",
     "iopub.status.idle": "2022-02-26T19:59:53.471805Z",
     "shell.execute_reply": "2022-02-26T19:59:53.472426Z"
    },
    "papermill": {
     "duration": 0.06417,
     "end_time": "2022-02-26T19:59:53.472598",
     "exception": false,
     "start_time": "2022-02-26T19:59:53.408428",
     "status": "completed"
    },
    "tags": []
   },
   "outputs": [],
   "source": [
    "# lasso = LassoLarsCV()\n",
    "# ridge = BayesianRidge()\n",
    "lr = LinearRegression()\n",
    "# gb = GradientBoostingRegressor()"
   ]
  },
  {
   "cell_type": "code",
   "execution_count": null,
   "id": "ef1e9ac0",
   "metadata": {
    "execution": {
     "iopub.execute_input": "2022-02-26T19:59:53.593731Z",
     "iopub.status.busy": "2022-02-26T19:59:53.593024Z",
     "iopub.status.idle": "2022-02-26T19:59:53.604416Z",
     "shell.execute_reply": "2022-02-26T19:59:53.605477Z"
    },
    "papermill": {
     "duration": 0.076513,
     "end_time": "2022-02-26T19:59:53.605771",
     "exception": false,
     "start_time": "2022-02-26T19:59:53.529258",
     "status": "completed"
    },
    "tags": []
   },
   "outputs": [],
   "source": [
    "# lasso.fit(X, y)\n",
    "# ridge.fit(X, y)\n",
    "lr.fit(X, y)\n",
    "# gb.fit(X, y)"
   ]
  },
  {
   "cell_type": "code",
   "execution_count": null,
   "id": "703e7028",
   "metadata": {
    "execution": {
     "iopub.execute_input": "2022-02-26T19:59:53.781483Z",
     "iopub.status.busy": "2022-02-26T19:59:53.780516Z",
     "iopub.status.idle": "2022-02-26T19:59:53.783691Z",
     "shell.execute_reply": "2022-02-26T19:59:53.783170Z"
    },
    "papermill": {
     "duration": 0.068555,
     "end_time": "2022-02-26T19:59:53.783841",
     "exception": false,
     "start_time": "2022-02-26T19:59:53.715286",
     "status": "completed"
    },
    "tags": []
   },
   "outputs": [],
   "source": [
    "test.drop('id',axis=1,inplace=True)"
   ]
  },
  {
   "cell_type": "code",
   "execution_count": null,
   "id": "f3f0a789",
   "metadata": {
    "execution": {
     "iopub.execute_input": "2022-02-26T19:59:53.905850Z",
     "iopub.status.busy": "2022-02-26T19:59:53.904676Z",
     "iopub.status.idle": "2022-02-26T19:59:53.914479Z",
     "shell.execute_reply": "2022-02-26T19:59:53.915762Z"
    },
    "papermill": {
     "duration": 0.075223,
     "end_time": "2022-02-26T19:59:53.916268",
     "exception": false,
     "start_time": "2022-02-26T19:59:53.841045",
     "status": "completed"
    },
    "tags": []
   },
   "outputs": [],
   "source": [
    "# pred1 = lasso.predict(test)\n",
    "# pred2 = ridge.predict(test)\n",
    "pred3 = lr.predict(test)\n",
    "# # pred4 = gb.predict(test)"
   ]
  },
  {
   "cell_type": "code",
   "execution_count": null,
   "id": "5f633cf3",
   "metadata": {
    "execution": {
     "iopub.execute_input": "2022-02-26T19:59:54.090962Z",
     "iopub.status.busy": "2022-02-26T19:59:54.089870Z",
     "iopub.status.idle": "2022-02-26T19:59:54.092665Z",
     "shell.execute_reply": "2022-02-26T19:59:54.092039Z"
    },
    "papermill": {
     "duration": 0.067161,
     "end_time": "2022-02-26T19:59:54.092805",
     "exception": false,
     "start_time": "2022-02-26T19:59:54.025644",
     "status": "completed"
    },
    "tags": []
   },
   "outputs": [],
   "source": [
    "prediction_test = pred3"
   ]
  },
  {
   "cell_type": "code",
   "execution_count": null,
   "id": "55618151",
   "metadata": {
    "execution": {
     "iopub.execute_input": "2022-02-26T19:59:54.217797Z",
     "iopub.status.busy": "2022-02-26T19:59:54.215241Z",
     "iopub.status.idle": "2022-02-26T19:59:54.219675Z",
     "shell.execute_reply": "2022-02-26T19:59:54.220295Z"
    },
    "papermill": {
     "duration": 0.068676,
     "end_time": "2022-02-26T19:59:54.220511",
     "exception": false,
     "start_time": "2022-02-26T19:59:54.151835",
     "status": "completed"
    },
    "tags": []
   },
   "outputs": [],
   "source": [
    "private_test = private_test.assign(predictions=prediction_test)"
   ]
  },
  {
   "cell_type": "code",
   "execution_count": null,
   "id": "a3392eb9",
   "metadata": {
    "execution": {
     "iopub.execute_input": "2022-02-26T19:59:54.371344Z",
     "iopub.status.busy": "2022-02-26T19:59:54.370252Z",
     "iopub.status.idle": "2022-02-26T19:59:54.645844Z",
     "shell.execute_reply": "2022-02-26T19:59:54.646453Z"
    },
    "papermill": {
     "duration": 0.36076,
     "end_time": "2022-02-26T19:59:54.646630",
     "exception": false,
     "start_time": "2022-02-26T19:59:54.285870",
     "status": "completed"
    },
    "tags": []
   },
   "outputs": [],
   "source": [
    "private_test"
   ]
  },
  {
   "cell_type": "code",
   "execution_count": null,
   "id": "c216f7fc",
   "metadata": {
    "execution": {
     "iopub.execute_input": "2022-02-26T19:59:54.789593Z",
     "iopub.status.busy": "2022-02-26T19:59:54.785202Z",
     "iopub.status.idle": "2022-02-26T19:59:55.055069Z",
     "shell.execute_reply": "2022-02-26T19:59:55.055559Z"
    },
    "papermill": {
     "duration": 0.35012,
     "end_time": "2022-02-26T19:59:55.055741",
     "exception": false,
     "start_time": "2022-02-26T19:59:54.705621",
     "status": "completed"
    },
    "tags": []
   },
   "outputs": [],
   "source": [
    "sns.distplot(y)"
   ]
  },
  {
   "cell_type": "code",
   "execution_count": null,
   "id": "f7800d2e",
   "metadata": {
    "execution": {
     "iopub.execute_input": "2022-02-26T19:59:55.178475Z",
     "iopub.status.busy": "2022-02-26T19:59:55.177507Z",
     "iopub.status.idle": "2022-02-26T19:59:55.447161Z",
     "shell.execute_reply": "2022-02-26T19:59:55.447716Z"
    },
    "papermill": {
     "duration": 0.332436,
     "end_time": "2022-02-26T19:59:55.447901",
     "exception": false,
     "start_time": "2022-02-26T19:59:55.115465",
     "status": "completed"
    },
    "tags": []
   },
   "outputs": [],
   "source": [
    "sns.distplot(private_test['predictions'])"
   ]
  },
  {
   "cell_type": "code",
   "execution_count": null,
   "id": "971e1c5a",
   "metadata": {
    "execution": {
     "iopub.execute_input": "2022-02-26T19:59:55.576356Z",
     "iopub.status.busy": "2022-02-26T19:59:55.573052Z",
     "iopub.status.idle": "2022-02-26T19:59:55.590165Z",
     "shell.execute_reply": "2022-02-26T19:59:55.589599Z"
    },
    "papermill": {
     "duration": 0.08108,
     "end_time": "2022-02-26T19:59:55.590317",
     "exception": false,
     "start_time": "2022-02-26T19:59:55.509237",
     "status": "completed"
    },
    "tags": []
   },
   "outputs": [],
   "source": [
    "private_test[['predictions']].to_csv('submission.csv', index_label='id')"
   ]
  },
  {
   "cell_type": "code",
   "execution_count": null,
   "id": "d772c8c5",
   "metadata": {
    "execution": {
     "iopub.execute_input": "2022-02-26T19:59:55.721395Z",
     "iopub.status.busy": "2022-02-26T19:59:55.720697Z",
     "iopub.status.idle": "2022-02-26T19:59:55.730640Z",
     "shell.execute_reply": "2022-02-26T19:59:55.729835Z"
    },
    "papermill": {
     "duration": 0.078595,
     "end_time": "2022-02-26T19:59:55.730793",
     "exception": false,
     "start_time": "2022-02-26T19:59:55.652198",
     "status": "completed"
    },
    "tags": []
   },
   "outputs": [],
   "source": [
    "y2 = pd.qcut(y,2, [i for i in range(1,2+1)])"
   ]
  },
  {
   "cell_type": "code",
   "execution_count": null,
   "id": "9dc6ac5e",
   "metadata": {
    "execution": {
     "iopub.execute_input": "2022-02-26T19:59:55.867759Z",
     "iopub.status.busy": "2022-02-26T19:59:55.866727Z",
     "iopub.status.idle": "2022-02-26T20:00:34.516536Z",
     "shell.execute_reply": "2022-02-26T20:00:34.517093Z"
    },
    "papermill": {
     "duration": 38.72303,
     "end_time": "2022-02-26T20:00:34.517278",
     "exception": false,
     "start_time": "2022-02-26T19:59:55.794248",
     "status": "completed"
    },
    "tags": []
   },
   "outputs": [],
   "source": [
    "gml_ml = AutoML()\n",
    "\n",
    "gml_ml.GMLClassifier(X, y2, metric = accuracy_score, folds = 5)"
   ]
  },
  {
   "cell_type": "code",
   "execution_count": null,
   "id": "b0628d1c",
   "metadata": {
    "execution": {
     "iopub.execute_input": "2022-02-26T20:00:34.671074Z",
     "iopub.status.busy": "2022-02-26T20:00:34.669886Z",
     "iopub.status.idle": "2022-02-26T20:00:34.675899Z",
     "shell.execute_reply": "2022-02-26T20:00:34.676474Z"
    },
    "papermill": {
     "duration": 0.079934,
     "end_time": "2022-02-26T20:00:34.676658",
     "exception": false,
     "start_time": "2022-02-26T20:00:34.596724",
     "status": "completed"
    },
    "tags": []
   },
   "outputs": [],
   "source": [
    "def fix_ranges(s):\n",
    "    c = s['class']\n",
    "    num = s['y_hat']\n",
    "    if c == 1:\n",
    "        return np.clip(num, 0.0929, 0.403)\n",
    "    elif c == 2:\n",
    "        return np.clip(num, 0.403, 1.141)\n",
    "    else:\n",
    "        return np.clip(num, 1.141, 1.811)        "
   ]
  },
  {
   "cell_type": "code",
   "execution_count": null,
   "id": "91c530ff",
   "metadata": {
    "execution": {
     "iopub.execute_input": "2022-02-26T20:00:34.828631Z",
     "iopub.status.busy": "2022-02-26T20:00:34.827844Z",
     "iopub.status.idle": "2022-02-26T20:00:34.831478Z",
     "shell.execute_reply": "2022-02-26T20:00:34.832040Z"
    },
    "papermill": {
     "duration": 0.083125,
     "end_time": "2022-02-26T20:00:34.832219",
     "exception": false,
     "start_time": "2022-02-26T20:00:34.749094",
     "status": "completed"
    },
    "tags": []
   },
   "outputs": [],
   "source": [
    "def cross_val(X, y, model, rf, metric, folds):\n",
    "    scores = []\n",
    "    i = 0\n",
    "    for tr_in, val_in in KFold(n_splits = folds).split(X, y):\n",
    "        X_train, y_train, X_val, y_val = X.iloc[tr_in,:], y[tr_in], X.iloc[val_in,:], y[val_in]\n",
    "        \n",
    "        y2 = pd.qcut(y_train, 3, [i for i in range(1,3+1)])\n",
    "        rf.fit(X_train, y2)\n",
    "        \n",
    "        X_train['class'] = rf.predict(X_train)\n",
    "        X_val['class'] = rf.predict(X_val)\n",
    "        \n",
    "        model.fit(X_train, y_train)\n",
    "        \n",
    "        y_hat = model.predict(X_val)\n",
    "        \n",
    "        X_val['y_hat'] = y_hat\n",
    "        X_val['Pred'] = X_val[['class','y_hat']].apply(fix_ranges,axis=1)\n",
    "        \n",
    "        sc = metric(y_val,y_hat)\n",
    "        print(sc)\n",
    "        scores.append(sc)\n",
    "#         if i == 3:\n",
    "#             break\n",
    "        i += 1\n",
    "    return np.mean(scores)"
   ]
  },
  {
   "cell_type": "code",
   "execution_count": null,
   "id": "63b8bf15",
   "metadata": {
    "execution": {
     "iopub.execute_input": "2022-02-26T20:00:34.976949Z",
     "iopub.status.busy": "2022-02-26T20:00:34.976296Z",
     "iopub.status.idle": "2022-02-26T20:00:38.538091Z",
     "shell.execute_reply": "2022-02-26T20:00:38.539000Z"
    },
    "papermill": {
     "duration": 3.63574,
     "end_time": "2022-02-26T20:00:38.539291",
     "exception": false,
     "start_time": "2022-02-26T20:00:34.903551",
     "status": "completed"
    },
    "tags": []
   },
   "outputs": [],
   "source": [
    "cross_val(X, y, BayesianRidge(), RandomForestClassifier(), energy_within_threshold, 5)"
   ]
  },
  {
   "cell_type": "code",
   "execution_count": null,
   "id": "7cc7609c",
   "metadata": {
    "execution": {
     "iopub.execute_input": "2022-02-26T20:00:38.730330Z",
     "iopub.status.busy": "2022-02-26T20:00:38.729685Z",
     "iopub.status.idle": "2022-02-26T20:00:38.733692Z",
     "shell.execute_reply": "2022-02-26T20:00:38.734273Z"
    },
    "papermill": {
     "duration": 0.08104,
     "end_time": "2022-02-26T20:00:38.734457",
     "exception": false,
     "start_time": "2022-02-26T20:00:38.653417",
     "status": "completed"
    },
    "tags": []
   },
   "outputs": [],
   "source": [
    "y2 = pd.qcut(y, 3, [i for i in range(1,3+1)])"
   ]
  },
  {
   "cell_type": "code",
   "execution_count": null,
   "id": "31943bd2",
   "metadata": {
    "execution": {
     "iopub.execute_input": "2022-02-26T20:00:38.881761Z",
     "iopub.status.busy": "2022-02-26T20:00:38.881123Z",
     "iopub.status.idle": "2022-02-26T20:00:39.574273Z",
     "shell.execute_reply": "2022-02-26T20:00:39.574871Z"
    },
    "papermill": {
     "duration": 0.768877,
     "end_time": "2022-02-26T20:00:39.575069",
     "exception": false,
     "start_time": "2022-02-26T20:00:38.806192",
     "status": "completed"
    },
    "tags": []
   },
   "outputs": [],
   "source": [
    "rf = RandomForestClassifier()\n",
    "rf.fit(X, y2)"
   ]
  },
  {
   "cell_type": "code",
   "execution_count": null,
   "id": "172b2e4d",
   "metadata": {
    "execution": {
     "iopub.execute_input": "2022-02-26T20:00:39.722727Z",
     "iopub.status.busy": "2022-02-26T20:00:39.722001Z",
     "iopub.status.idle": "2022-02-26T20:00:39.728241Z",
     "shell.execute_reply": "2022-02-26T20:00:39.727686Z"
    },
    "papermill": {
     "duration": 0.082041,
     "end_time": "2022-02-26T20:00:39.728402",
     "exception": false,
     "start_time": "2022-02-26T20:00:39.646361",
     "status": "completed"
    },
    "tags": []
   },
   "outputs": [],
   "source": [
    "def fix_ranges(s):\n",
    "    c = s['class']\n",
    "    num = s['predictions']\n",
    "    if c == 1:\n",
    "        return np.clip(num, 0.0929, 0.403)\n",
    "    elif c == 2:\n",
    "        return np.clip(num, 0.403, 1.141)\n",
    "    else:\n",
    "        return np.clip(num, 1.141, 1.811)        "
   ]
  },
  {
   "cell_type": "code",
   "execution_count": null,
   "id": "d150145a",
   "metadata": {
    "execution": {
     "iopub.execute_input": "2022-02-26T20:00:39.885568Z",
     "iopub.status.busy": "2022-02-26T20:00:39.884773Z",
     "iopub.status.idle": "2022-02-26T20:00:39.928133Z",
     "shell.execute_reply": "2022-02-26T20:00:39.927247Z"
    },
    "papermill": {
     "duration": 0.123882,
     "end_time": "2022-02-26T20:00:39.928314",
     "exception": false,
     "start_time": "2022-02-26T20:00:39.804432",
     "status": "completed"
    },
    "tags": []
   },
   "outputs": [],
   "source": [
    "private_test['class'] = rf.predict(test)"
   ]
  },
  {
   "cell_type": "code",
   "execution_count": null,
   "id": "9c1a4006",
   "metadata": {
    "execution": {
     "iopub.execute_input": "2022-02-26T20:00:40.080336Z",
     "iopub.status.busy": "2022-02-26T20:00:40.079580Z",
     "iopub.status.idle": "2022-02-26T20:00:40.082195Z",
     "shell.execute_reply": "2022-02-26T20:00:40.082845Z"
    },
    "papermill": {
     "duration": 0.080237,
     "end_time": "2022-02-26T20:00:40.083057",
     "exception": false,
     "start_time": "2022-02-26T20:00:40.002820",
     "status": "completed"
    },
    "tags": []
   },
   "outputs": [],
   "source": [
    "private_test['predictions'] = pred3"
   ]
  },
  {
   "cell_type": "code",
   "execution_count": null,
   "id": "93816daa",
   "metadata": {
    "execution": {
     "iopub.execute_input": "2022-02-26T20:00:40.235686Z",
     "iopub.status.busy": "2022-02-26T20:00:40.234940Z",
     "iopub.status.idle": "2022-02-26T20:00:40.237045Z",
     "shell.execute_reply": "2022-02-26T20:00:40.237600Z"
    },
    "papermill": {
     "duration": 0.08269,
     "end_time": "2022-02-26T20:00:40.237783",
     "exception": false,
     "start_time": "2022-02-26T20:00:40.155093",
     "status": "completed"
    },
    "tags": []
   },
   "outputs": [],
   "source": [
    "# private_test['predictions'] = private_test[['predictions', 'class']].apply(fix_ranges, axis=1)"
   ]
  },
  {
   "cell_type": "code",
   "execution_count": null,
   "id": "4fefacb0",
   "metadata": {
    "execution": {
     "iopub.execute_input": "2022-02-26T20:00:40.391450Z",
     "iopub.status.busy": "2022-02-26T20:00:40.390701Z",
     "iopub.status.idle": "2022-02-26T20:00:40.666153Z",
     "shell.execute_reply": "2022-02-26T20:00:40.666696Z"
    },
    "papermill": {
     "duration": 0.355525,
     "end_time": "2022-02-26T20:00:40.666875",
     "exception": false,
     "start_time": "2022-02-26T20:00:40.311350",
     "status": "completed"
    },
    "tags": []
   },
   "outputs": [],
   "source": [
    "sns.distplot(y)"
   ]
  },
  {
   "cell_type": "code",
   "execution_count": null,
   "id": "a3ed76a1",
   "metadata": {
    "execution": {
     "iopub.execute_input": "2022-02-26T20:00:40.827630Z",
     "iopub.status.busy": "2022-02-26T20:00:40.824458Z",
     "iopub.status.idle": "2022-02-26T20:00:41.092671Z",
     "shell.execute_reply": "2022-02-26T20:00:41.092005Z"
    },
    "papermill": {
     "duration": 0.34978,
     "end_time": "2022-02-26T20:00:41.092828",
     "exception": false,
     "start_time": "2022-02-26T20:00:40.743048",
     "status": "completed"
    },
    "tags": []
   },
   "outputs": [],
   "source": [
    "sns.distplot(private_test['predictions'])"
   ]
  },
  {
   "cell_type": "code",
   "execution_count": null,
   "id": "7dcfb5d5",
   "metadata": {
    "execution": {
     "iopub.execute_input": "2022-02-26T20:00:41.250599Z",
     "iopub.status.busy": "2022-02-26T20:00:41.249202Z",
     "iopub.status.idle": "2022-02-26T20:00:41.264039Z",
     "shell.execute_reply": "2022-02-26T20:00:41.264814Z"
    },
    "papermill": {
     "duration": 0.0958,
     "end_time": "2022-02-26T20:00:41.265050",
     "exception": false,
     "start_time": "2022-02-26T20:00:41.169250",
     "status": "completed"
    },
    "tags": []
   },
   "outputs": [],
   "source": [
    "private_test[['predictions']].to_csv('submission.csv', index_label='id')"
   ]
  },
  {
   "cell_type": "code",
   "execution_count": null,
   "id": "0fb989dd",
   "metadata": {
    "papermill": {
     "duration": 0.074262,
     "end_time": "2022-02-26T20:00:41.515104",
     "exception": false,
     "start_time": "2022-02-26T20:00:41.440842",
     "status": "completed"
    },
    "tags": []
   },
   "outputs": [],
   "source": []
  }
 ],
 "metadata": {
  "kernelspec": {
   "display_name": "Python 3",
   "language": "python",
   "name": "python3"
  },
  "language_info": {
   "codemirror_mode": {
    "name": "ipython",
    "version": 3
   },
   "file_extension": ".py",
   "mimetype": "text/x-python",
   "name": "python",
   "nbconvert_exporter": "python",
   "pygments_lexer": "ipython3",
   "version": "3.8.8"
  },
  "papermill": {
   "default_parameters": {},
   "duration": 4492.239133,
   "end_time": "2022-02-26T20:00:44.814034",
   "environment_variables": {},
   "exception": null,
   "input_path": "__notebook__.ipynb",
   "output_path": "__notebook__.ipynb",
   "parameters": {},
   "start_time": "2022-02-26T18:45:52.574901",
   "version": "2.3.3"
  }
 },
 "nbformat": 4,
 "nbformat_minor": 5
}
