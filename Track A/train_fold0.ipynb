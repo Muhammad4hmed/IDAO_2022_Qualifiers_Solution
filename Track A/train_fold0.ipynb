{
 "cells": [
  {
   "cell_type": "code",
   "execution_count": null,
   "id": "1b5accf9",
   "metadata": {
    "execution": {
     "iopub.execute_input": "2022-02-10T17:52:00.021084Z",
     "iopub.status.busy": "2022-02-10T17:52:00.018561Z",
     "iopub.status.idle": "2022-02-10T17:53:08.544413Z",
     "shell.execute_reply": "2022-02-10T17:53:08.543589Z",
     "shell.execute_reply.started": "2022-02-10T16:52:10.766983Z"
    },
    "papermill": {
     "duration": 68.544233,
     "end_time": "2022-02-10T17:53:08.544588",
     "exception": false,
     "start_time": "2022-02-10T17:52:00.000355",
     "status": "completed"
    },
    "tags": []
   },
   "outputs": [],
   "source": [
    "!pip install megnet -qq"
   ]
  },
  {
   "cell_type": "code",
   "execution_count": null,
   "id": "9207900b",
   "metadata": {
    "execution": {
     "iopub.execute_input": "2022-02-10T17:53:08.564882Z",
     "iopub.status.busy": "2022-02-10T17:53:08.564168Z",
     "iopub.status.idle": "2022-02-10T17:53:15.922185Z",
     "shell.execute_reply": "2022-02-10T17:53:15.921662Z",
     "shell.execute_reply.started": "2022-02-10T16:53:19.281874Z"
    },
    "papermill": {
     "duration": 7.369824,
     "end_time": "2022-02-10T17:53:15.922382",
     "exception": false,
     "start_time": "2022-02-10T17:53:08.552558",
     "status": "completed"
    },
    "tags": []
   },
   "outputs": [],
   "source": [
    "!pip install pymatgen -qq"
   ]
  },
  {
   "cell_type": "code",
   "execution_count": null,
   "id": "b4ea33d4",
   "metadata": {
    "execution": {
     "iopub.execute_input": "2022-02-10T17:53:15.943685Z",
     "iopub.status.busy": "2022-02-10T17:53:15.942917Z",
     "iopub.status.idle": "2022-02-10T17:53:22.620518Z",
     "shell.execute_reply": "2022-02-10T17:53:22.619997Z",
     "shell.execute_reply.started": "2022-02-10T16:53:26.866571Z"
    },
    "papermill": {
     "duration": 6.690735,
     "end_time": "2022-02-10T17:53:22.620655",
     "exception": false,
     "start_time": "2022-02-10T17:53:15.929920",
     "status": "completed"
    },
    "tags": []
   },
   "outputs": [],
   "source": [
    "import yaml\n",
    "import json\n",
    "\n",
    "import pandas as pd\n",
    "import numpy as np\n",
    "import tensorflow as tf\n",
    "\n",
    "from pathlib import Path\n",
    "from pymatgen.core import Structure\n",
    "from sklearn.model_selection import train_test_split\n",
    "from megnet.models import MEGNetModel\n",
    "from megnet.data.crystal import CrystalGraph, CrystalGraphDisordered"
   ]
  },
  {
   "cell_type": "code",
   "execution_count": null,
   "id": "a27e20dd",
   "metadata": {
    "execution": {
     "iopub.execute_input": "2022-02-10T17:53:22.640885Z",
     "iopub.status.busy": "2022-02-10T17:53:22.640055Z",
     "iopub.status.idle": "2022-02-10T17:53:22.641883Z",
     "shell.execute_reply": "2022-02-10T17:53:22.642319Z",
     "shell.execute_reply.started": "2022-02-10T16:53:33.565685Z"
    },
    "papermill": {
     "duration": 0.014246,
     "end_time": "2022-02-10T17:53:22.642440",
     "exception": false,
     "start_time": "2022-02-10T17:53:22.628194",
     "status": "completed"
    },
    "tags": []
   },
   "outputs": [],
   "source": [
    "class config:\n",
    "    datapath = 'idao_2022_data/dichalcogenides_public/dichalcogenides_public'\n",
    "    test_datapath = 'idao_2022_data/dichalcogenides_private/dichalcogenides_private'\n",
    "    checkpoint_path = 'model.hdf5'\n",
    "    epochs = 1500\n",
    "    batch_size = 64\n",
    "    lr = 2e-4 \n",
    "    cutoff = 4\n",
    "    from_file = False\n",
    "    from_MVL = True\n",
    "    model = 'Efermi_MP_2019' # \"../input/mvl-models/mvl_models/mp-2018.6.1/formation_energy.hdf5\"\n",
    "    fold = 0"
   ]
  },
  {
   "cell_type": "code",
   "execution_count": null,
   "id": "c42cf9d2",
   "metadata": {
    "execution": {
     "iopub.execute_input": "2022-02-10T17:53:22.670077Z",
     "iopub.status.busy": "2022-02-10T17:53:22.668516Z",
     "iopub.status.idle": "2022-02-10T17:53:22.670683Z",
     "shell.execute_reply": "2022-02-10T17:53:22.671122Z",
     "shell.execute_reply.started": "2022-02-10T17:13:03.068359Z"
    },
    "papermill": {
     "duration": 0.021661,
     "end_time": "2022-02-10T17:53:22.671277",
     "exception": false,
     "start_time": "2022-02-10T17:53:22.649616",
     "status": "completed"
    },
    "tags": []
   },
   "outputs": [],
   "source": [
    "def read_pymatgen_dict(file):\n",
    "    with open(file, \"r\") as f:\n",
    "        d = json.load(f)\n",
    "    return Structure.from_dict(d)\n",
    "\n",
    "\n",
    "def energy_within_threshold(prediction, target):\n",
    "    # compute absolute error on energy per system.\n",
    "    # then count the no. of systems where max energy error is < 0.02.\n",
    "    e_thresh = 0.02\n",
    "    error_energy = tf.math.abs(target - prediction)\n",
    "\n",
    "    success = tf.math.count_nonzero(error_energy < e_thresh)\n",
    "    total = tf.size(target)\n",
    "    return success / tf.cast(total, tf.int64)\n",
    "\n",
    "def prepare_dataset(dataset_path):\n",
    "    dataset_path = Path(dataset_path)\n",
    "    targets = pd.read_csv(dataset_path / \"targets.csv\", index_col=0)\n",
    "    struct = {\n",
    "        item.name.strip(\".json\"): read_pymatgen_dict(item)\n",
    "        for item in (dataset_path / \"structures\").iterdir()\n",
    "    }\n",
    "\n",
    "    data = pd.DataFrame(columns=[\"structures\"], index=struct.keys())\n",
    "    data = data.assign(structures=struct.values(), targets=targets)\n",
    "\n",
    "    return data\n",
    "\n",
    "def prepare_model(cutoff, lr):\n",
    "    nfeat_bond = 10\n",
    "    r_cutoff = cutoff\n",
    "    gaussian_centers = np.linspace(0, r_cutoff + 1, nfeat_bond)\n",
    "    gaussian_width = 0.8\n",
    "    model = MEGNetModel(\n",
    "        graph_converter=CrystalGraph(cutoff=r_cutoff),\n",
    "        centers=gaussian_centers,\n",
    "        width=gaussian_width,\n",
    "        loss=[\"categorical_crossentropy\"],\n",
    "        ntarget = 3,\n",
    "        npass=2,\n",
    "        learning_rate=lr\n",
    "    )\n",
    "    model_form = MEGNetModel.from_mvl_models('Efermi_MP_2019')\n",
    "    \n",
    "    embedding_layer = [i for i in model_form.layers if i.name.startswith('embedding')][0]\n",
    "    embedding = embedding_layer.get_weights()[0]\n",
    "    \n",
    "    embedding_layer_index = [i for i, j in enumerate(model.layers) if j.name.startswith('atom_embedding')][0]\n",
    "\n",
    "    # Set the weights to our previous embedding\n",
    "    model.layers[embedding_layer_index].set_weights([embedding])\n",
    "    \n",
    "    return model"
   ]
  },
  {
   "cell_type": "code",
   "execution_count": null,
   "id": "6d67fb72",
   "metadata": {
    "execution": {
     "iopub.execute_input": "2022-02-10T17:53:22.691051Z",
     "iopub.status.busy": "2022-02-10T17:53:22.690517Z",
     "iopub.status.idle": "2022-02-10T17:54:19.586917Z",
     "shell.execute_reply": "2022-02-10T17:54:19.585983Z",
     "shell.execute_reply.started": "2022-02-10T16:53:33.598657Z"
    },
    "papermill": {
     "duration": 56.908481,
     "end_time": "2022-02-10T17:54:19.587076",
     "exception": false,
     "start_time": "2022-02-10T17:53:22.678595",
     "status": "completed"
    },
    "tags": []
   },
   "outputs": [],
   "source": [
    "data = prepare_dataset(config.datapath)\n",
    "folds = pd.read_csv('IDAO_Data_Folds.csv')\n",
    "data['Fold'] = folds['Fold'].values\n",
    "data['bins'] = pd.qcut(data['targets'], q = 3, labels = [0, 1, 2]).astype('int')\n",
    "train = data[data['Fold'] != config.fold]\n",
    "test = data[data['Fold'] == config.fold]"
   ]
  },
  {
   "cell_type": "code",
   "execution_count": null,
   "id": "caee865c",
   "metadata": {
    "execution": {
     "iopub.execute_input": "2022-02-10T17:54:19.606916Z",
     "iopub.status.busy": "2022-02-10T17:54:19.606146Z",
     "iopub.status.idle": "2022-02-10T17:54:30.471060Z",
     "shell.execute_reply": "2022-02-10T17:54:30.470539Z",
     "shell.execute_reply.started": "2022-02-10T17:13:05.048939Z"
    },
    "papermill": {
     "duration": 10.876351,
     "end_time": "2022-02-10T17:54:30.471224",
     "exception": false,
     "start_time": "2022-02-10T17:54:19.594873",
     "status": "completed"
    },
    "tags": []
   },
   "outputs": [],
   "source": [
    "model = prepare_model(\n",
    "    float(config.cutoff),\n",
    "    float(config.lr), \n",
    ")\n"
   ]
  },
  {
   "cell_type": "code",
   "execution_count": null,
   "id": "bca987ee",
   "metadata": {
    "_cell_guid": "b1076dfc-b9ad-4769-8c92-a6c4dae69d19",
    "_uuid": "8f2839f25d086af736a60e9eeb907d3b93b6e0e5",
    "execution": {
     "iopub.execute_input": "2022-02-10T17:54:30.498655Z",
     "iopub.status.busy": "2022-02-10T17:54:30.494947Z",
     "iopub.status.idle": "2022-02-10T18:32:24.941919Z",
     "shell.execute_reply": "2022-02-10T18:32:24.942372Z"
    },
    "papermill": {
     "duration": 2274.460924,
     "end_time": "2022-02-10T18:32:24.942542",
     "exception": false,
     "start_time": "2022-02-10T17:54:30.481618",
     "status": "completed"
    },
    "tags": []
   },
   "outputs": [],
   "source": [
    "model.train(\n",
    "    train.structures,\n",
    "    train.bins,\n",
    "    validation_structures=test.structures,\n",
    "    validation_targets=test.bins,\n",
    "    epochs=int(config.epochs),\n",
    "    batch_size=int(config.batch_size),\n",
    ")"
   ]
  },
  {
   "cell_type": "code",
   "execution_count": null,
   "id": "f3d319a6",
   "metadata": {
    "papermill": {
     "duration": 0.514027,
     "end_time": "2022-02-10T18:32:25.970714",
     "exception": false,
     "start_time": "2022-02-10T18:32:25.456687",
     "status": "completed"
    },
    "tags": []
   },
   "outputs": [],
   "source": []
  },
  {
   "cell_type": "code",
   "execution_count": null,
   "id": "af8f88d5",
   "metadata": {
    "papermill": {
     "duration": 0.518287,
     "end_time": "2022-02-10T18:32:27.000716",
     "exception": false,
     "start_time": "2022-02-10T18:32:26.482429",
     "status": "completed"
    },
    "tags": []
   },
   "outputs": [],
   "source": []
  }
 ],
 "metadata": {
  "kernelspec": {
   "display_name": "Python 3",
   "language": "python",
   "name": "python3"
  },
  "language_info": {
   "codemirror_mode": {
    "name": "ipython",
    "version": 3
   },
   "file_extension": ".py",
   "mimetype": "text/x-python",
   "name": "python",
   "nbconvert_exporter": "python",
   "pygments_lexer": "ipython3",
   "version": "3.8.8"
  },
  "papermill": {
   "default_parameters": {},
   "duration": 2438.197974,
   "end_time": "2022-02-10T18:32:30.228871",
   "environment_variables": {},
   "exception": null,
   "input_path": "__notebook__.ipynb",
   "output_path": "__notebook__.ipynb",
   "parameters": {},
   "start_time": "2022-02-10T17:51:52.030897",
   "version": "2.3.3"
  }
 },
 "nbformat": 4,
 "nbformat_minor": 5
}
