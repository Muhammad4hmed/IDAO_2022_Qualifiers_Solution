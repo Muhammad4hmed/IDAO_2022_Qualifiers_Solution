{
 "cells": [
  {
   "cell_type": "code",
   "execution_count": 1,
   "id": "27d8da96",
   "metadata": {
    "execution": {
     "iopub.execute_input": "2022-02-26T18:46:03.836816Z",
     "iopub.status.busy": "2022-02-26T18:46:03.834800Z",
     "iopub.status.idle": "2022-02-26T18:47:30.849025Z",
     "shell.execute_reply": "2022-02-26T18:47:30.848186Z",
     "shell.execute_reply.started": "2022-02-26T18:18:31.383443Z"
    },
    "papermill": {
     "duration": 87.06063,
     "end_time": "2022-02-26T18:47:30.849246",
     "exception": false,
     "start_time": "2022-02-26T18:46:03.788616",
     "status": "completed"
    },
    "tags": []
   },
   "outputs": [],
   "source": [
    "!pip install megnet -qq"
   ]
  },
  {
   "cell_type": "code",
   "execution_count": 2,
   "id": "749aefe4",
   "metadata": {
    "execution": {
     "iopub.execute_input": "2022-02-26T18:47:30.942918Z",
     "iopub.status.busy": "2022-02-26T18:47:30.941517Z",
     "iopub.status.idle": "2022-02-26T18:47:41.001844Z",
     "shell.execute_reply": "2022-02-26T18:47:41.000497Z",
     "shell.execute_reply.started": "2022-02-26T18:19:48.953460Z"
    },
    "papermill": {
     "duration": 10.110239,
     "end_time": "2022-02-26T18:47:41.002207",
     "exception": false,
     "start_time": "2022-02-26T18:47:30.891968",
     "status": "completed"
    },
    "tags": []
   },
   "outputs": [],
   "source": [
    "!pip install pymatgen -qq"
   ]
  },
  {
   "cell_type": "code",
   "execution_count": 3,
   "id": "f33a362e",
   "metadata": {
    "_cell_guid": "b1076dfc-b9ad-4769-8c92-a6c4dae69d19",
    "_uuid": "8f2839f25d086af736a60e9eeb907d3b93b6e0e5",
    "execution": {
     "iopub.execute_input": "2022-02-26T18:47:41.108919Z",
     "iopub.status.busy": "2022-02-26T18:47:41.108186Z",
     "iopub.status.idle": "2022-02-26T18:47:52.908292Z",
     "shell.execute_reply": "2022-02-26T18:47:52.907226Z",
     "shell.execute_reply.started": "2022-02-26T18:19:56.656670Z"
    },
    "papermill": {
     "duration": 11.859582,
     "end_time": "2022-02-26T18:47:52.908627",
     "exception": false,
     "start_time": "2022-02-26T18:47:41.049045",
     "status": "completed"
    },
    "tags": []
   },
   "outputs": [],
   "source": [
    "import yaml\n",
    "import json\n",
    "\n",
    "import pandas as pd\n",
    "import numpy as np\n",
    "from pathlib import Path\n",
    "import tensorflow as tf\n",
    "\n",
    "from pathlib import Path\n",
    "from pymatgen.core import Structure\n",
    "from sklearn.model_selection import train_test_split\n",
    "from megnet.models import MEGNetModel\n",
    "from megnet.data.crystal import CrystalGraph"
   ]
  },
  {
   "cell_type": "code",
   "execution_count": 4,
   "id": "3ab81848",
   "metadata": {
    "execution": {
     "iopub.execute_input": "2022-02-26T18:47:53.039831Z",
     "iopub.status.busy": "2022-02-26T18:47:53.038346Z",
     "iopub.status.idle": "2022-02-26T18:47:53.041841Z",
     "shell.execute_reply": "2022-02-26T18:47:53.041043Z",
     "shell.execute_reply.started": "2022-02-26T18:20:04.494897Z"
    },
    "papermill": {
     "duration": 0.068778,
     "end_time": "2022-02-26T18:47:53.042077",
     "exception": false,
     "start_time": "2022-02-26T18:47:52.973299",
     "status": "completed"
    },
    "tags": []
   },
   "outputs": [],
   "source": [
    "class config:\n",
    "    datapath = 'idao_2022_data/dichalcogenides_public/dichalcogenides_public'\n",
    "    test_datapath = 'idao_2022_data/dichalcogenides_private/dichalcogenides_private'\n",
    "    checkpoint_path = 'idao_2022_data/val_mae_00014_0.028897.hdf5'\n",
    "    epochs = 800\n",
    "    batch_size = 128\n",
    "    lr = 2e-4 \n",
    "    cutoff = 4"
   ]
  },
  {
   "cell_type": "code",
   "execution_count": 5,
   "id": "d1a785ec",
   "metadata": {
    "execution": {
     "iopub.execute_input": "2022-02-26T18:47:53.178139Z",
     "iopub.status.busy": "2022-02-26T18:47:53.177397Z",
     "iopub.status.idle": "2022-02-26T18:47:53.180494Z",
     "shell.execute_reply": "2022-02-26T18:47:53.181019Z",
     "shell.execute_reply.started": "2022-02-26T18:20:04.504700Z"
    },
    "papermill": {
     "duration": 0.075746,
     "end_time": "2022-02-26T18:47:53.181215",
     "exception": false,
     "start_time": "2022-02-26T18:47:53.105469",
     "status": "completed"
    },
    "tags": []
   },
   "outputs": [],
   "source": [
    "def read_pymatgen_dict(file):\n",
    "    with open(file, \"r\") as f:\n",
    "        d = json.load(f)\n",
    "    return Structure.from_dict(d)\n",
    "\n",
    "en = None\n",
    "def energy_within_threshold(prediction, target):\n",
    "    global en\n",
    "    # compute absolute error on energy per system.\n",
    "    # then count the no. of systems where max energy error is < 0.02.\n",
    "    e_thresh = 0.02\n",
    "    error_energy = tf.math.abs(target - prediction)\n",
    "    en = error_energy\n",
    "    success = tf.math.count_nonzero(error_energy < e_thresh)\n",
    "    total = tf.size(target)\n",
    "    return success / tf.cast(total, tf.int64)\n",
    "\n",
    "def prepare_dataset(dataset_path):\n",
    "    dataset_path = Path(dataset_path)\n",
    "    targets = pd.read_csv(dataset_path / \"targets.csv\", index_col=0)\n",
    "    struct = {\n",
    "        item.name.strip(\".json\"): read_pymatgen_dict(item)\n",
    "        for item in (dataset_path / \"structures\").iterdir()\n",
    "    }\n",
    "\n",
    "    data = pd.DataFrame(columns=[\"structures\"], index=struct.keys())\n",
    "    data = data.assign(structures=struct.values(), targets=targets)\n",
    "\n",
    "    return train_test_split(data, test_size=0.25, random_state=666)\n",
    "\n",
    " \n",
    "def prepare_model(cutoff, lr):\n",
    "    nfeat_bond = 10\n",
    "    r_cutoff = cutoff\n",
    "    gaussian_centers = np.linspace(0, r_cutoff + 1, nfeat_bond)\n",
    "    gaussian_width = 0.8\n",
    "    model = MEGNetModel(\n",
    "        graph_converter=CrystalGraph(cutoff=r_cutoff),\n",
    "        centers=gaussian_centers,\n",
    "        width=gaussian_width,\n",
    "        loss=[\"MSE\"],\n",
    "        npass=2,\n",
    "        lr=lr,\n",
    "        metrics=energy_within_threshold\n",
    "    )\n",
    "#     ['Eform_MP_2019', 'Eform_MP_2018', 'Efermi_MP_2019', 'Bandgap_classifier_MP_2018', 'Bandgap_MP_2018', 'logK_MP_2018', 'logG_MP_2018', 'logK_MP_2019', 'logG_MP_2019']\n",
    "#     best = Efermi_MP_2019 some others: 'Eform_MP_2019', 'Eform_MP_2018'\n",
    "    model = model.from_file(\"mvl_models/mvl_models/mp-2019.4.1/efermi.hdf5\") \n",
    "    model.loss = ['MAE']\n",
    "    model.metrics = energy_within_threshold\n",
    "    return model"
   ]
  },
  {
   "cell_type": "code",
   "execution_count": 6,
   "id": "62426aae",
   "metadata": {
    "execution": {
     "iopub.execute_input": "2022-02-26T18:47:53.263912Z",
     "iopub.status.busy": "2022-02-26T18:47:53.262904Z",
     "iopub.status.idle": "2022-02-26T18:47:53.265585Z",
     "shell.execute_reply": "2022-02-26T18:47:53.266141Z",
     "shell.execute_reply.started": "2022-02-26T18:20:04.526602Z"
    },
    "papermill": {
     "duration": 0.047363,
     "end_time": "2022-02-26T18:47:53.266337",
     "exception": false,
     "start_time": "2022-02-26T18:47:53.218974",
     "status": "completed"
    },
    "tags": []
   },
   "outputs": [],
   "source": [
    "dataset_path = Path(config.datapath)"
   ]
  },
  {
   "cell_type": "code",
   "execution_count": 7,
   "id": "08b9c9d9",
   "metadata": {
    "execution": {
     "iopub.execute_input": "2022-02-26T18:47:53.348085Z",
     "iopub.status.busy": "2022-02-26T18:47:53.347071Z",
     "iopub.status.idle": "2022-02-26T18:48:45.640479Z",
     "shell.execute_reply": "2022-02-26T18:48:45.639695Z",
     "shell.execute_reply.started": "2022-02-26T18:20:04.541673Z"
    },
    "papermill": {
     "duration": 52.334962,
     "end_time": "2022-02-26T18:48:45.640673",
     "exception": false,
     "start_time": "2022-02-26T18:47:53.305711",
     "status": "completed"
    },
    "tags": []
   },
   "outputs": [],
   "source": [
    "struct = {item.name.strip('.json'): read_pymatgen_dict(item) for item in (dataset_path/'structures').iterdir()}"
   ]
  },
  {
   "cell_type": "code",
   "execution_count": 8,
   "id": "dca07220",
   "metadata": {
    "execution": {
     "iopub.execute_input": "2022-02-26T18:48:45.726610Z",
     "iopub.status.busy": "2022-02-26T18:48:45.725323Z",
     "iopub.status.idle": "2022-02-26T18:48:45.727759Z",
     "shell.execute_reply": "2022-02-26T18:48:45.728287Z",
     "shell.execute_reply.started": "2022-02-26T18:20:34.502526Z"
    },
    "papermill": {
     "duration": 0.047564,
     "end_time": "2022-02-26T18:48:45.728481",
     "exception": false,
     "start_time": "2022-02-26T18:48:45.680917",
     "status": "completed"
    },
    "tags": []
   },
   "outputs": [],
   "source": [
    "import tqdm"
   ]
  },
  {
   "cell_type": "code",
   "execution_count": 9,
   "id": "4ac271e2",
   "metadata": {
    "execution": {
     "iopub.execute_input": "2022-02-26T18:48:45.809045Z",
     "iopub.status.busy": "2022-02-26T18:48:45.808230Z",
     "iopub.status.idle": "2022-02-26T18:48:45.811904Z",
     "shell.execute_reply": "2022-02-26T18:48:45.811259Z",
     "shell.execute_reply.started": "2022-02-26T18:20:34.508790Z"
    },
    "papermill": {
     "duration": 0.046062,
     "end_time": "2022-02-26T18:48:45.812084",
     "exception": false,
     "start_time": "2022-02-26T18:48:45.766022",
     "status": "completed"
    },
    "tags": []
   },
   "outputs": [],
   "source": [
    "models_path = [\n",
    "    'Efermi_MP_2019_Weights/val_mae_00011_0.009874_fold0.hdf5',\n",
    "    'Efermi_MP_2019_Weights/val_mae_00025_0.005614_fold1.hdf5',\n",
    "    'Efermi_MP_2019_Weights/val_mae_00013_0.007578_fold2.hdf5',\n",
    "    'Efermi_MP_2019_Weights/val_mae_00016_0.007441_fold3.hdf5',\n",
    "    'Efermi_MP_2019_Weights/val_mae_00007_0.007703_fold4.hdf5',\n",
    "    \n",
    "    'Efermi_MP_2019_Weights/val_mae_00007_0.010768_fold0.hdf5',\n",
    "    'Efermi_MP_2019_Weights/val_mae_00023_0.005869_fold1.hdf5',\n",
    "    'Efermi_MP_2019_Weights/val_mae_00014_0.008344_fold2.hdf5',\n",
    "    'Efermi_MP_2019_Weights/val_mae_00019_0.007814_fold3.hdf5',\n",
    "    'Efermi_MP_2019_Weights/val_mae_00007_0.008662_fold4.hdf5'\n",
    "]"
   ]
  },
  {
   "cell_type": "code",
   "execution_count": 10,
   "id": "4896b8fc",
   "metadata": {
    "execution": {
     "iopub.execute_input": "2022-02-26T18:48:45.936757Z",
     "iopub.status.busy": "2022-02-26T18:48:45.928643Z",
     "iopub.status.idle": "2022-02-26T19:23:28.537530Z",
     "shell.execute_reply": "2022-02-26T19:23:28.535782Z",
     "shell.execute_reply.started": "2022-02-26T18:20:34.542475Z"
    },
    "papermill": {
     "duration": 2082.688453,
     "end_time": "2022-02-26T19:23:28.537775",
     "exception": false,
     "start_time": "2022-02-26T18:48:45.849322",
     "status": "completed"
    },
    "tags": []
   },
   "outputs": [
    {
     "name": "stderr",
     "output_type": "stream",
     "text": [
      "  0%|          | 0/10 [00:00<?, ?it/s]\n",
      "User settings:\n",
      "\n",
      "   KMP_AFFINITY=granularity=fine,noverbose,compact,1,0\n",
      "   KMP_BLOCKTIME=0\n",
      "   KMP_DUPLICATE_LIB_OK=True\n",
      "   KMP_INIT_AT_FORK=FALSE\n",
      "   KMP_SETTINGS=1\n",
      "   KMP_WARNINGS=0\n",
      "\n",
      "Effective settings:\n",
      "\n",
      "   KMP_ABORT_DELAY=0\n",
      "   KMP_ADAPTIVE_LOCK_PROPS='1,1024'\n",
      "   KMP_ALIGN_ALLOC=64\n",
      "   KMP_ALL_THREADPRIVATE=128\n",
      "   KMP_ATOMIC_MODE=2\n",
      "   KMP_BLOCKTIME=0\n",
      "   KMP_CPUINFO_FILE: value is not defined\n",
      "   KMP_DETERMINISTIC_REDUCTION=false\n",
      "   KMP_DEVICE_THREAD_LIMIT=2147483647\n",
      "   KMP_DISP_NUM_BUFFERS=7\n",
      "   KMP_DUPLICATE_LIB_OK=true\n",
      "   KMP_ENABLE_TASK_THROTTLING=true\n",
      "   KMP_FORCE_REDUCTION: value is not defined\n",
      "   KMP_FOREIGN_THREADS_THREADPRIVATE=true\n",
      "   KMP_FORKJOIN_BARRIER='2,2'\n",
      "   KMP_FORKJOIN_BARRIER_PATTERN='hyper,hyper'\n",
      "   KMP_GTID_MODE=3\n",
      "   KMP_HANDLE_SIGNALS=false\n",
      "   KMP_HOT_TEAMS_MAX_LEVEL=1\n",
      "   KMP_HOT_TEAMS_MODE=0\n",
      "   KMP_INIT_AT_FORK=true\n",
      "   KMP_LIBRARY=throughput\n",
      "   KMP_LOCK_KIND=queuing\n",
      "   KMP_MALLOC_POOL_INCR=1M\n",
      "   KMP_NUM_LOCKS_IN_BLOCK=1\n",
      "   KMP_PLAIN_BARRIER='2,2'\n",
      "   KMP_PLAIN_BARRIER_PATTERN='hyper,hyper'\n",
      "   KMP_REDUCTION_BARRIER='1,1'\n",
      "   KMP_REDUCTION_BARRIER_PATTERN='hyper,hyper'\n",
      "   KMP_SCHEDULE='static,balanced;guided,iterative'\n",
      "   KMP_SETTINGS=true\n",
      "   KMP_SPIN_BACKOFF_PARAMS='4096,100'\n",
      "   KMP_STACKOFFSET=64\n",
      "   KMP_STACKPAD=0\n",
      "   KMP_STACKSIZE=8M\n",
      "   KMP_STORAGE_MAP=false\n",
      "   KMP_TASKING=2\n",
      "   KMP_TASKLOOP_MIN_TASKS=0\n",
      "   KMP_TASK_STEALING_CONSTRAINT=1\n",
      "   KMP_TEAMS_THREAD_LIMIT=4\n",
      "   KMP_TOPOLOGY_METHOD=all\n",
      "   KMP_USE_YIELD=1\n",
      "   KMP_VERSION=false\n",
      "   KMP_WARNINGS=false\n",
      "   OMP_AFFINITY_FORMAT='OMP: pid %P tid %i thread %n bound to OS proc set {%A}'\n",
      "   OMP_ALLOCATOR=omp_default_mem_alloc\n",
      "   OMP_CANCELLATION=false\n",
      "   OMP_DEFAULT_DEVICE=0\n",
      "   OMP_DISPLAY_AFFINITY=false\n",
      "   OMP_DISPLAY_ENV=false\n",
      "   OMP_DYNAMIC=false\n",
      "   OMP_MAX_ACTIVE_LEVELS=1\n",
      "   OMP_MAX_TASK_PRIORITY=0\n",
      "   OMP_NESTED: deprecated; max-active-levels-var=1\n",
      "   OMP_NUM_THREADS: value is not defined\n",
      "   OMP_PLACES: value is not defined\n",
      "   OMP_PROC_BIND='intel'\n",
      "   OMP_SCHEDULE='static'\n",
      "   OMP_STACKSIZE=8M\n",
      "   OMP_TARGET_OFFLOAD=DEFAULT\n",
      "   OMP_THREAD_LIMIT=2147483647\n",
      "   OMP_WAIT_POLICY=PASSIVE\n",
      "   KMP_AFFINITY='noverbose,warnings,respect,granularity=fine,compact,1,0'\n",
      "\n",
      "2022-02-26 18:48:46.005001: I tensorflow/core/common_runtime/process_util.cc:146] Creating new thread pool with default inter op setting: 2. Tune using inter_op_parallelism_threads for best performance.\n",
      "/opt/conda/lib/python3.7/site-packages/keras/optimizer_v2/optimizer_v2.py:356: UserWarning: The `lr` argument is deprecated, use `learning_rate` instead.\n",
      "  \"The `lr` argument is deprecated, use `learning_rate` instead.\")\n",
      "2022-02-26 18:49:32.704601: I tensorflow/compiler/mlir/mlir_graph_optimization_pass.cc:185] None of the MLIR Optimization Passes are enabled (registered 2)\n",
      "100%|██████████| 10/10 [34:42<00:00, 208.25s/it]\n"
     ]
    }
   ],
   "source": [
    "public_test = pd.DataFrame(columns=['id', 'structures'], index=struct.keys())\n",
    "public_test = public_test.assign(structures=struct.values())\n",
    "predictions =[]\n",
    "for path in tqdm.tqdm(models_path):\n",
    "    model = prepare_model(\n",
    "        float(config.cutoff), float(config.lr)\n",
    "    )\n",
    "    model.load_weights(path)\n",
    "    predictions.append(model.predict_structures(public_test.structures))"
   ]
  },
  {
   "cell_type": "code",
   "execution_count": 11,
   "id": "79021a8b",
   "metadata": {
    "execution": {
     "iopub.execute_input": "2022-02-26T19:23:28.636842Z",
     "iopub.status.busy": "2022-02-26T19:23:28.635958Z",
     "iopub.status.idle": "2022-02-26T19:23:28.644506Z",
     "shell.execute_reply": "2022-02-26T19:23:28.645173Z",
     "shell.execute_reply.started": "2022-02-26T18:45:15.924558Z"
    },
    "papermill": {
     "duration": 0.062262,
     "end_time": "2022-02-26T19:23:28.645368",
     "exception": false,
     "start_time": "2022-02-26T19:23:28.583106",
     "status": "completed"
    },
    "tags": []
   },
   "outputs": [
    {
     "data": {
      "text/plain": [
       "[array([[0.35770392],\n",
       "        [0.35634232],\n",
       "        [0.3985312 ],\n",
       "        ...,\n",
       "        [1.0894189 ],\n",
       "        [0.35982156],\n",
       "        [1.8088144 ]], dtype=float32),\n",
       " array([[0.35767126],\n",
       "        [0.39552808],\n",
       "        [0.35384154],\n",
       "        ...,\n",
       "        [1.0898733 ],\n",
       "        [0.35690808],\n",
       "        [1.8076609 ]], dtype=float32),\n",
       " array([[0.35638165],\n",
       "        [0.3869543 ],\n",
       "        [0.36231136],\n",
       "        ...,\n",
       "        [1.0914836 ],\n",
       "        [0.36240506],\n",
       "        [1.8092458 ]], dtype=float32),\n",
       " array([[0.3547244 ],\n",
       "        [0.39407825],\n",
       "        [0.3521626 ],\n",
       "        ...,\n",
       "        [1.0858088 ],\n",
       "        [0.35681224],\n",
       "        [1.8088752 ]], dtype=float32),\n",
       " array([[0.36093855],\n",
       "        [0.37485504],\n",
       "        [0.35588574],\n",
       "        ...,\n",
       "        [1.082457  ],\n",
       "        [0.35818267],\n",
       "        [1.808767  ]], dtype=float32),\n",
       " array([[0.35884738],\n",
       "        [0.35651112],\n",
       "        [0.3945763 ],\n",
       "        ...,\n",
       "        [1.0929179 ],\n",
       "        [0.35972786],\n",
       "        [1.808327  ]], dtype=float32),\n",
       " array([[0.3594718 ],\n",
       "        [0.39993215],\n",
       "        [0.35881257],\n",
       "        ...,\n",
       "        [1.091249  ],\n",
       "        [0.35843873],\n",
       "        [1.8085202 ]], dtype=float32),\n",
       " array([[0.3579502 ],\n",
       "        [0.39708614],\n",
       "        [0.36534142],\n",
       "        ...,\n",
       "        [1.0875553 ],\n",
       "        [0.36609197],\n",
       "        [1.8084166 ]], dtype=float32),\n",
       " array([[0.35923123],\n",
       "        [0.38391423],\n",
       "        [0.35872245],\n",
       "        ...,\n",
       "        [1.0851992 ],\n",
       "        [0.36279774],\n",
       "        [1.8094137 ]], dtype=float32),\n",
       " array([[0.35832715],\n",
       "        [0.3636427 ],\n",
       "        [0.36037183],\n",
       "        ...,\n",
       "        [1.0879115 ],\n",
       "        [0.35497522],\n",
       "        [1.8092409 ]], dtype=float32)]"
      ]
     },
     "execution_count": 11,
     "metadata": {},
     "output_type": "execute_result"
    }
   ],
   "source": [
    "predictions"
   ]
  },
  {
   "cell_type": "code",
   "execution_count": 12,
   "id": "f31d0b08",
   "metadata": {
    "execution": {
     "iopub.execute_input": "2022-02-26T19:23:28.746147Z",
     "iopub.status.busy": "2022-02-26T19:23:28.745075Z",
     "iopub.status.idle": "2022-02-26T19:23:28.773383Z",
     "shell.execute_reply": "2022-02-26T19:23:28.774017Z",
     "shell.execute_reply.started": "2022-02-26T18:45:15.939206Z"
    },
    "papermill": {
     "duration": 0.079148,
     "end_time": "2022-02-26T19:23:28.774216",
     "exception": false,
     "start_time": "2022-02-26T19:23:28.695068",
     "status": "completed"
    },
    "tags": []
   },
   "outputs": [],
   "source": [
    "pseudo = pd.DataFrame()\n",
    "pseudo['id'] = public_test['id'].index.values\n",
    "pseudo['Pred0'] = pd.DataFrame(predictions[0])\n",
    "pseudo['Pred1'] = pd.DataFrame(predictions[1])\n",
    "pseudo['Pred2'] = pd.DataFrame(predictions[2])\n",
    "pseudo['Pred3'] = pd.DataFrame(predictions[3])\n",
    "pseudo['Pred4'] = pd.DataFrame(predictions[4])\n",
    "pseudo['Pred5'] = pd.DataFrame(predictions[5])\n",
    "pseudo['Pred6'] = pd.DataFrame(predictions[6])\n",
    "pseudo['Pred7'] = pd.DataFrame(predictions[7])\n",
    "pseudo['Pred8'] = pd.DataFrame(predictions[8])\n",
    "pseudo['Pred9'] = pd.DataFrame(predictions[9])"
   ]
  },
  {
   "cell_type": "code",
   "execution_count": 13,
   "id": "8980acab",
   "metadata": {
    "execution": {
     "iopub.execute_input": "2022-02-26T19:23:28.873941Z",
     "iopub.status.busy": "2022-02-26T19:23:28.872834Z",
     "iopub.status.idle": "2022-02-26T19:23:28.924310Z",
     "shell.execute_reply": "2022-02-26T19:23:28.924977Z",
     "shell.execute_reply.started": "2022-02-26T18:45:15.969647Z"
    },
    "papermill": {
     "duration": 0.103113,
     "end_time": "2022-02-26T19:23:28.925201",
     "exception": false,
     "start_time": "2022-02-26T19:23:28.822088",
     "status": "completed"
    },
    "tags": []
   },
   "outputs": [],
   "source": [
    "truth = pd.read_csv('idao_2022_data/dichalcogenides_public/dichalcogenides_public/targets.csv')\n",
    "truth = truth.rename({'_id':'id'},axis=1)"
   ]
  },
  {
   "cell_type": "code",
   "execution_count": 14,
   "id": "f58fad40",
   "metadata": {
    "execution": {
     "iopub.execute_input": "2022-02-26T19:23:29.017576Z",
     "iopub.status.busy": "2022-02-26T19:23:29.016538Z",
     "iopub.status.idle": "2022-02-26T19:23:29.049493Z",
     "shell.execute_reply": "2022-02-26T19:23:29.050088Z",
     "shell.execute_reply.started": "2022-02-26T18:45:16.013186Z"
    },
    "papermill": {
     "duration": 0.081188,
     "end_time": "2022-02-26T19:23:29.050274",
     "exception": false,
     "start_time": "2022-02-26T19:23:28.969086",
     "status": "completed"
    },
    "tags": []
   },
   "outputs": [],
   "source": [
    "pseudo = pd.merge(pseudo, truth, on ='id').drop('id',axis=1)"
   ]
  },
  {
   "cell_type": "code",
   "execution_count": 15,
   "id": "19240ab5",
   "metadata": {
    "execution": {
     "iopub.execute_input": "2022-02-26T19:23:29.144631Z",
     "iopub.status.busy": "2022-02-26T19:23:29.143817Z",
     "iopub.status.idle": "2022-02-26T19:23:29.199068Z",
     "shell.execute_reply": "2022-02-26T19:23:29.198412Z",
     "shell.execute_reply.started": "2022-02-26T18:45:16.045680Z"
    },
    "papermill": {
     "duration": 0.104189,
     "end_time": "2022-02-26T19:23:29.199226",
     "exception": false,
     "start_time": "2022-02-26T19:23:29.095037",
     "status": "completed"
    },
    "tags": []
   },
   "outputs": [],
   "source": [
    "# pseudo.to_csv('pseudo.csv', index = False)"
   ]
  },
  {
   "cell_type": "code",
   "execution_count": 16,
   "id": "183d2261",
   "metadata": {
    "execution": {
     "iopub.execute_input": "2022-02-26T19:23:29.300118Z",
     "iopub.status.busy": "2022-02-26T19:23:29.297302Z",
     "iopub.status.idle": "2022-02-26T19:23:29.302878Z",
     "shell.execute_reply": "2022-02-26T19:23:29.303678Z",
     "shell.execute_reply.started": "2022-02-26T18:45:16.097093Z"
    },
    "papermill": {
     "duration": 0.059233,
     "end_time": "2022-02-26T19:23:29.303869",
     "exception": false,
     "start_time": "2022-02-26T19:23:29.244636",
     "status": "completed"
    },
    "tags": []
   },
   "outputs": [],
   "source": [
    "X = pseudo[pseudo.columns[:-1]].copy()\n",
    "y = pseudo['band_gap'].copy()"
   ]
  },
  {
   "cell_type": "code",
   "execution_count": 17,
   "id": "6ab20329",
   "metadata": {
    "execution": {
     "iopub.execute_input": "2022-02-26T19:23:29.402956Z",
     "iopub.status.busy": "2022-02-26T19:23:29.402047Z",
     "iopub.status.idle": "2022-02-26T19:23:31.298865Z",
     "shell.execute_reply": "2022-02-26T19:23:31.299446Z",
     "shell.execute_reply.started": "2022-02-26T18:45:16.108096Z"
    },
    "papermill": {
     "duration": 1.948305,
     "end_time": "2022-02-26T19:23:31.299654",
     "exception": false,
     "start_time": "2022-02-26T19:23:29.351349",
     "status": "completed"
    },
    "tags": []
   },
   "outputs": [
    {
     "data": {
      "text/html": [
       "<style type='text/css'>\n",
       ".datatable table.frame { margin-bottom: 0; }\n",
       ".datatable table.frame thead { border-bottom: none; }\n",
       ".datatable table.frame tr.coltypes td {  color: #FFFFFF;  line-height: 6px;  padding: 0 0.5em;}\n",
       ".datatable .bool    { background: #DDDD99; }\n",
       ".datatable .object  { background: #565656; }\n",
       ".datatable .int     { background: #5D9E5D; }\n",
       ".datatable .float   { background: #4040CC; }\n",
       ".datatable .str     { background: #CC4040; }\n",
       ".datatable .time    { background: #40CC40; }\n",
       ".datatable .row_index {  background: var(--jp-border-color3);  border-right: 1px solid var(--jp-border-color0);  color: var(--jp-ui-font-color3);  font-size: 9px;}\n",
       ".datatable .frame tbody td { text-align: left; }\n",
       ".datatable .frame tr.coltypes .row_index {  background: var(--jp-border-color0);}\n",
       ".datatable th:nth-child(2) { padding-left: 12px; }\n",
       ".datatable .hellipsis {  color: var(--jp-cell-editor-border-color);}\n",
       ".datatable .vellipsis {  background: var(--jp-layout-color0);  color: var(--jp-cell-editor-border-color);}\n",
       ".datatable .na {  color: var(--jp-cell-editor-border-color);  font-size: 80%;}\n",
       ".datatable .sp {  opacity: 0.25;}\n",
       ".datatable .footer { font-size: 9px; }\n",
       ".datatable .frame_dimensions {  background: var(--jp-border-color3);  border-top: 1px solid var(--jp-border-color0);  color: var(--jp-ui-font-color3);  display: inline-block;  opacity: 0.6;  padding: 1px 10px 1px 5px;}\n",
       "</style>\n"
      ],
      "text/plain": [
       "<IPython.core.display.HTML object>"
      ]
     },
     "metadata": {},
     "output_type": "display_data"
    }
   ],
   "source": [
    "import pandas as pd\n",
    "import numpy as np\n",
    "\n",
    "import seaborn as sns\n",
    "import matplotlib.pyplot as plt\n",
    "\n",
    "from catboost import CatBoostClassifier, CatBoostRegressor\n",
    "from xgboost import XGBClassifier, XGBRegressor\n",
    "from lightgbm import LGBMRegressor, LGBMClassifier\n",
    "\n",
    "from sklearn.linear_model import LogisticRegressionCV, LogisticRegression, LinearRegression, LassoLarsCV, BayesianRidge, SGDClassifier, SGDRegressor\n",
    "from sklearn.ensemble import RandomForestClassifier, RandomForestRegressor, AdaBoostClassifier, AdaBoostRegressor, ExtraTreesClassifier, ExtraTreesRegressor, GradientBoostingRegressor, GradientBoostingClassifier\n",
    "from sklearn.naive_bayes import GaussianNB\n",
    "from sklearn.neighbors import KNeighborsClassifier, KNeighborsRegressor\n",
    "from sklearn.tree import DecisionTreeClassifier, DecisionTreeRegressor\n",
    "from sklearn.neural_network import MLPClassifier, MLPRegressor\n",
    "from sklearn.model_selection import KFold\n",
    "from sklearn.metrics import mean_absolute_error, accuracy_score\n",
    "from sklearn.preprocessing import StandardScaler\n",
    "from sklearn.naive_bayes import GaussianNB\n",
    "from sklearn.model_selection import learning_curve\n",
    "from sklearn.model_selection import ShuffleSplit\n",
    "\n",
    "import warnings\n",
    "warnings.filterwarnings(\"ignore\")\n",
    "\n",
    "class AutoML:\n",
    "    def __init__(self):\n",
    "        self.clf_models = [LogisticRegression(max_iter=10000), \n",
    "                           DecisionTreeClassifier(), \n",
    "                           KNeighborsClassifier(), SGDClassifier(),  RandomForestClassifier(n_jobs=-1),  \n",
    "                           AdaBoostClassifier(),  \n",
    "                           ExtraTreesClassifier(n_jobs=-1),  XGBClassifier(n_jobs=-1),  LGBMClassifier(n_jobs=-1),  \n",
    "                           CatBoostClassifier(verbose=0),  \n",
    "                           GradientBoostingClassifier(),  GaussianNB(),  MLPClassifier(max_iter = 1000)  ]\n",
    "        self.reg_models = [LassoLarsCV(),  LinearRegression(),  DecisionTreeRegressor(),  KNeighborsRegressor(),  \n",
    "                          SGDRegressor(),  RandomForestRegressor(n_jobs=-1),  AdaBoostRegressor(),  ExtraTreesRegressor(n_jobs=-1),  \n",
    "                          XGBRegressor(n_jobs=-1),  LGBMRegressor(n_jobs=-1),  CatBoostRegressor(verbose=0),  \n",
    "                          GradientBoostingRegressor(),  \n",
    "                          BayesianRidge(),  MLPRegressor(max_iter = 1000) ]\n",
    "    def plot_table(self, table):\n",
    "        fig, axs = plt.subplots(1,1, figsize=(15,2))\n",
    "        collabel=tuple(table.columns)\n",
    "        axs.axis('tight')\n",
    "        axs.axis('off')\n",
    "        the_table = axs.table(cellText=table.values,colLabels=collabel,loc='upper center')\n",
    "        return fig\n",
    "    def plot_learning_curve(self,estimator, title, X, y, axes=None, ylim=None, cv=None,\n",
    "                        n_jobs=None, train_sizes=np.linspace(.1, 1.0, 5), name = None):\n",
    "        \"\"\"\n",
    "        Generate 3 plots: the test and training learning curve, the training\n",
    "        samples vs fit times curve, the fit times vs score curve.\n",
    "        Parameters\n",
    "        ----------\n",
    "        estimator : object type that implements the \"fit\" and \"predict\" methods\n",
    "            An object of that type which is cloned for each validation.\n",
    "        title : string\n",
    "            Title for the chart.\n",
    "        X : array-like, shape (n_samples, n_features)\n",
    "            Training vector, where n_samples is the number of samples and\n",
    "            n_features is the number of features.\n",
    "        y : array-like, shape (n_samples) or (n_samples, n_features), optional\n",
    "            Target relative to X for classification or regression;\n",
    "            None for unsupervised learning.\n",
    "        axes : array of 3 axes, optional (default=None)\n",
    "            Axes to use for plotting the curves.\n",
    "        ylim : tuple, shape (ymin, ymax), optional\n",
    "            Defines minimum and maximum yvalues plotted.\n",
    "        cv : int, cross-validation generator or an iterable, optional\n",
    "            Determines the cross-validation splitting strategy.\n",
    "            Possible inputs for cv are:\n",
    "              - None, to use the default 5-fold cross-validation,\n",
    "              - integer, to specify the number of folds.\n",
    "              - :term:`CV splitter`,\n",
    "              - An iterable yielding (train, test) splits as arrays of indices.\n",
    "            For integer/None inputs, if ``y`` is binary or multiclass,\n",
    "            :class:`StratifiedKFold` used. If the estimator is not a classifier\n",
    "            or if ``y`` is neither binary nor multiclass, :class:`KFold` is used.\n",
    "            Refer :ref:`User Guide <cross_validation>` for the various\n",
    "            cross-validators that can be used here.\n",
    "        n_jobs : int or None, optional (default=None)\n",
    "            Number of jobs to run in parallel.\n",
    "            ``None`` means 1 unless in a :obj:`joblib.parallel_backend` context.\n",
    "            ``-1`` means using all processors. See :term:`Glossary <n_jobs>`\n",
    "            for more details.\n",
    "        train_sizes : array-like, shape (n_ticks,), dtype float or int\n",
    "            Relative or absolute numbers of training examples that will be used to\n",
    "            generate the learning curve. If the dtype is float, it is regarded as a\n",
    "            fraction of the maximum size of the training set (that is determined\n",
    "            by the selected validation method), i.e. it has to be within (0, 1].\n",
    "            Otherwise it is interpreted as absolute sizes of the training sets.\n",
    "            Note that for classification the number of samples usually have to\n",
    "            be big enough to contain at least one sample from each class.\n",
    "            (default: np.linspace(0.1, 1.0, 5))\n",
    "        \"\"\"\n",
    "        print(name)\n",
    "        if axes is None:\n",
    "            fig, axes = plt.subplots(1, 3, figsize=(20, 5))\n",
    "\n",
    "        axes[0].set_title(title)\n",
    "        if ylim is not None:\n",
    "            axes[0].set_ylim(*ylim)\n",
    "        axes[0].set_xlabel(\"Training examples\")\n",
    "        axes[0].set_ylabel(\"Score\")\n",
    "\n",
    "        train_sizes, train_scores, test_scores, fit_times, _ = \\\n",
    "            learning_curve(estimator, X, y, cv=cv, n_jobs=n_jobs,\n",
    "                           train_sizes=train_sizes,\n",
    "                           return_times=True)\n",
    "        train_scores_mean = np.mean(train_scores, axis=1)\n",
    "        train_scores_std = np.std(train_scores, axis=1)\n",
    "        test_scores_mean = np.mean(test_scores, axis=1)\n",
    "        test_scores_std = np.std(test_scores, axis=1)\n",
    "        fit_times_mean = np.mean(fit_times, axis=1)\n",
    "        fit_times_std = np.std(fit_times, axis=1)\n",
    "\n",
    "        # Plot learning curve\n",
    "        axes[0].grid()\n",
    "        axes[0].fill_between(train_sizes, train_scores_mean - train_scores_std,\n",
    "                             train_scores_mean + train_scores_std, alpha=0.1,\n",
    "                             color=\"r\")\n",
    "        axes[0].fill_between(train_sizes, test_scores_mean - test_scores_std,\n",
    "                             test_scores_mean + test_scores_std, alpha=0.1,\n",
    "                             color=\"g\")\n",
    "        axes[0].plot(train_sizes, train_scores_mean, 'o-', color=\"r\",\n",
    "                     label=\"Training score\")\n",
    "        axes[0].plot(train_sizes, test_scores_mean, 'o-', color=\"g\",\n",
    "                     label=\"Cross-validation score\")\n",
    "        axes[0].legend(loc=\"best\")\n",
    "\n",
    "        # Plot n_samples vs fit_times\n",
    "        axes[1].grid()\n",
    "        axes[1].plot(train_sizes, fit_times_mean, 'o-')\n",
    "        axes[1].fill_between(train_sizes, fit_times_mean - fit_times_std,\n",
    "                             fit_times_mean + fit_times_std, alpha=0.1)\n",
    "        axes[1].set_xlabel(\"Training examples\")\n",
    "        axes[1].set_ylabel(\"fit_times\")\n",
    "        axes[1].set_title(\"Scalability of the model\")\n",
    "\n",
    "        # Plot fit_time vs score\n",
    "        axes[2].grid()\n",
    "        axes[2].plot(fit_times_mean, test_scores_mean, 'o-')\n",
    "        axes[2].fill_between(fit_times_mean, test_scores_mean - test_scores_std,\n",
    "                             test_scores_mean + test_scores_std, alpha=0.1)\n",
    "        axes[2].set_xlabel(\"fit_times\")\n",
    "        axes[2].set_ylabel(\"Score\")\n",
    "        axes[2].set_title(\"Performance of the model\")\n",
    "\n",
    "        return np.mean(test_scores_mean)\n",
    "    \n",
    "    def cross_val(self, X, y, model, metric, folds):\n",
    "        scores = []\n",
    "        for tr_in, val_in in KFold(n_splits = folds).split(X, y):\n",
    "            model_fold = model\n",
    "            X_train, y_train, X_val, y_val = X.iloc[tr_in,:], y[tr_in], X.iloc[val_in,:], y[val_in]\n",
    "            model_fold.fit(X_train, y_train)\n",
    "            y_hat = model.predict(X_val)\n",
    "            scores.append(metric(y_val,y_hat))\n",
    "        return np.mean(scores)\n",
    "    \n",
    "    def GMLClassifier(self, X, y, metric = accuracy_score, folds = 5):\n",
    "        '''\n",
    "        X: Independent variable(s)\n",
    "        y: Dependent variable\n",
    "        metric: metric of evaluation \n",
    "        folds: Number of validation folds, default: 5\n",
    "        '''\n",
    "        result = pd.DataFrame(columns = ['Models','Scores'])\n",
    "        for i,model in enumerate(self.clf_models):\n",
    "            name = str(model.__class__.__name__)\n",
    "            scores = self.cross_val(X, y, model, metric, folds)\n",
    "            \n",
    "            print('{} got score of {} in {} folds'.format(name,scores,folds))\n",
    "            result.at[i, 'Models'] = name\n",
    "            result.at[i, 'Scores'] = scores\n",
    "        result = result.sort_values('Scores',ascending=False).reset_index(drop=True)\n",
    "        self.plot_table(result)\n",
    "    \n",
    "    def GMLRegressor(self, X, y, metric = mean_absolute_error,folds = 5):\n",
    "        '''\n",
    "        X: Independent variable(s)\n",
    "        y: Dependent variable\n",
    "        metric: metric of evaluation \n",
    "        folds: Number of validation folds, default: 5\n",
    "        '''\n",
    "        result = pd.DataFrame(columns = ['Models','Scores'])\n",
    "        for i,model in enumerate(self.reg_models):\n",
    "            name = str(model.__class__.__name__)\n",
    "            scores = self.cross_val(X, y, model, metric, folds)\n",
    "            \n",
    "            print('{} got score of {} in {} folds'.format(model.__class__.__name__,scores,folds))\n",
    "            result.at[i, 'Models'] = name\n",
    "            result.at[i, 'Scores'] = scores\n",
    "        result = result.sort_values('Scores',ascending=False).reset_index(drop=True)\n",
    "        self.plot_table(result)"
   ]
  },
  {
   "cell_type": "code",
   "execution_count": 18,
   "id": "4b4eaa9c",
   "metadata": {
    "execution": {
     "iopub.execute_input": "2022-02-26T19:23:31.391772Z",
     "iopub.status.busy": "2022-02-26T19:23:31.391080Z",
     "iopub.status.idle": "2022-02-26T19:24:39.760704Z",
     "shell.execute_reply": "2022-02-26T19:24:39.760121Z"
    },
    "papermill": {
     "duration": 68.417786,
     "end_time": "2022-02-26T19:24:39.760849",
     "exception": false,
     "start_time": "2022-02-26T19:23:31.343063",
     "status": "completed"
    },
    "tags": []
   },
   "outputs": [
    {
     "name": "stdout",
     "output_type": "stream",
     "text": [
      "LassoLarsCV got score of 0.9460437710437711 in 10 folds\n",
      "LinearRegression got score of 0.949414186914187 in 10 folds\n",
      "DecisionTreeRegressor got score of 0.91503094003094 in 10 folds\n",
      "KNeighborsRegressor got score of 0.9389707889707891 in 10 folds\n",
      "SGDRegressor got score of 0.923445035945036 in 10 folds\n",
      "RandomForestRegressor got score of 0.9365979615979617 in 10 folds\n",
      "AdaBoostRegressor got score of 0.6456217581217581 in 10 folds\n",
      "ExtraTreesRegressor got score of 0.9325575575575575 in 10 folds\n",
      "XGBRegressor got score of 0.9332355082355083 in 10 folds\n",
      "LGBMRegressor got score of 0.9224463099463099 in 10 folds\n",
      "CatBoostRegressor got score of 0.9177290927290926 in 10 folds\n",
      "GradientBoostingRegressor got score of 0.9446924196924197 in 10 folds\n",
      "BayesianRidge got score of 0.9494141869141869 in 10 folds\n",
      "MLPRegressor got score of 0.8948209573209575 in 10 folds\n"
     ]
    },
    {
     "data": {
      "image/png": "[encoded data removed]",
      "text/plain": [
       "<Figure size 1080x144 with 1 Axes>"
      ]
     },
     "metadata": {
      "needs_background": "light"
     },
     "output_type": "display_data"
    }
   ],
   "source": [
    "gml_ml = AutoML()\n",
    "\n",
    "gml_ml.GMLRegressor(X, y, metric = energy_within_threshold, folds = 10)"
   ]
  },
  {
   "cell_type": "code",
   "execution_count": 19,
   "id": "e09f9258",
   "metadata": {
    "execution": {
     "iopub.execute_input": "2022-02-26T19:24:39.874940Z",
     "iopub.status.busy": "2022-02-26T19:24:39.874010Z",
     "iopub.status.idle": "2022-02-26T19:24:39.876218Z",
     "shell.execute_reply": "2022-02-26T19:24:39.876727Z"
    },
    "papermill": {
     "duration": 0.063464,
     "end_time": "2022-02-26T19:24:39.876903",
     "exception": false,
     "start_time": "2022-02-26T19:24:39.813439",
     "status": "completed"
    },
    "tags": []
   },
   "outputs": [],
   "source": [
    "def rounding(num):\n",
    "    round_num, round_num2 = 0, 0\n",
    "    uniques = np.sort(np.unique(y))\n",
    "    for i,n in enumerate(uniques):\n",
    "        if n > num:\n",
    "            break\n",
    "        round_num = n\n",
    "        try:\n",
    "            round_num2 = uniques[i+1]\n",
    "        except:\n",
    "            round_num2 = round_num\n",
    "    if np.abs(num - round_num) < np.abs(num - round_num2):\n",
    "        return round_num\n",
    "    return round_num2"
   ]
  },
  {
   "cell_type": "code",
   "execution_count": 20,
   "id": "71fc1612",
   "metadata": {
    "execution": {
     "iopub.execute_input": "2022-02-26T19:24:39.985280Z",
     "iopub.status.busy": "2022-02-26T19:24:39.984198Z",
     "iopub.status.idle": "2022-02-26T19:24:39.987063Z",
     "shell.execute_reply": "2022-02-26T19:24:39.986380Z"
    },
    "papermill": {
     "duration": 0.06097,
     "end_time": "2022-02-26T19:24:39.987215",
     "exception": false,
     "start_time": "2022-02-26T19:24:39.926245",
     "status": "completed"
    },
    "tags": []
   },
   "outputs": [],
   "source": [
    "def cross_val(X, y, model, metric, folds):\n",
    "    scores = []\n",
    "    i = 0\n",
    "    for tr_in, val_in in KFold(n_splits = folds).split(X, y):\n",
    "        X_train, y_train, X_val, y_val = X.iloc[tr_in,:], y[tr_in], X.iloc[val_in,:], y[val_in]\n",
    "        model.fit(X_train, y_train)\n",
    "\n",
    "        y_hat = model.predict(X_val)\n",
    "\n",
    "        sc = metric(y_val,y_hat)\n",
    "        print(sc)\n",
    "        scores.append(sc)\n",
    "#         if i == 3:\n",
    "#             break\n",
    "        i += 1\n",
    "    return np.mean(scores)"
   ]
  },
  {
   "cell_type": "code",
   "execution_count": 21,
   "id": "aeda2291",
   "metadata": {
    "execution": {
     "iopub.execute_input": "2022-02-26T19:24:40.096131Z",
     "iopub.status.busy": "2022-02-26T19:24:40.094879Z",
     "iopub.status.idle": "2022-02-26T19:24:40.252122Z",
     "shell.execute_reply": "2022-02-26T19:24:40.252962Z"
    },
    "papermill": {
     "duration": 0.214869,
     "end_time": "2022-02-26T19:24:40.253257",
     "exception": false,
     "start_time": "2022-02-26T19:24:40.038388",
     "status": "completed"
    },
    "tags": []
   },
   "outputs": [
    {
     "name": "stdout",
     "output_type": "stream",
     "text": [
      "tf.Tensor(0.9511784511784511, shape=(), dtype=float64)\n",
      "tf.Tensor(0.9645868465430016, shape=(), dtype=float64)\n",
      "tf.Tensor(0.9409780775716695, shape=(), dtype=float64)\n",
      "tf.Tensor(0.9258010118043845, shape=(), dtype=float64)\n",
      "tf.Tensor(0.9510961214165261, shape=(), dtype=float64)\n"
     ]
    },
    {
     "data": {
      "text/plain": [
       "0.9467281017028066"
      ]
     },
     "execution_count": 21,
     "metadata": {},
     "output_type": "execute_result"
    }
   ],
   "source": [
    "cross_val(X, y, BayesianRidge(), energy_within_threshold, 5)"
   ]
  },
  {
   "cell_type": "code",
   "execution_count": 22,
   "id": "6080d238",
   "metadata": {
    "execution": {
     "iopub.execute_input": "2022-02-26T19:24:40.432753Z",
     "iopub.status.busy": "2022-02-26T19:24:40.432086Z",
     "iopub.status.idle": "2022-02-26T19:24:40.437426Z",
     "shell.execute_reply": "2022-02-26T19:24:40.438016Z"
    },
    "papermill": {
     "duration": 0.065161,
     "end_time": "2022-02-26T19:24:40.438204",
     "exception": false,
     "start_time": "2022-02-26T19:24:40.373043",
     "status": "completed"
    },
    "tags": []
   },
   "outputs": [
    {
     "data": {
      "text/plain": [
       "array([0.02521118, 0.02046875, 0.02210617, 0.03896862, 0.03945388,\n",
       "       0.02077418, 0.04064745, 0.02076028, 0.0506664 , 0.03335188,\n",
       "       0.03344889, 0.0375014 , 0.0221031 , 0.02967056, 0.03769509,\n",
       "       0.02839299, 0.02213911, 0.02180368, 0.03320733, 0.03304907,\n",
       "       0.04185324, 0.05654347, 0.0221601 , 0.03947944, 0.02290742,\n",
       "       0.03362294, 0.02476401, 0.03261728, 0.04264076])"
      ]
     },
     "execution_count": 22,
     "metadata": {},
     "output_type": "execute_result"
    }
   ],
   "source": [
    "en.numpy()[en.numpy() > 0.02]"
   ]
  },
  {
   "cell_type": "code",
   "execution_count": 23,
   "id": "5ddfbc58",
   "metadata": {
    "execution": {
     "iopub.execute_input": "2022-02-26T19:24:40.546633Z",
     "iopub.status.busy": "2022-02-26T19:24:40.545646Z",
     "iopub.status.idle": "2022-02-26T19:24:40.548548Z",
     "shell.execute_reply": "2022-02-26T19:24:40.547870Z"
    },
    "papermill": {
     "duration": 0.059349,
     "end_time": "2022-02-26T19:24:40.548707",
     "exception": false,
     "start_time": "2022-02-26T19:24:40.489358",
     "status": "completed"
    },
    "tags": []
   },
   "outputs": [],
   "source": [
    "dataset_path = Path(config.test_datapath)"
   ]
  },
  {
   "cell_type": "code",
   "execution_count": 24,
   "id": "3c6876a2",
   "metadata": {
    "execution": {
     "iopub.execute_input": "2022-02-26T19:24:40.658197Z",
     "iopub.status.busy": "2022-02-26T19:24:40.657127Z",
     "iopub.status.idle": "2022-02-26T19:25:35.192084Z",
     "shell.execute_reply": "2022-02-26T19:25:35.191049Z"
    },
    "papermill": {
     "duration": 54.589838,
     "end_time": "2022-02-26T19:25:35.192278",
     "exception": false,
     "start_time": "2022-02-26T19:24:40.602440",
     "status": "completed"
    },
    "tags": []
   },
   "outputs": [],
   "source": [
    "struct = {item.name.strip('.json'): read_pymatgen_dict(item) for item in (dataset_path/'structures').iterdir()}"
   ]
  },
  {
   "cell_type": "code",
   "execution_count": 25,
   "id": "9de79c64",
   "metadata": {
    "execution": {
     "iopub.execute_input": "2022-02-26T19:25:35.318008Z",
     "iopub.status.busy": "2022-02-26T19:25:35.305686Z",
     "iopub.status.idle": "2022-02-26T19:59:53.076021Z",
     "shell.execute_reply": "2022-02-26T19:59:53.074178Z"
    },
    "papermill": {
     "duration": 2057.83046,
     "end_time": "2022-02-26T19:59:53.076246",
     "exception": false,
     "start_time": "2022-02-26T19:25:35.245786",
     "status": "completed"
    },
    "tags": []
   },
   "outputs": [
    {
     "name": "stderr",
     "output_type": "stream",
     "text": [
      "100%|██████████| 10/10 [34:17<00:00, 205.77s/it]\n"
     ]
    }
   ],
   "source": [
    "private_test = pd.DataFrame(columns=['id', 'structures'], index=struct.keys())\n",
    "private_test = private_test.assign(structures=struct.values())\n",
    "predictions =[]\n",
    "for path in tqdm.tqdm(models_path):\n",
    "    model = prepare_model(\n",
    "        float(config.cutoff), float(config.lr)\n",
    "    )\n",
    "    model.load_weights(path)\n",
    "    predictions.append(model.predict_structures(private_test.structures))"
   ]
  },
  {
   "cell_type": "code",
   "execution_count": 26,
   "id": "9a535506",
   "metadata": {
    "execution": {
     "iopub.execute_input": "2022-02-26T19:59:53.190193Z",
     "iopub.status.busy": "2022-02-26T19:59:53.189223Z",
     "iopub.status.idle": "2022-02-26T19:59:53.205938Z",
     "shell.execute_reply": "2022-02-26T19:59:53.207216Z"
    },
    "papermill": {
     "duration": 0.076266,
     "end_time": "2022-02-26T19:59:53.207404",
     "exception": false,
     "start_time": "2022-02-26T19:59:53.131138",
     "status": "completed"
    },
    "tags": []
   },
   "outputs": [],
   "source": [
    "test = pd.DataFrame()\n",
    "test['id'] = private_test['id'].index.values\n",
    "test['Pred0'] = pd.DataFrame(predictions[0])\n",
    "test['Pred1'] = pd.DataFrame(predictions[1])\n",
    "test['Pred2'] = pd.DataFrame(predictions[2])\n",
    "test['Pred3'] = pd.DataFrame(predictions[3])\n",
    "test['Pred4'] = pd.DataFrame(predictions[4])\n",
    "test['Pred5'] = pd.DataFrame(predictions[5])\n",
    "test['Pred6'] = pd.DataFrame(predictions[6])\n",
    "test['Pred7'] = pd.DataFrame(predictions[7])\n",
    "test['Pred8'] = pd.DataFrame(predictions[8])\n",
    "test['Pred9'] = pd.DataFrame(predictions[9])"
   ]
  },
  {
   "cell_type": "code",
   "execution_count": 27,
   "id": "95a30f77",
   "metadata": {
    "execution": {
     "iopub.execute_input": "2022-02-26T19:59:53.326857Z",
     "iopub.status.busy": "2022-02-26T19:59:53.326003Z",
     "iopub.status.idle": "2022-02-26T19:59:53.350922Z",
     "shell.execute_reply": "2022-02-26T19:59:53.351487Z"
    },
    "papermill": {
     "duration": 0.088967,
     "end_time": "2022-02-26T19:59:53.351663",
     "exception": false,
     "start_time": "2022-02-26T19:59:53.262696",
     "status": "completed"
    },
    "tags": []
   },
   "outputs": [
    {
     "data": {
      "text/html": [
       "<div>\n",
       "<style scoped>\n",
       "    .dataframe tbody tr th:only-of-type {\n",
       "        vertical-align: middle;\n",
       "    }\n",
       "\n",
       "    .dataframe tbody tr th {\n",
       "        vertical-align: top;\n",
       "    }\n",
       "\n",
       "    .dataframe thead th {\n",
       "        text-align: right;\n",
       "    }\n",
       "</style>\n",
       "<table border=\"1\" class=\"dataframe\">\n",
       "  <thead>\n",
       "    <tr style=\"text-align: right;\">\n",
       "      <th></th>\n",
       "      <th>id</th>\n",
       "      <th>Pred0</th>\n",
       "      <th>Pred1</th>\n",
       "      <th>Pred2</th>\n",
       "      <th>Pred3</th>\n",
       "      <th>Pred4</th>\n",
       "      <th>Pred5</th>\n",
       "      <th>Pred6</th>\n",
       "      <th>Pred7</th>\n",
       "      <th>Pred8</th>\n",
       "      <th>Pred9</th>\n",
       "    </tr>\n",
       "  </thead>\n",
       "  <tbody>\n",
       "    <tr>\n",
       "      <th>0</th>\n",
       "      <td>6141e92431cf3ef3d4a9f0d4</td>\n",
       "      <td>0.348466</td>\n",
       "      <td>0.352939</td>\n",
       "      <td>0.360379</td>\n",
       "      <td>0.351189</td>\n",
       "      <td>0.352774</td>\n",
       "      <td>0.366745</td>\n",
       "      <td>0.358808</td>\n",
       "      <td>0.365272</td>\n",
       "      <td>0.359396</td>\n",
       "      <td>0.356193</td>\n",
       "    </tr>\n",
       "    <tr>\n",
       "      <th>1</th>\n",
       "      <td>614274164e27a1844a5f07fe</td>\n",
       "      <td>1.141041</td>\n",
       "      <td>1.146896</td>\n",
       "      <td>1.149406</td>\n",
       "      <td>1.144010</td>\n",
       "      <td>1.144422</td>\n",
       "      <td>1.135251</td>\n",
       "      <td>1.147796</td>\n",
       "      <td>1.149835</td>\n",
       "      <td>1.141958</td>\n",
       "      <td>1.146356</td>\n",
       "    </tr>\n",
       "    <tr>\n",
       "      <th>2</th>\n",
       "      <td>6141d7903ac25c70a5c6c91d</td>\n",
       "      <td>0.413613</td>\n",
       "      <td>0.420591</td>\n",
       "      <td>0.415207</td>\n",
       "      <td>0.414646</td>\n",
       "      <td>0.411450</td>\n",
       "      <td>0.403524</td>\n",
       "      <td>0.421443</td>\n",
       "      <td>0.414531</td>\n",
       "      <td>0.418408</td>\n",
       "      <td>0.416281</td>\n",
       "    </tr>\n",
       "    <tr>\n",
       "      <th>3</th>\n",
       "      <td>61429a229cbada84a8676d71</td>\n",
       "      <td>1.808975</td>\n",
       "      <td>1.807519</td>\n",
       "      <td>1.812797</td>\n",
       "      <td>1.808777</td>\n",
       "      <td>1.808883</td>\n",
       "      <td>1.808291</td>\n",
       "      <td>1.808586</td>\n",
       "      <td>1.807982</td>\n",
       "      <td>1.809017</td>\n",
       "      <td>1.809221</td>\n",
       "    </tr>\n",
       "    <tr>\n",
       "      <th>4</th>\n",
       "      <td>614212894e27a1844a5f05c2</td>\n",
       "      <td>1.144514</td>\n",
       "      <td>1.143378</td>\n",
       "      <td>1.144421</td>\n",
       "      <td>1.145050</td>\n",
       "      <td>1.139162</td>\n",
       "      <td>1.140963</td>\n",
       "      <td>1.138823</td>\n",
       "      <td>1.142800</td>\n",
       "      <td>1.144269</td>\n",
       "      <td>1.143805</td>\n",
       "    </tr>\n",
       "    <tr>\n",
       "      <th>...</th>\n",
       "      <td>...</td>\n",
       "      <td>...</td>\n",
       "      <td>...</td>\n",
       "      <td>...</td>\n",
       "      <td>...</td>\n",
       "      <td>...</td>\n",
       "      <td>...</td>\n",
       "      <td>...</td>\n",
       "      <td>...</td>\n",
       "      <td>...</td>\n",
       "      <td>...</td>\n",
       "    </tr>\n",
       "    <tr>\n",
       "      <th>2962</th>\n",
       "      <td>6142d2644e27a1844a5f0942</td>\n",
       "      <td>1.145416</td>\n",
       "      <td>1.147052</td>\n",
       "      <td>1.145731</td>\n",
       "      <td>1.143748</td>\n",
       "      <td>1.141447</td>\n",
       "      <td>1.144750</td>\n",
       "      <td>1.147278</td>\n",
       "      <td>1.144659</td>\n",
       "      <td>1.143600</td>\n",
       "      <td>1.145984</td>\n",
       "    </tr>\n",
       "    <tr>\n",
       "      <th>2963</th>\n",
       "      <td>6141cf34b842c2e72e2f2d64</td>\n",
       "      <td>1.808286</td>\n",
       "      <td>1.808456</td>\n",
       "      <td>1.809041</td>\n",
       "      <td>1.809223</td>\n",
       "      <td>1.809030</td>\n",
       "      <td>1.808249</td>\n",
       "      <td>1.809282</td>\n",
       "      <td>1.807990</td>\n",
       "      <td>1.809514</td>\n",
       "      <td>1.809555</td>\n",
       "    </tr>\n",
       "    <tr>\n",
       "      <th>2964</th>\n",
       "      <td>61421f664e27a1844a5f0620</td>\n",
       "      <td>1.142660</td>\n",
       "      <td>1.149783</td>\n",
       "      <td>1.146710</td>\n",
       "      <td>1.142938</td>\n",
       "      <td>1.142061</td>\n",
       "      <td>1.138435</td>\n",
       "      <td>1.151350</td>\n",
       "      <td>1.144896</td>\n",
       "      <td>1.141056</td>\n",
       "      <td>1.147164</td>\n",
       "    </tr>\n",
       "    <tr>\n",
       "      <th>2965</th>\n",
       "      <td>6142b79c3ac25c70a5c6cc37</td>\n",
       "      <td>0.390032</td>\n",
       "      <td>0.394550</td>\n",
       "      <td>0.387444</td>\n",
       "      <td>0.385681</td>\n",
       "      <td>0.392373</td>\n",
       "      <td>0.382191</td>\n",
       "      <td>0.394632</td>\n",
       "      <td>0.387218</td>\n",
       "      <td>0.390058</td>\n",
       "      <td>0.392175</td>\n",
       "    </tr>\n",
       "    <tr>\n",
       "      <th>2966</th>\n",
       "      <td>61427604baaf234b352906ea</td>\n",
       "      <td>1.127713</td>\n",
       "      <td>1.121757</td>\n",
       "      <td>1.119642</td>\n",
       "      <td>1.129115</td>\n",
       "      <td>1.115344</td>\n",
       "      <td>1.124736</td>\n",
       "      <td>1.121124</td>\n",
       "      <td>1.116569</td>\n",
       "      <td>1.130223</td>\n",
       "      <td>1.119298</td>\n",
       "    </tr>\n",
       "  </tbody>\n",
       "</table>\n",
       "<p>2967 rows × 11 columns</p>\n",
       "</div>"
      ],
      "text/plain": [
       "                            id     Pred0     Pred1     Pred2     Pred3  \\\n",
       "0     6141e92431cf3ef3d4a9f0d4  0.348466  0.352939  0.360379  0.351189   \n",
       "1     614274164e27a1844a5f07fe  1.141041  1.146896  1.149406  1.144010   \n",
       "2     6141d7903ac25c70a5c6c91d  0.413613  0.420591  0.415207  0.414646   \n",
       "3     61429a229cbada84a8676d71  1.808975  1.807519  1.812797  1.808777   \n",
       "4     614212894e27a1844a5f05c2  1.144514  1.143378  1.144421  1.145050   \n",
       "...                        ...       ...       ...       ...       ...   \n",
       "2962  6142d2644e27a1844a5f0942  1.145416  1.147052  1.145731  1.143748   \n",
       "2963  6141cf34b842c2e72e2f2d64  1.808286  1.808456  1.809041  1.809223   \n",
       "2964  61421f664e27a1844a5f0620  1.142660  1.149783  1.146710  1.142938   \n",
       "2965  6142b79c3ac25c70a5c6cc37  0.390032  0.394550  0.387444  0.385681   \n",
       "2966  61427604baaf234b352906ea  1.127713  1.121757  1.119642  1.129115   \n",
       "\n",
       "         Pred4     Pred5     Pred6     Pred7     Pred8     Pred9  \n",
       "0     0.352774  0.366745  0.358808  0.365272  0.359396  0.356193  \n",
       "1     1.144422  1.135251  1.147796  1.149835  1.141958  1.146356  \n",
       "2     0.411450  0.403524  0.421443  0.414531  0.418408  0.416281  \n",
       "3     1.808883  1.808291  1.808586  1.807982  1.809017  1.809221  \n",
       "4     1.139162  1.140963  1.138823  1.142800  1.144269  1.143805  \n",
       "...        ...       ...       ...       ...       ...       ...  \n",
       "2962  1.141447  1.144750  1.147278  1.144659  1.143600  1.145984  \n",
       "2963  1.809030  1.808249  1.809282  1.807990  1.809514  1.809555  \n",
       "2964  1.142061  1.138435  1.151350  1.144896  1.141056  1.147164  \n",
       "2965  0.392373  0.382191  0.394632  0.387218  0.390058  0.392175  \n",
       "2966  1.115344  1.124736  1.121124  1.116569  1.130223  1.119298  \n",
       "\n",
       "[2967 rows x 11 columns]"
      ]
     },
     "execution_count": 27,
     "metadata": {},
     "output_type": "execute_result"
    }
   ],
   "source": [
    "test"
   ]
  },
  {
   "cell_type": "code",
   "execution_count": 28,
   "id": "bae0c04e",
   "metadata": {
    "execution": {
     "iopub.execute_input": "2022-02-26T19:59:53.470865Z",
     "iopub.status.busy": "2022-02-26T19:59:53.469769Z",
     "iopub.status.idle": "2022-02-26T19:59:53.471805Z",
     "shell.execute_reply": "2022-02-26T19:59:53.472426Z"
    },
    "papermill": {
     "duration": 0.06417,
     "end_time": "2022-02-26T19:59:53.472598",
     "exception": false,
     "start_time": "2022-02-26T19:59:53.408428",
     "status": "completed"
    },
    "tags": []
   },
   "outputs": [],
   "source": [
    "# lasso = LassoLarsCV()\n",
    "# ridge = BayesianRidge()\n",
    "lr = LinearRegression()\n",
    "# gb = GradientBoostingRegressor()"
   ]
  },
  {
   "cell_type": "code",
   "execution_count": 29,
   "id": "ef1e9ac0",
   "metadata": {
    "execution": {
     "iopub.execute_input": "2022-02-26T19:59:53.593731Z",
     "iopub.status.busy": "2022-02-26T19:59:53.593024Z",
     "iopub.status.idle": "2022-02-26T19:59:53.604416Z",
     "shell.execute_reply": "2022-02-26T19:59:53.605477Z"
    },
    "papermill": {
     "duration": 0.076513,
     "end_time": "2022-02-26T19:59:53.605771",
     "exception": false,
     "start_time": "2022-02-26T19:59:53.529258",
     "status": "completed"
    },
    "tags": []
   },
   "outputs": [
    {
     "data": {
      "text/plain": [
       "LinearRegression()"
      ]
     },
     "execution_count": 29,
     "metadata": {},
     "output_type": "execute_result"
    }
   ],
   "source": [
    "# lasso.fit(X, y)\n",
    "# ridge.fit(X, y)\n",
    "lr.fit(X, y)\n",
    "# gb.fit(X, y)"
   ]
  },
  {
   "cell_type": "code",
   "execution_count": 30,
   "id": "703e7028",
   "metadata": {
    "execution": {
     "iopub.execute_input": "2022-02-26T19:59:53.781483Z",
     "iopub.status.busy": "2022-02-26T19:59:53.780516Z",
     "iopub.status.idle": "2022-02-26T19:59:53.783691Z",
     "shell.execute_reply": "2022-02-26T19:59:53.783170Z"
    },
    "papermill": {
     "duration": 0.068555,
     "end_time": "2022-02-26T19:59:53.783841",
     "exception": false,
     "start_time": "2022-02-26T19:59:53.715286",
     "status": "completed"
    },
    "tags": []
   },
   "outputs": [],
   "source": [
    "test.drop('id',axis=1,inplace=True)"
   ]
  },
  {
   "cell_type": "code",
   "execution_count": 31,
   "id": "f3f0a789",
   "metadata": {
    "execution": {
     "iopub.execute_input": "2022-02-26T19:59:53.905850Z",
     "iopub.status.busy": "2022-02-26T19:59:53.904676Z",
     "iopub.status.idle": "2022-02-26T19:59:53.914479Z",
     "shell.execute_reply": "2022-02-26T19:59:53.915762Z"
    },
    "papermill": {
     "duration": 0.075223,
     "end_time": "2022-02-26T19:59:53.916268",
     "exception": false,
     "start_time": "2022-02-26T19:59:53.841045",
     "status": "completed"
    },
    "tags": []
   },
   "outputs": [],
   "source": [
    "# pred1 = lasso.predict(test)\n",
    "# pred2 = ridge.predict(test)\n",
    "pred3 = lr.predict(test)\n",
    "# # pred4 = gb.predict(test)"
   ]
  },
  {
   "cell_type": "code",
   "execution_count": 32,
   "id": "5f633cf3",
   "metadata": {
    "execution": {
     "iopub.execute_input": "2022-02-26T19:59:54.090962Z",
     "iopub.status.busy": "2022-02-26T19:59:54.089870Z",
     "iopub.status.idle": "2022-02-26T19:59:54.092665Z",
     "shell.execute_reply": "2022-02-26T19:59:54.092039Z"
    },
    "papermill": {
     "duration": 0.067161,
     "end_time": "2022-02-26T19:59:54.092805",
     "exception": false,
     "start_time": "2022-02-26T19:59:54.025644",
     "status": "completed"
    },
    "tags": []
   },
   "outputs": [],
   "source": [
    "prediction_test = pred3"
   ]
  },
  {
   "cell_type": "code",
   "execution_count": 33,
   "id": "55618151",
   "metadata": {
    "execution": {
     "iopub.execute_input": "2022-02-26T19:59:54.217797Z",
     "iopub.status.busy": "2022-02-26T19:59:54.215241Z",
     "iopub.status.idle": "2022-02-26T19:59:54.219675Z",
     "shell.execute_reply": "2022-02-26T19:59:54.220295Z"
    },
    "papermill": {
     "duration": 0.068676,
     "end_time": "2022-02-26T19:59:54.220511",
     "exception": false,
     "start_time": "2022-02-26T19:59:54.151835",
     "status": "completed"
    },
    "tags": []
   },
   "outputs": [],
   "source": [
    "private_test = private_test.assign(predictions=prediction_test)"
   ]
  },
  {
   "cell_type": "code",
   "execution_count": 34,
   "id": "a3392eb9",
   "metadata": {
    "execution": {
     "iopub.execute_input": "2022-02-26T19:59:54.371344Z",
     "iopub.status.busy": "2022-02-26T19:59:54.370252Z",
     "iopub.status.idle": "2022-02-26T19:59:54.645844Z",
     "shell.execute_reply": "2022-02-26T19:59:54.646453Z"
    },
    "papermill": {
     "duration": 0.36076,
     "end_time": "2022-02-26T19:59:54.646630",
     "exception": false,
     "start_time": "2022-02-26T19:59:54.285870",
     "status": "completed"
    },
    "tags": []
   },
   "outputs": [
    {
     "data": {
      "text/html": [
       "<div>\n",
       "<style scoped>\n",
       "    .dataframe tbody tr th:only-of-type {\n",
       "        vertical-align: middle;\n",
       "    }\n",
       "\n",
       "    .dataframe tbody tr th {\n",
       "        vertical-align: top;\n",
       "    }\n",
       "\n",
       "    .dataframe thead th {\n",
       "        text-align: right;\n",
       "    }\n",
       "</style>\n",
       "<table border=\"1\" class=\"dataframe\">\n",
       "  <thead>\n",
       "    <tr style=\"text-align: right;\">\n",
       "      <th></th>\n",
       "      <th>id</th>\n",
       "      <th>structures</th>\n",
       "      <th>predictions</th>\n",
       "    </tr>\n",
       "  </thead>\n",
       "  <tbody>\n",
       "    <tr>\n",
       "      <th>6141e92431cf3ef3d4a9f0d4</th>\n",
       "      <td>NaN</td>\n",
       "      <td>[[1.27612629e-07 1.84192955e+00 3.71975100e+00...</td>\n",
       "      <td>0.349079</td>\n",
       "    </tr>\n",
       "    <tr>\n",
       "      <th>614274164e27a1844a5f07fe</th>\n",
       "      <td>NaN</td>\n",
       "      <td>[[1.27612629e-07 1.84192955e+00 3.71975100e+00...</td>\n",
       "      <td>1.146499</td>\n",
       "    </tr>\n",
       "    <tr>\n",
       "      <th>6141d7903ac25c70a5c6c91d</th>\n",
       "      <td>NaN</td>\n",
       "      <td>[[1.27612629e-07 1.84192955e+00 3.71975100e+00...</td>\n",
       "      <td>0.415515</td>\n",
       "    </tr>\n",
       "    <tr>\n",
       "      <th>61429a229cbada84a8676d71</th>\n",
       "      <td>NaN</td>\n",
       "      <td>[[1.27612629e-07 1.84192955e+00 3.71975100e+00...</td>\n",
       "      <td>1.808593</td>\n",
       "    </tr>\n",
       "    <tr>\n",
       "      <th>614212894e27a1844a5f05c2</th>\n",
       "      <td>NaN</td>\n",
       "      <td>[[-1.59515772  4.604824    3.719751  ] Mo, [-3...</td>\n",
       "      <td>1.142819</td>\n",
       "    </tr>\n",
       "    <tr>\n",
       "      <th>...</th>\n",
       "      <td>...</td>\n",
       "      <td>...</td>\n",
       "      <td>...</td>\n",
       "    </tr>\n",
       "    <tr>\n",
       "      <th>6142d2644e27a1844a5f0942</th>\n",
       "      <td>NaN</td>\n",
       "      <td>[[1.27612629e-07 1.84192955e+00 3.71975100e+00...</td>\n",
       "      <td>1.144769</td>\n",
       "    </tr>\n",
       "    <tr>\n",
       "      <th>6141cf34b842c2e72e2f2d64</th>\n",
       "      <td>NaN</td>\n",
       "      <td>[[1.27612629e-07 1.84192955e+00 3.71975100e+00...</td>\n",
       "      <td>1.807832</td>\n",
       "    </tr>\n",
       "    <tr>\n",
       "      <th>61421f664e27a1844a5f0620</th>\n",
       "      <td>NaN</td>\n",
       "      <td>[[1.27612629e-07 1.84192955e+00 3.71975100e+00...</td>\n",
       "      <td>1.146976</td>\n",
       "    </tr>\n",
       "    <tr>\n",
       "      <th>6142b79c3ac25c70a5c6cc37</th>\n",
       "      <td>NaN</td>\n",
       "      <td>[[1.27612629e-07 1.84192955e+00 3.71975100e+00...</td>\n",
       "      <td>0.390912</td>\n",
       "    </tr>\n",
       "    <tr>\n",
       "      <th>61427604baaf234b352906ea</th>\n",
       "      <td>NaN</td>\n",
       "      <td>[[1.27612629e-07 1.84192955e+00 3.71975100e+00...</td>\n",
       "      <td>1.120964</td>\n",
       "    </tr>\n",
       "  </tbody>\n",
       "</table>\n",
       "<p>2967 rows × 3 columns</p>\n",
       "</div>"
      ],
      "text/plain": [
       "                           id  \\\n",
       "6141e92431cf3ef3d4a9f0d4  NaN   \n",
       "614274164e27a1844a5f07fe  NaN   \n",
       "6141d7903ac25c70a5c6c91d  NaN   \n",
       "61429a229cbada84a8676d71  NaN   \n",
       "614212894e27a1844a5f05c2  NaN   \n",
       "...                       ...   \n",
       "6142d2644e27a1844a5f0942  NaN   \n",
       "6141cf34b842c2e72e2f2d64  NaN   \n",
       "61421f664e27a1844a5f0620  NaN   \n",
       "6142b79c3ac25c70a5c6cc37  NaN   \n",
       "61427604baaf234b352906ea  NaN   \n",
       "\n",
       "                                                                 structures  \\\n",
       "6141e92431cf3ef3d4a9f0d4  [[1.27612629e-07 1.84192955e+00 3.71975100e+00...   \n",
       "614274164e27a1844a5f07fe  [[1.27612629e-07 1.84192955e+00 3.71975100e+00...   \n",
       "6141d7903ac25c70a5c6c91d  [[1.27612629e-07 1.84192955e+00 3.71975100e+00...   \n",
       "61429a229cbada84a8676d71  [[1.27612629e-07 1.84192955e+00 3.71975100e+00...   \n",
       "614212894e27a1844a5f05c2  [[-1.59515772  4.604824    3.719751  ] Mo, [-3...   \n",
       "...                                                                     ...   \n",
       "6142d2644e27a1844a5f0942  [[1.27612629e-07 1.84192955e+00 3.71975100e+00...   \n",
       "6141cf34b842c2e72e2f2d64  [[1.27612629e-07 1.84192955e+00 3.71975100e+00...   \n",
       "61421f664e27a1844a5f0620  [[1.27612629e-07 1.84192955e+00 3.71975100e+00...   \n",
       "6142b79c3ac25c70a5c6cc37  [[1.27612629e-07 1.84192955e+00 3.71975100e+00...   \n",
       "61427604baaf234b352906ea  [[1.27612629e-07 1.84192955e+00 3.71975100e+00...   \n",
       "\n",
       "                          predictions  \n",
       "6141e92431cf3ef3d4a9f0d4     0.349079  \n",
       "614274164e27a1844a5f07fe     1.146499  \n",
       "6141d7903ac25c70a5c6c91d     0.415515  \n",
       "61429a229cbada84a8676d71     1.808593  \n",
       "614212894e27a1844a5f05c2     1.142819  \n",
       "...                               ...  \n",
       "6142d2644e27a1844a5f0942     1.144769  \n",
       "6141cf34b842c2e72e2f2d64     1.807832  \n",
       "61421f664e27a1844a5f0620     1.146976  \n",
       "6142b79c3ac25c70a5c6cc37     0.390912  \n",
       "61427604baaf234b352906ea     1.120964  \n",
       "\n",
       "[2967 rows x 3 columns]"
      ]
     },
     "execution_count": 34,
     "metadata": {},
     "output_type": "execute_result"
    }
   ],
   "source": [
    "private_test"
   ]
  },
  {
   "cell_type": "code",
   "execution_count": 35,
   "id": "c216f7fc",
   "metadata": {
    "execution": {
     "iopub.execute_input": "2022-02-26T19:59:54.789593Z",
     "iopub.status.busy": "2022-02-26T19:59:54.785202Z",
     "iopub.status.idle": "2022-02-26T19:59:55.055069Z",
     "shell.execute_reply": "2022-02-26T19:59:55.055559Z"
    },
    "papermill": {
     "duration": 0.35012,
     "end_time": "2022-02-26T19:59:55.055741",
     "exception": false,
     "start_time": "2022-02-26T19:59:54.705621",
     "status": "completed"
    },
    "tags": []
   },
   "outputs": [
    {
     "data": {
      "text/plain": [
       "<AxesSubplot:xlabel='band_gap', ylabel='Density'>"
      ]
     },
     "execution_count": 35,
     "metadata": {},
     "output_type": "execute_result"
    },
    {
     "data": {
      "image/png": "[encoded data removed]",
      "text/plain": [
       "<Figure size 432x288 with 1 Axes>"
      ]
     },
     "metadata": {
      "needs_background": "light"
     },
     "output_type": "display_data"
    }
   ],
   "source": [
    "sns.distplot(y)"
   ]
  },
  {
   "cell_type": "code",
   "execution_count": 36,
   "id": "f7800d2e",
   "metadata": {
    "execution": {
     "iopub.execute_input": "2022-02-26T19:59:55.178475Z",
     "iopub.status.busy": "2022-02-26T19:59:55.177507Z",
     "iopub.status.idle": "2022-02-26T19:59:55.447161Z",
     "shell.execute_reply": "2022-02-26T19:59:55.447716Z"
    },
    "papermill": {
     "duration": 0.332436,
     "end_time": "2022-02-26T19:59:55.447901",
     "exception": false,
     "start_time": "2022-02-26T19:59:55.115465",
     "status": "completed"
    },
    "tags": []
   },
   "outputs": [
    {
     "data": {
      "text/plain": [
       "<AxesSubplot:xlabel='predictions', ylabel='Density'>"
      ]
     },
     "execution_count": 36,
     "metadata": {},
     "output_type": "execute_result"
    },
    {
     "data": {
      "image/png": "[encoded data removed]",
      "text/plain": [
       "<Figure size 432x288 with 1 Axes>"
      ]
     },
     "metadata": {
      "needs_background": "light"
     },
     "output_type": "display_data"
    }
   ],
   "source": [
    "sns.distplot(private_test['predictions'])"
   ]
  },
  {
   "cell_type": "code",
   "execution_count": 37,
   "id": "971e1c5a",
   "metadata": {
    "execution": {
     "iopub.execute_input": "2022-02-26T19:59:55.576356Z",
     "iopub.status.busy": "2022-02-26T19:59:55.573052Z",
     "iopub.status.idle": "2022-02-26T19:59:55.590165Z",
     "shell.execute_reply": "2022-02-26T19:59:55.589599Z"
    },
    "papermill": {
     "duration": 0.08108,
     "end_time": "2022-02-26T19:59:55.590317",
     "exception": false,
     "start_time": "2022-02-26T19:59:55.509237",
     "status": "completed"
    },
    "tags": []
   },
   "outputs": [],
   "source": [
    "private_test[['predictions']].to_csv('submission.csv', index_label='id')"
   ]
  },
  {
   "cell_type": "code",
   "execution_count": 38,
   "id": "d772c8c5",
   "metadata": {
    "execution": {
     "iopub.execute_input": "2022-02-26T19:59:55.721395Z",
     "iopub.status.busy": "2022-02-26T19:59:55.720697Z",
     "iopub.status.idle": "2022-02-26T19:59:55.730640Z",
     "shell.execute_reply": "2022-02-26T19:59:55.729835Z"
    },
    "papermill": {
     "duration": 0.078595,
     "end_time": "2022-02-26T19:59:55.730793",
     "exception": false,
     "start_time": "2022-02-26T19:59:55.652198",
     "status": "completed"
    },
    "tags": []
   },
   "outputs": [],
   "source": [
    "y2 = pd.qcut(y,2, [i for i in range(1,2+1)])"
   ]
  },
  {
   "cell_type": "code",
   "execution_count": 39,
   "id": "9dc6ac5e",
   "metadata": {
    "execution": {
     "iopub.execute_input": "2022-02-26T19:59:55.867759Z",
     "iopub.status.busy": "2022-02-26T19:59:55.866727Z",
     "iopub.status.idle": "2022-02-26T20:00:34.516536Z",
     "shell.execute_reply": "2022-02-26T20:00:34.517093Z"
    },
    "papermill": {
     "duration": 38.72303,
     "end_time": "2022-02-26T20:00:34.517278",
     "exception": false,
     "start_time": "2022-02-26T19:59:55.794248",
     "status": "completed"
    },
    "tags": []
   },
   "outputs": [
    {
     "name": "stdout",
     "output_type": "stream",
     "text": [
      "LogisticRegression got score of 0.9983153627335752 in 5 folds\n",
      "DecisionTreeClassifier got score of 0.998988763406976 in 5 folds\n",
      "KNeighborsClassifier got score of 0.9973035583490896 in 5 folds\n",
      "SGDClassifier got score of 0.9983153627335752 in 5 folds\n",
      "RandomForestClassifier got score of 0.9986514952788139 in 5 folds\n",
      "AdaBoostClassifier got score of 0.998988763406976 in 5 folds\n",
      "ExtraTreesClassifier got score of 0.9979780946054133 in 5 folds\n",
      "[20:00:02] WARNING: ../src/learner.cc:1115: Starting in XGBoost 1.3.0, the default evaluation metric used with the objective 'binary:logistic' was changed from 'error' to 'logloss'. Explicitly set eval_metric if you'd like to restore the old behavior.\n",
      "[20:00:02] WARNING: ../src/learner.cc:1115: Starting in XGBoost 1.3.0, the default evaluation metric used with the objective 'binary:logistic' was changed from 'error' to 'logloss'. Explicitly set eval_metric if you'd like to restore the old behavior.\n",
      "[20:00:02] WARNING: ../src/learner.cc:1115: Starting in XGBoost 1.3.0, the default evaluation metric used with the objective 'binary:logistic' was changed from 'error' to 'logloss'. Explicitly set eval_metric if you'd like to restore the old behavior.\n",
      "[20:00:03] WARNING: ../src/learner.cc:1115: Starting in XGBoost 1.3.0, the default evaluation metric used with the objective 'binary:logistic' was changed from 'error' to 'logloss'. Explicitly set eval_metric if you'd like to restore the old behavior.\n",
      "[20:00:03] WARNING: ../src/learner.cc:1115: Starting in XGBoost 1.3.0, the default evaluation metric used with the objective 'binary:logistic' was changed from 'error' to 'logloss'. Explicitly set eval_metric if you'd like to restore the old behavior.\n",
      "XGBClassifier got score of 0.9986514952788139 in 5 folds\n",
      "LGBMClassifier got score of 0.9976408264772514 in 5 folds\n",
      "CatBoostClassifier got score of 0.9976408264772514 in 5 folds\n",
      "GradientBoostingClassifier got score of 0.998988763406976 in 5 folds\n",
      "GaussianNB got score of 0.9915700001703375 in 5 folds\n",
      "MLPClassifier got score of 0.9983153627335752 in 5 folds\n"
     ]
    },
    {
     "data": {
      "image/png": "[encoded data removed]",
      "text/plain": [
       "<Figure size 1080x144 with 1 Axes>"
      ]
     },
     "metadata": {
      "needs_background": "light"
     },
     "output_type": "display_data"
    }
   ],
   "source": [
    "gml_ml = AutoML()\n",
    "\n",
    "gml_ml.GMLClassifier(X, y2, metric = accuracy_score, folds = 5)"
   ]
  },
  {
   "cell_type": "code",
   "execution_count": 40,
   "id": "b0628d1c",
   "metadata": {
    "execution": {
     "iopub.execute_input": "2022-02-26T20:00:34.671074Z",
     "iopub.status.busy": "2022-02-26T20:00:34.669886Z",
     "iopub.status.idle": "2022-02-26T20:00:34.675899Z",
     "shell.execute_reply": "2022-02-26T20:00:34.676474Z"
    },
    "papermill": {
     "duration": 0.079934,
     "end_time": "2022-02-26T20:00:34.676658",
     "exception": false,
     "start_time": "2022-02-26T20:00:34.596724",
     "status": "completed"
    },
    "tags": []
   },
   "outputs": [],
   "source": [
    "def fix_ranges(s):\n",
    "    c = s['class']\n",
    "    num = s['y_hat']\n",
    "    if c == 1:\n",
    "        return np.clip(num, 0.0929, 0.403)\n",
    "    elif c == 2:\n",
    "        return np.clip(num, 0.403, 1.141)\n",
    "    else:\n",
    "        return np.clip(num, 1.141, 1.811)        "
   ]
  },
  {
   "cell_type": "code",
   "execution_count": 41,
   "id": "91c530ff",
   "metadata": {
    "execution": {
     "iopub.execute_input": "2022-02-26T20:00:34.828631Z",
     "iopub.status.busy": "2022-02-26T20:00:34.827844Z",
     "iopub.status.idle": "2022-02-26T20:00:34.831478Z",
     "shell.execute_reply": "2022-02-26T20:00:34.832040Z"
    },
    "papermill": {
     "duration": 0.083125,
     "end_time": "2022-02-26T20:00:34.832219",
     "exception": false,
     "start_time": "2022-02-26T20:00:34.749094",
     "status": "completed"
    },
    "tags": []
   },
   "outputs": [],
   "source": [
    "def cross_val(X, y, model, rf, metric, folds):\n",
    "    scores = []\n",
    "    i = 0\n",
    "    for tr_in, val_in in KFold(n_splits = folds).split(X, y):\n",
    "        X_train, y_train, X_val, y_val = X.iloc[tr_in,:], y[tr_in], X.iloc[val_in,:], y[val_in]\n",
    "        \n",
    "        y2 = pd.qcut(y_train, 3, [i for i in range(1,3+1)])\n",
    "        rf.fit(X_train, y2)\n",
    "        \n",
    "        X_train['class'] = rf.predict(X_train)\n",
    "        X_val['class'] = rf.predict(X_val)\n",
    "        \n",
    "        model.fit(X_train, y_train)\n",
    "        \n",
    "        y_hat = model.predict(X_val)\n",
    "        \n",
    "        X_val['y_hat'] = y_hat\n",
    "        X_val['Pred'] = X_val[['class','y_hat']].apply(fix_ranges,axis=1)\n",
    "        \n",
    "        sc = metric(y_val,y_hat)\n",
    "        print(sc)\n",
    "        scores.append(sc)\n",
    "#         if i == 3:\n",
    "#             break\n",
    "        i += 1\n",
    "    return np.mean(scores)"
   ]
  },
  {
   "cell_type": "code",
   "execution_count": 42,
   "id": "63b8bf15",
   "metadata": {
    "execution": {
     "iopub.execute_input": "2022-02-26T20:00:34.976949Z",
     "iopub.status.busy": "2022-02-26T20:00:34.976296Z",
     "iopub.status.idle": "2022-02-26T20:00:38.538091Z",
     "shell.execute_reply": "2022-02-26T20:00:38.539000Z"
    },
    "papermill": {
     "duration": 3.63574,
     "end_time": "2022-02-26T20:00:38.539291",
     "exception": false,
     "start_time": "2022-02-26T20:00:34.903551",
     "status": "completed"
    },
    "tags": []
   },
   "outputs": [
    {
     "name": "stdout",
     "output_type": "stream",
     "text": [
      "tf.Tensor(0.9562289562289562, shape=(), dtype=float64)\n",
      "tf.Tensor(0.9679595278246206, shape=(), dtype=float64)\n",
      "tf.Tensor(0.9494097807757167, shape=(), dtype=float64)\n",
      "tf.Tensor(0.927487352445194, shape=(), dtype=float64)\n",
      "tf.Tensor(0.9460370994940978, shape=(), dtype=float64)\n"
     ]
    },
    {
     "data": {
      "text/plain": [
       "0.949424543353717"
      ]
     },
     "execution_count": 42,
     "metadata": {},
     "output_type": "execute_result"
    }
   ],
   "source": [
    "cross_val(X, y, BayesianRidge(), RandomForestClassifier(), energy_within_threshold, 5)"
   ]
  },
  {
   "cell_type": "code",
   "execution_count": 43,
   "id": "7cc7609c",
   "metadata": {
    "execution": {
     "iopub.execute_input": "2022-02-26T20:00:38.730330Z",
     "iopub.status.busy": "2022-02-26T20:00:38.729685Z",
     "iopub.status.idle": "2022-02-26T20:00:38.733692Z",
     "shell.execute_reply": "2022-02-26T20:00:38.734273Z"
    },
    "papermill": {
     "duration": 0.08104,
     "end_time": "2022-02-26T20:00:38.734457",
     "exception": false,
     "start_time": "2022-02-26T20:00:38.653417",
     "status": "completed"
    },
    "tags": []
   },
   "outputs": [],
   "source": [
    "y2 = pd.qcut(y, 3, [i for i in range(1,3+1)])"
   ]
  },
  {
   "cell_type": "code",
   "execution_count": 44,
   "id": "31943bd2",
   "metadata": {
    "execution": {
     "iopub.execute_input": "2022-02-26T20:00:38.881761Z",
     "iopub.status.busy": "2022-02-26T20:00:38.881123Z",
     "iopub.status.idle": "2022-02-26T20:00:39.574273Z",
     "shell.execute_reply": "2022-02-26T20:00:39.574871Z"
    },
    "papermill": {
     "duration": 0.768877,
     "end_time": "2022-02-26T20:00:39.575069",
     "exception": false,
     "start_time": "2022-02-26T20:00:38.806192",
     "status": "completed"
    },
    "tags": []
   },
   "outputs": [
    {
     "data": {
      "text/plain": [
       "RandomForestClassifier()"
      ]
     },
     "execution_count": 44,
     "metadata": {},
     "output_type": "execute_result"
    }
   ],
   "source": [
    "rf = RandomForestClassifier()\n",
    "rf.fit(X, y2)"
   ]
  },
  {
   "cell_type": "code",
   "execution_count": 45,
   "id": "172b2e4d",
   "metadata": {
    "execution": {
     "iopub.execute_input": "2022-02-26T20:00:39.722727Z",
     "iopub.status.busy": "2022-02-26T20:00:39.722001Z",
     "iopub.status.idle": "2022-02-26T20:00:39.728241Z",
     "shell.execute_reply": "2022-02-26T20:00:39.727686Z"
    },
    "papermill": {
     "duration": 0.082041,
     "end_time": "2022-02-26T20:00:39.728402",
     "exception": false,
     "start_time": "2022-02-26T20:00:39.646361",
     "status": "completed"
    },
    "tags": []
   },
   "outputs": [],
   "source": [
    "def fix_ranges(s):\n",
    "    c = s['class']\n",
    "    num = s['predictions']\n",
    "    if c == 1:\n",
    "        return np.clip(num, 0.0929, 0.403)\n",
    "    elif c == 2:\n",
    "        return np.clip(num, 0.403, 1.141)\n",
    "    else:\n",
    "        return np.clip(num, 1.141, 1.811)        "
   ]
  },
  {
   "cell_type": "code",
   "execution_count": 46,
   "id": "d150145a",
   "metadata": {
    "execution": {
     "iopub.execute_input": "2022-02-26T20:00:39.885568Z",
     "iopub.status.busy": "2022-02-26T20:00:39.884773Z",
     "iopub.status.idle": "2022-02-26T20:00:39.928133Z",
     "shell.execute_reply": "2022-02-26T20:00:39.927247Z"
    },
    "papermill": {
     "duration": 0.123882,
     "end_time": "2022-02-26T20:00:39.928314",
     "exception": false,
     "start_time": "2022-02-26T20:00:39.804432",
     "status": "completed"
    },
    "tags": []
   },
   "outputs": [],
   "source": [
    "private_test['class'] = rf.predict(test)"
   ]
  },
  {
   "cell_type": "code",
   "execution_count": 47,
   "id": "9c1a4006",
   "metadata": {
    "execution": {
     "iopub.execute_input": "2022-02-26T20:00:40.080336Z",
     "iopub.status.busy": "2022-02-26T20:00:40.079580Z",
     "iopub.status.idle": "2022-02-26T20:00:40.082195Z",
     "shell.execute_reply": "2022-02-26T20:00:40.082845Z"
    },
    "papermill": {
     "duration": 0.080237,
     "end_time": "2022-02-26T20:00:40.083057",
     "exception": false,
     "start_time": "2022-02-26T20:00:40.002820",
     "status": "completed"
    },
    "tags": []
   },
   "outputs": [],
   "source": [
    "private_test['predictions'] = pred3"
   ]
  },
  {
   "cell_type": "code",
   "execution_count": 48,
   "id": "93816daa",
   "metadata": {
    "execution": {
     "iopub.execute_input": "2022-02-26T20:00:40.235686Z",
     "iopub.status.busy": "2022-02-26T20:00:40.234940Z",
     "iopub.status.idle": "2022-02-26T20:00:40.237045Z",
     "shell.execute_reply": "2022-02-26T20:00:40.237600Z"
    },
    "papermill": {
     "duration": 0.08269,
     "end_time": "2022-02-26T20:00:40.237783",
     "exception": false,
     "start_time": "2022-02-26T20:00:40.155093",
     "status": "completed"
    },
    "tags": []
   },
   "outputs": [],
   "source": [
    "# private_test['predictions'] = private_test[['predictions', 'class']].apply(fix_ranges, axis=1)"
   ]
  },
  {
   "cell_type": "code",
   "execution_count": 49,
   "id": "4fefacb0",
   "metadata": {
    "execution": {
     "iopub.execute_input": "2022-02-26T20:00:40.391450Z",
     "iopub.status.busy": "2022-02-26T20:00:40.390701Z",
     "iopub.status.idle": "2022-02-26T20:00:40.666153Z",
     "shell.execute_reply": "2022-02-26T20:00:40.666696Z"
    },
    "papermill": {
     "duration": 0.355525,
     "end_time": "2022-02-26T20:00:40.666875",
     "exception": false,
     "start_time": "2022-02-26T20:00:40.311350",
     "status": "completed"
    },
    "tags": []
   },
   "outputs": [
    {
     "data": {
      "text/plain": [
       "<AxesSubplot:xlabel='band_gap', ylabel='Density'>"
      ]
     },
     "execution_count": 49,
     "metadata": {},
     "output_type": "execute_result"
    },
    {
     "data": {
      "image/png": "[encoded data removed]",
      "text/plain": [
       "<Figure size 432x288 with 1 Axes>"
      ]
     },
     "metadata": {
      "needs_background": "light"
     },
     "output_type": "display_data"
    }
   ],
   "source": [
    "sns.distplot(y)"
   ]
  },
  {
   "cell_type": "code",
   "execution_count": 50,
   "id": "a3ed76a1",
   "metadata": {
    "execution": {
     "iopub.execute_input": "2022-02-26T20:00:40.827630Z",
     "iopub.status.busy": "2022-02-26T20:00:40.824458Z",
     "iopub.status.idle": "2022-02-26T20:00:41.092671Z",
     "shell.execute_reply": "2022-02-26T20:00:41.092005Z"
    },
    "papermill": {
     "duration": 0.34978,
     "end_time": "2022-02-26T20:00:41.092828",
     "exception": false,
     "start_time": "2022-02-26T20:00:40.743048",
     "status": "completed"
    },
    "tags": []
   },
   "outputs": [
    {
     "data": {
      "text/plain": [
       "<AxesSubplot:xlabel='predictions', ylabel='Density'>"
      ]
     },
     "execution_count": 50,
     "metadata": {},
     "output_type": "execute_result"
    },
    {
     "data": {
      "image/png": "[encoded data removed]",
      "text/plain": [
       "<Figure size 432x288 with 1 Axes>"
      ]
     },
     "metadata": {
      "needs_background": "light"
     },
     "output_type": "display_data"
    }
   ],
   "source": [
    "sns.distplot(private_test['predictions'])"
   ]
  },
  {
   "cell_type": "code",
   "execution_count": 51,
   "id": "7dcfb5d5",
   "metadata": {
    "execution": {
     "iopub.execute_input": "2022-02-26T20:00:41.250599Z",
     "iopub.status.busy": "2022-02-26T20:00:41.249202Z",
     "iopub.status.idle": "2022-02-26T20:00:41.264039Z",
     "shell.execute_reply": "2022-02-26T20:00:41.264814Z"
    },
    "papermill": {
     "duration": 0.0958,
     "end_time": "2022-02-26T20:00:41.265050",
     "exception": false,
     "start_time": "2022-02-26T20:00:41.169250",
     "status": "completed"
    },
    "tags": []
   },
   "outputs": [],
   "source": [
    "private_test[['predictions']].to_csv('submission.csv', index_label='id')"
   ]
  },
  {
   "cell_type": "code",
   "execution_count": null,
   "id": "0fb989dd",
   "metadata": {
    "papermill": {
     "duration": 0.074262,
     "end_time": "2022-02-26T20:00:41.515104",
     "exception": false,
     "start_time": "2022-02-26T20:00:41.440842",
     "status": "completed"
    },
    "tags": []
   },
   "outputs": [],
   "source": []
  }
 ],
 "metadata": {
  "kernelspec": {
   "display_name": "Python 3",
   "language": "python",
   "name": "python3"
  },
  "language_info": {
   "codemirror_mode": {
    "name": "ipython",
    "version": 3
   },
   "file_extension": ".py",
   "mimetype": "text/x-python",
   "name": "python",
   "nbconvert_exporter": "python",
   "pygments_lexer": "ipython3",
   "version": "3.8.8"
  },
  "papermill": {
   "default_parameters": {},
   "duration": 4492.239133,
   "end_time": "2022-02-26T20:00:44.814034",
   "environment_variables": {},
   "exception": null,
   "input_path": "__notebook__.ipynb",
   "output_path": "__notebook__.ipynb",
   "parameters": {},
   "start_time": "2022-02-26T18:45:52.574901",
   "version": "2.3.3"
  }
 },
 "nbformat": 4,
 "nbformat_minor": 5
}
